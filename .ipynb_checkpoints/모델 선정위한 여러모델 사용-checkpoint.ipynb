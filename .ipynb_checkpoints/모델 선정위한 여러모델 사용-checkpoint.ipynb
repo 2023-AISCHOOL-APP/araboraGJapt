{
 "cells": [
  {
   "cell_type": "code",
   "execution_count": 1,
   "id": "8e1c16c5",
   "metadata": {},
   "outputs": [],
   "source": [
    "import pandas as pd\n",
    "import numpy as np"
   ]
  },
  {
   "cell_type": "code",
   "execution_count": 4,
   "id": "767a613d",
   "metadata": {},
   "outputs": [],
   "source": [
    "data=pd.read_csv('./머신러닝 전처리 데이터.CSV',encoding='EUC-KR')"
   ]
  },
  {
   "cell_type": "code",
   "execution_count": 19,
   "id": "bcba66e5",
   "metadata": {
    "collapsed": true
   },
   "outputs": [
    {
     "data": {
      "text/html": [
       "<div>\n",
       "<style scoped>\n",
       "    .dataframe tbody tr th:only-of-type {\n",
       "        vertical-align: middle;\n",
       "    }\n",
       "\n",
       "    .dataframe tbody tr th {\n",
       "        vertical-align: top;\n",
       "    }\n",
       "\n",
       "    .dataframe thead th {\n",
       "        text-align: right;\n",
       "    }\n",
       "</style>\n",
       "<table border=\"1\" class=\"dataframe\">\n",
       "  <thead>\n",
       "    <tr style=\"text-align: right;\">\n",
       "      <th></th>\n",
       "      <th>시군구</th>\n",
       "      <th>단지명</th>\n",
       "      <th>전용면적(㎡)</th>\n",
       "      <th>계약년월</th>\n",
       "      <th>계약일</th>\n",
       "      <th>계약날짜</th>\n",
       "      <th>층</th>\n",
       "      <th>건축나이</th>\n",
       "      <th>거래건수</th>\n",
       "      <th>기준금리</th>\n",
       "      <th>법정동코드</th>\n",
       "      <th>지하철역수</th>\n",
       "      <th>거래금액(만원)</th>\n",
       "    </tr>\n",
       "  </thead>\n",
       "  <tbody>\n",
       "    <tr>\n",
       "      <th>0</th>\n",
       "      <td>광주광역시 광산구 도산동</td>\n",
       "      <td>대덕1</td>\n",
       "      <td>59.3100</td>\n",
       "      <td>202303</td>\n",
       "      <td>18</td>\n",
       "      <td>2023-03-18</td>\n",
       "      <td>4</td>\n",
       "      <td>33</td>\n",
       "      <td>20</td>\n",
       "      <td>3.5</td>\n",
       "      <td>2920010200</td>\n",
       "      <td>1</td>\n",
       "      <td>9800</td>\n",
       "    </tr>\n",
       "    <tr>\n",
       "      <th>1</th>\n",
       "      <td>광주광역시 광산구 도산동</td>\n",
       "      <td>대주피오레1차</td>\n",
       "      <td>84.9800</td>\n",
       "      <td>202302</td>\n",
       "      <td>7</td>\n",
       "      <td>2023-02-07</td>\n",
       "      <td>2</td>\n",
       "      <td>23</td>\n",
       "      <td>14</td>\n",
       "      <td>3.5</td>\n",
       "      <td>2920010200</td>\n",
       "      <td>1</td>\n",
       "      <td>21000</td>\n",
       "    </tr>\n",
       "    <tr>\n",
       "      <th>2</th>\n",
       "      <td>광주광역시 광산구 도산동</td>\n",
       "      <td>대주피오레1차</td>\n",
       "      <td>84.9800</td>\n",
       "      <td>202305</td>\n",
       "      <td>31</td>\n",
       "      <td>2023-05-31</td>\n",
       "      <td>5</td>\n",
       "      <td>23</td>\n",
       "      <td>16</td>\n",
       "      <td>3.5</td>\n",
       "      <td>2920010200</td>\n",
       "      <td>1</td>\n",
       "      <td>22350</td>\n",
       "    </tr>\n",
       "    <tr>\n",
       "      <th>3</th>\n",
       "      <td>광주광역시 광산구 도산동</td>\n",
       "      <td>대주피오레2차</td>\n",
       "      <td>84.7575</td>\n",
       "      <td>202305</td>\n",
       "      <td>9</td>\n",
       "      <td>2023-05-09</td>\n",
       "      <td>5</td>\n",
       "      <td>22</td>\n",
       "      <td>16</td>\n",
       "      <td>3.5</td>\n",
       "      <td>2920010200</td>\n",
       "      <td>1</td>\n",
       "      <td>22400</td>\n",
       "    </tr>\n",
       "    <tr>\n",
       "      <th>4</th>\n",
       "      <td>광주광역시 광산구 도산동</td>\n",
       "      <td>대주피오레2차</td>\n",
       "      <td>84.7575</td>\n",
       "      <td>202305</td>\n",
       "      <td>13</td>\n",
       "      <td>2023-05-13</td>\n",
       "      <td>13</td>\n",
       "      <td>22</td>\n",
       "      <td>16</td>\n",
       "      <td>3.5</td>\n",
       "      <td>2920010200</td>\n",
       "      <td>1</td>\n",
       "      <td>22000</td>\n",
       "    </tr>\n",
       "    <tr>\n",
       "      <th>...</th>\n",
       "      <td>...</td>\n",
       "      <td>...</td>\n",
       "      <td>...</td>\n",
       "      <td>...</td>\n",
       "      <td>...</td>\n",
       "      <td>...</td>\n",
       "      <td>...</td>\n",
       "      <td>...</td>\n",
       "      <td>...</td>\n",
       "      <td>...</td>\n",
       "      <td>...</td>\n",
       "      <td>...</td>\n",
       "      <td>...</td>\n",
       "    </tr>\n",
       "    <tr>\n",
       "      <th>425074</th>\n",
       "      <td>광주광역시 서구 화정동</td>\n",
       "      <td>화정우미</td>\n",
       "      <td>115.1850</td>\n",
       "      <td>200611</td>\n",
       "      <td>10</td>\n",
       "      <td>2006-11-10</td>\n",
       "      <td>17</td>\n",
       "      <td>10</td>\n",
       "      <td>131</td>\n",
       "      <td>4.5</td>\n",
       "      <td>2914011900</td>\n",
       "      <td>1</td>\n",
       "      <td>19000</td>\n",
       "    </tr>\n",
       "    <tr>\n",
       "      <th>425075</th>\n",
       "      <td>광주광역시 서구 화정동</td>\n",
       "      <td>화정우미</td>\n",
       "      <td>84.8300</td>\n",
       "      <td>200611</td>\n",
       "      <td>27</td>\n",
       "      <td>2006-11-27</td>\n",
       "      <td>6</td>\n",
       "      <td>10</td>\n",
       "      <td>131</td>\n",
       "      <td>4.5</td>\n",
       "      <td>2914011900</td>\n",
       "      <td>1</td>\n",
       "      <td>12000</td>\n",
       "    </tr>\n",
       "    <tr>\n",
       "      <th>425076</th>\n",
       "      <td>광주광역시 서구 화정동</td>\n",
       "      <td>화정우미</td>\n",
       "      <td>59.8300</td>\n",
       "      <td>200611</td>\n",
       "      <td>30</td>\n",
       "      <td>2006-11-30</td>\n",
       "      <td>2</td>\n",
       "      <td>10</td>\n",
       "      <td>131</td>\n",
       "      <td>4.5</td>\n",
       "      <td>2914011900</td>\n",
       "      <td>1</td>\n",
       "      <td>7700</td>\n",
       "    </tr>\n",
       "    <tr>\n",
       "      <th>425077</th>\n",
       "      <td>광주광역시 서구 화정동</td>\n",
       "      <td>화정우미</td>\n",
       "      <td>84.8400</td>\n",
       "      <td>200612</td>\n",
       "      <td>6</td>\n",
       "      <td>2006-12-06</td>\n",
       "      <td>16</td>\n",
       "      <td>10</td>\n",
       "      <td>124</td>\n",
       "      <td>4.5</td>\n",
       "      <td>2914011900</td>\n",
       "      <td>1</td>\n",
       "      <td>12170</td>\n",
       "    </tr>\n",
       "    <tr>\n",
       "      <th>425078</th>\n",
       "      <td>광주광역시 서구 화정동</td>\n",
       "      <td>화정우미</td>\n",
       "      <td>115.1850</td>\n",
       "      <td>200612</td>\n",
       "      <td>12</td>\n",
       "      <td>2006-12-12</td>\n",
       "      <td>14</td>\n",
       "      <td>10</td>\n",
       "      <td>124</td>\n",
       "      <td>4.5</td>\n",
       "      <td>2914011900</td>\n",
       "      <td>1</td>\n",
       "      <td>17500</td>\n",
       "    </tr>\n",
       "  </tbody>\n",
       "</table>\n",
       "<p>425079 rows × 13 columns</p>\n",
       "</div>"
      ],
      "text/plain": [
       "                  시군구      단지명   전용면적(㎡)    계약년월  계약일        계약날짜   층  건축나이  \\\n",
       "0       광주광역시 광산구 도산동      대덕1   59.3100  202303   18  2023-03-18   4    33   \n",
       "1       광주광역시 광산구 도산동  대주피오레1차   84.9800  202302    7  2023-02-07   2    23   \n",
       "2       광주광역시 광산구 도산동  대주피오레1차   84.9800  202305   31  2023-05-31   5    23   \n",
       "3       광주광역시 광산구 도산동  대주피오레2차   84.7575  202305    9  2023-05-09   5    22   \n",
       "4       광주광역시 광산구 도산동  대주피오레2차   84.7575  202305   13  2023-05-13  13    22   \n",
       "...               ...      ...       ...     ...  ...         ...  ..   ...   \n",
       "425074   광주광역시 서구 화정동     화정우미  115.1850  200611   10  2006-11-10  17    10   \n",
       "425075   광주광역시 서구 화정동     화정우미   84.8300  200611   27  2006-11-27   6    10   \n",
       "425076   광주광역시 서구 화정동     화정우미   59.8300  200611   30  2006-11-30   2    10   \n",
       "425077   광주광역시 서구 화정동     화정우미   84.8400  200612    6  2006-12-06  16    10   \n",
       "425078   광주광역시 서구 화정동     화정우미  115.1850  200612   12  2006-12-12  14    10   \n",
       "\n",
       "        거래건수  기준금리       법정동코드  지하철역수  거래금액(만원)  \n",
       "0         20   3.5  2920010200      1      9800  \n",
       "1         14   3.5  2920010200      1     21000  \n",
       "2         16   3.5  2920010200      1     22350  \n",
       "3         16   3.5  2920010200      1     22400  \n",
       "4         16   3.5  2920010200      1     22000  \n",
       "...      ...   ...         ...    ...       ...  \n",
       "425074   131   4.5  2914011900      1     19000  \n",
       "425075   131   4.5  2914011900      1     12000  \n",
       "425076   131   4.5  2914011900      1      7700  \n",
       "425077   124   4.5  2914011900      1     12170  \n",
       "425078   124   4.5  2914011900      1     17500  \n",
       "\n",
       "[425079 rows x 13 columns]"
      ]
     },
     "execution_count": 19,
     "metadata": {},
     "output_type": "execute_result"
    }
   ],
   "source": [
    "data"
   ]
  },
  {
   "cell_type": "code",
   "execution_count": 5,
   "id": "961f9ac4",
   "metadata": {
    "scrolled": true
   },
   "outputs": [
    {
     "name": "stdout",
     "output_type": "stream",
     "text": [
      "Collecting xgboost\n",
      "  Downloading xgboost-1.7.6-py3-none-win_amd64.whl (70.9 MB)\n",
      "                                              0.0/70.9 MB ? eta -:--:--\n",
      "                                              0.3/70.9 MB 7.9 MB/s eta 0:00:09\n",
      "                                              1.0/70.9 MB 10.9 MB/s eta 0:00:07\n",
      "                                              1.8/70.9 MB 12.3 MB/s eta 0:00:06\n",
      "     -                                        2.6/70.9 MB 15.3 MB/s eta 0:00:05\n",
      "     -                                        3.1/70.9 MB 13.3 MB/s eta 0:00:06\n",
      "     --                                       4.1/70.9 MB 15.4 MB/s eta 0:00:05\n",
      "     --                                       5.1/70.9 MB 15.4 MB/s eta 0:00:05\n",
      "     ---                                      5.4/70.9 MB 14.5 MB/s eta 0:00:05\n",
      "     ---                                      6.2/70.9 MB 14.8 MB/s eta 0:00:05\n",
      "     ----                                     7.4/70.9 MB 15.8 MB/s eta 0:00:05\n",
      "     ----                                     8.1/70.9 MB 15.6 MB/s eta 0:00:05\n",
      "     -----                                    9.1/70.9 MB 16.2 MB/s eta 0:00:04\n",
      "     -----                                   10.3/70.9 MB 16.4 MB/s eta 0:00:04\n",
      "     ------                                  11.1/70.9 MB 17.2 MB/s eta 0:00:04\n",
      "     ------                                  12.1/70.9 MB 18.2 MB/s eta 0:00:04\n",
      "     -------                                 13.0/70.9 MB 18.2 MB/s eta 0:00:04\n",
      "     -------                                 14.0/70.9 MB 18.7 MB/s eta 0:00:04\n",
      "     --------                                15.0/70.9 MB 19.3 MB/s eta 0:00:03\n",
      "     --------                                16.0/70.9 MB 21.1 MB/s eta 0:00:03\n",
      "     ---------                               16.9/70.9 MB 21.1 MB/s eta 0:00:03\n",
      "     ---------                               17.9/70.9 MB 20.5 MB/s eta 0:00:03\n",
      "     ----------                              18.7/70.9 MB 20.5 MB/s eta 0:00:03\n",
      "     ----------                              19.7/70.9 MB 20.5 MB/s eta 0:00:03\n",
      "     -----------                             20.7/70.9 MB 20.5 MB/s eta 0:00:03\n",
      "     -----------                             21.8/70.9 MB 21.1 MB/s eta 0:00:03\n",
      "     ------------                            22.9/70.9 MB 21.1 MB/s eta 0:00:03\n",
      "     -------------                           23.7/70.9 MB 21.1 MB/s eta 0:00:03\n",
      "     -------------                           24.7/70.9 MB 21.1 MB/s eta 0:00:03\n",
      "     --------------                          25.8/70.9 MB 21.1 MB/s eta 0:00:03\n",
      "     --------------                          26.8/70.9 MB 21.9 MB/s eta 0:00:03\n",
      "     ---------------                         27.8/70.9 MB 21.8 MB/s eta 0:00:02\n",
      "     ---------------                         28.9/70.9 MB 21.8 MB/s eta 0:00:02\n",
      "     ----------------                        29.9/70.9 MB 22.6 MB/s eta 0:00:02\n",
      "     -----------------                       31.2/70.9 MB 22.6 MB/s eta 0:00:02\n",
      "     -----------------                       31.9/70.9 MB 21.8 MB/s eta 0:00:02\n",
      "     ------------------                      33.2/70.9 MB 23.4 MB/s eta 0:00:02\n",
      "     ------------------                      34.2/70.9 MB 22.6 MB/s eta 0:00:02\n",
      "     -------------------                     35.2/70.9 MB 22.6 MB/s eta 0:00:02\n",
      "     -------------------                     36.1/70.9 MB 22.6 MB/s eta 0:00:02\n",
      "     --------------------                    36.5/70.9 MB 21.1 MB/s eta 0:00:02\n",
      "     --------------------                    37.4/70.9 MB 20.5 MB/s eta 0:00:02\n",
      "     ---------------------                   38.3/70.9 MB 20.5 MB/s eta 0:00:02\n",
      "     ---------------------                   39.2/70.9 MB 19.9 MB/s eta 0:00:02\n",
      "     ----------------------                  40.3/70.9 MB 20.5 MB/s eta 0:00:02\n",
      "     ----------------------                  41.5/70.9 MB 20.5 MB/s eta 0:00:02\n",
      "     -----------------------                 42.6/70.9 MB 21.1 MB/s eta 0:00:02\n",
      "     ------------------------                43.9/70.9 MB 21.1 MB/s eta 0:00:02\n",
      "     ------------------------                44.9/70.9 MB 21.1 MB/s eta 0:00:02\n",
      "     -------------------------               46.0/70.9 MB 21.1 MB/s eta 0:00:02\n",
      "     -------------------------               47.2/70.9 MB 23.4 MB/s eta 0:00:02\n",
      "     --------------------------              48.4/70.9 MB 24.2 MB/s eta 0:00:01\n",
      "     ---------------------------             49.7/70.9 MB 26.2 MB/s eta 0:00:01\n",
      "     ---------------------------             50.7/70.9 MB 25.2 MB/s eta 0:00:01\n",
      "     ----------------------------            51.8/70.9 MB 25.2 MB/s eta 0:00:01\n",
      "     -----------------------------           53.0/70.9 MB 25.2 MB/s eta 0:00:01\n",
      "     -----------------------------           54.3/70.9 MB 25.2 MB/s eta 0:00:01\n",
      "     ------------------------------          55.0/70.9 MB 24.2 MB/s eta 0:00:01\n",
      "     ------------------------------          56.3/70.9 MB 25.2 MB/s eta 0:00:01\n",
      "     -------------------------------         56.9/70.9 MB 24.2 MB/s eta 0:00:01\n",
      "     -------------------------------         57.9/70.9 MB 23.4 MB/s eta 0:00:01\n",
      "     --------------------------------        59.0/70.9 MB 22.6 MB/s eta 0:00:01\n",
      "     --------------------------------        59.9/70.9 MB 21.9 MB/s eta 0:00:01\n",
      "     ---------------------------------       61.0/70.9 MB 22.6 MB/s eta 0:00:01\n",
      "     ---------------------------------       61.8/70.9 MB 21.8 MB/s eta 0:00:01\n",
      "     ----------------------------------      62.9/70.9 MB 21.8 MB/s eta 0:00:01\n",
      "     -----------------------------------     63.9/70.9 MB 21.1 MB/s eta 0:00:01\n",
      "     -----------------------------------     65.4/70.9 MB 22.6 MB/s eta 0:00:01\n",
      "     ------------------------------------    66.4/70.9 MB 21.8 MB/s eta 0:00:01\n",
      "     -------------------------------------   67.7/70.9 MB 23.4 MB/s eta 0:00:01\n",
      "     -------------------------------------   68.6/70.9 MB 23.4 MB/s eta 0:00:01\n",
      "     --------------------------------------  69.7/70.9 MB 23.4 MB/s eta 0:00:01\n",
      "     --------------------------------------  70.4/70.9 MB 22.6 MB/s eta 0:00:01\n",
      "     --------------------------------------  70.9/70.9 MB 21.9 MB/s eta 0:00:01\n",
      "     --------------------------------------  70.9/70.9 MB 21.9 MB/s eta 0:00:01\n",
      "     --------------------------------------  70.9/70.9 MB 21.9 MB/s eta 0:00:01\n",
      "     --------------------------------------- 70.9/70.9 MB 15.6 MB/s eta 0:00:00\n",
      "Requirement already satisfied: numpy in c:\\users\\gjaischool1\\anaconda3\\envs\\machine\\lib\\site-packages (from xgboost) (1.24.4)\n",
      "Requirement already satisfied: scipy in c:\\users\\gjaischool1\\anaconda3\\envs\\machine\\lib\\site-packages (from xgboost) (1.10.1)\n",
      "Installing collected packages: xgboost\n",
      "Successfully installed xgboost-1.7.6\n",
      "Note: you may need to restart the kernel to use updated packages.\n"
     ]
    }
   ],
   "source": [
    "pip install xgboost"
   ]
  },
  {
   "cell_type": "code",
   "execution_count": 6,
   "id": "e40000a3",
   "metadata": {},
   "outputs": [
    {
     "name": "stdout",
     "output_type": "stream",
     "text": [
      "Collecting lightgbm\n",
      "  Downloading lightgbm-4.0.0-py3-none-win_amd64.whl (1.3 MB)\n",
      "                                              0.0/1.3 MB ? eta -:--:--\n",
      "     -------------                            0.5/1.3 MB 14.2 MB/s eta 0:00:01\n",
      "     -----------------------------            1.0/1.3 MB 12.3 MB/s eta 0:00:01\n",
      "     ---------------------------------------- 1.3/1.3 MB 10.4 MB/s eta 0:00:00\n",
      "Requirement already satisfied: numpy in c:\\users\\gjaischool1\\anaconda3\\envs\\machine\\lib\\site-packages (from lightgbm) (1.24.4)\n",
      "Requirement already satisfied: scipy in c:\\users\\gjaischool1\\anaconda3\\envs\\machine\\lib\\site-packages (from lightgbm) (1.10.1)\n",
      "Installing collected packages: lightgbm\n",
      "Successfully installed lightgbm-4.0.0\n",
      "Note: you may need to restart the kernel to use updated packages.\n"
     ]
    }
   ],
   "source": [
    "pip install lightgbm"
   ]
  },
  {
   "cell_type": "code",
   "execution_count": 7,
   "id": "dd78ecf1",
   "metadata": {},
   "outputs": [
    {
     "name": "stdout",
     "output_type": "stream",
     "text": [
      "Collecting tqdm\n",
      "  Downloading tqdm-4.65.2-py3-none-any.whl (77 kB)\n",
      "                                              0.0/77.1 kB ? eta -:--:--\n",
      "     ---------------------------------------- 77.1/77.1 kB 2.2 MB/s eta 0:00:00\n",
      "Requirement already satisfied: colorama in c:\\users\\gjaischool1\\anaconda3\\envs\\machine\\lib\\site-packages (from tqdm) (0.4.6)\n",
      "Installing collected packages: tqdm\n",
      "Successfully installed tqdm-4.65.2\n",
      "Note: you may need to restart the kernel to use updated packages.\n"
     ]
    }
   ],
   "source": [
    "pip install tqdm"
   ]
  },
  {
   "cell_type": "code",
   "execution_count": 8,
   "id": "2e82f6d1",
   "metadata": {},
   "outputs": [],
   "source": [
    "from sklearn.linear_model import LinearRegression, ElasticNet, Lasso, Ridge\n",
    "from sklearn.tree import DecisionTreeRegressor\n",
    "from sklearn.ensemble import RandomForestRegressor\n",
    "from sklearn.preprocessing import  LabelEncoder\n",
    "from sklearn.model_selection import TimeSeriesSplit\n",
    "import xgboost as xgb\n",
    "import lightgbm as lgb\n",
    "\n",
    "from sklearn.metrics import mean_squared_error,r2_score\n",
    "from sklearn.model_selection import train_test_split\n",
    "\n",
    "from tqdm import tqdm\n",
    "import re"
   ]
  },
  {
   "cell_type": "code",
   "execution_count": 13,
   "id": "c2e5733e",
   "metadata": {
    "collapsed": true
   },
   "outputs": [
    {
     "data": {
      "text/html": [
       "<div>\n",
       "<style scoped>\n",
       "    .dataframe tbody tr th:only-of-type {\n",
       "        vertical-align: middle;\n",
       "    }\n",
       "\n",
       "    .dataframe tbody tr th {\n",
       "        vertical-align: top;\n",
       "    }\n",
       "\n",
       "    .dataframe thead th {\n",
       "        text-align: right;\n",
       "    }\n",
       "</style>\n",
       "<table border=\"1\" class=\"dataframe\">\n",
       "  <thead>\n",
       "    <tr style=\"text-align: right;\">\n",
       "      <th></th>\n",
       "      <th>시군구</th>\n",
       "      <th>단지명</th>\n",
       "      <th>전용면적(㎡)</th>\n",
       "      <th>계약년월</th>\n",
       "      <th>계약일</th>\n",
       "      <th>계약날짜</th>\n",
       "      <th>층</th>\n",
       "      <th>건축나이</th>\n",
       "      <th>거래건수</th>\n",
       "      <th>기준금리</th>\n",
       "      <th>법정동코드</th>\n",
       "      <th>지하철역수</th>\n",
       "      <th>거래금액(만원)</th>\n",
       "    </tr>\n",
       "  </thead>\n",
       "  <tbody>\n",
       "    <tr>\n",
       "      <th>0</th>\n",
       "      <td>광주광역시 광산구 도산동</td>\n",
       "      <td>대덕1</td>\n",
       "      <td>59.31</td>\n",
       "      <td>202303</td>\n",
       "      <td>18</td>\n",
       "      <td>2023-03-18</td>\n",
       "      <td>4</td>\n",
       "      <td>33</td>\n",
       "      <td>20</td>\n",
       "      <td>3.5</td>\n",
       "      <td>2920010200</td>\n",
       "      <td>1</td>\n",
       "      <td>9800</td>\n",
       "    </tr>\n",
       "    <tr>\n",
       "      <th>1</th>\n",
       "      <td>광주광역시 광산구 도산동</td>\n",
       "      <td>대주피오레1차</td>\n",
       "      <td>84.98</td>\n",
       "      <td>202302</td>\n",
       "      <td>7</td>\n",
       "      <td>2023-02-07</td>\n",
       "      <td>2</td>\n",
       "      <td>23</td>\n",
       "      <td>14</td>\n",
       "      <td>3.5</td>\n",
       "      <td>2920010200</td>\n",
       "      <td>1</td>\n",
       "      <td>21000</td>\n",
       "    </tr>\n",
       "  </tbody>\n",
       "</table>\n",
       "</div>"
      ],
      "text/plain": [
       "             시군구      단지명  전용면적(㎡)    계약년월  계약일        계약날짜  층  건축나이  거래건수  \\\n",
       "0  광주광역시 광산구 도산동      대덕1    59.31  202303   18  2023-03-18  4    33    20   \n",
       "1  광주광역시 광산구 도산동  대주피오레1차    84.98  202302    7  2023-02-07  2    23    14   \n",
       "\n",
       "   기준금리       법정동코드  지하철역수  거래금액(만원)  \n",
       "0   3.5  2920010200      1      9800  \n",
       "1   3.5  2920010200      1     21000  "
      ]
     },
     "execution_count": 13,
     "metadata": {},
     "output_type": "execute_result"
    }
   ],
   "source": [
    "data.head(2)"
   ]
  },
  {
   "cell_type": "code",
   "execution_count": 5,
   "id": "e5026465",
   "metadata": {
    "collapsed": true
   },
   "outputs": [
    {
     "data": {
      "text/html": [
       "<div>\n",
       "<style scoped>\n",
       "    .dataframe tbody tr th:only-of-type {\n",
       "        vertical-align: middle;\n",
       "    }\n",
       "\n",
       "    .dataframe tbody tr th {\n",
       "        vertical-align: top;\n",
       "    }\n",
       "\n",
       "    .dataframe thead th {\n",
       "        text-align: right;\n",
       "    }\n",
       "</style>\n",
       "<table border=\"1\" class=\"dataframe\">\n",
       "  <thead>\n",
       "    <tr style=\"text-align: right;\">\n",
       "      <th></th>\n",
       "      <th>시군구</th>\n",
       "      <th>단지명</th>\n",
       "      <th>전용면적(㎡)</th>\n",
       "      <th>계약년월</th>\n",
       "      <th>계약일</th>\n",
       "      <th>계약날짜</th>\n",
       "      <th>층</th>\n",
       "      <th>건축나이</th>\n",
       "      <th>거래건수</th>\n",
       "      <th>기준금리</th>\n",
       "      <th>법정동코드</th>\n",
       "      <th>지하철역수</th>\n",
       "      <th>거래금액(만원)</th>\n",
       "    </tr>\n",
       "  </thead>\n",
       "  <tbody>\n",
       "    <tr>\n",
       "      <th>2104</th>\n",
       "      <td>광주광역시 남구 봉선동</td>\n",
       "      <td>금호2</td>\n",
       "      <td>122.8100</td>\n",
       "      <td>202301</td>\n",
       "      <td>12</td>\n",
       "      <td>2023-01-12</td>\n",
       "      <td>15</td>\n",
       "      <td>28</td>\n",
       "      <td>29</td>\n",
       "      <td>3.5</td>\n",
       "      <td>2915511500</td>\n",
       "      <td>0</td>\n",
       "      <td>64000</td>\n",
       "    </tr>\n",
       "    <tr>\n",
       "      <th>2105</th>\n",
       "      <td>광주광역시 남구 봉선동</td>\n",
       "      <td>금호2</td>\n",
       "      <td>122.8100</td>\n",
       "      <td>202301</td>\n",
       "      <td>15</td>\n",
       "      <td>2023-01-15</td>\n",
       "      <td>1</td>\n",
       "      <td>28</td>\n",
       "      <td>29</td>\n",
       "      <td>3.5</td>\n",
       "      <td>2915511500</td>\n",
       "      <td>0</td>\n",
       "      <td>60500</td>\n",
       "    </tr>\n",
       "    <tr>\n",
       "      <th>2106</th>\n",
       "      <td>광주광역시 남구 봉선동</td>\n",
       "      <td>금호2</td>\n",
       "      <td>84.9600</td>\n",
       "      <td>202301</td>\n",
       "      <td>21</td>\n",
       "      <td>2023-01-21</td>\n",
       "      <td>6</td>\n",
       "      <td>28</td>\n",
       "      <td>29</td>\n",
       "      <td>3.5</td>\n",
       "      <td>2915511500</td>\n",
       "      <td>0</td>\n",
       "      <td>49500</td>\n",
       "    </tr>\n",
       "    <tr>\n",
       "      <th>2107</th>\n",
       "      <td>광주광역시 남구 봉선동</td>\n",
       "      <td>금호2</td>\n",
       "      <td>84.8300</td>\n",
       "      <td>202303</td>\n",
       "      <td>25</td>\n",
       "      <td>2023-03-25</td>\n",
       "      <td>6</td>\n",
       "      <td>28</td>\n",
       "      <td>27</td>\n",
       "      <td>3.5</td>\n",
       "      <td>2915511500</td>\n",
       "      <td>0</td>\n",
       "      <td>49500</td>\n",
       "    </tr>\n",
       "    <tr>\n",
       "      <th>2108</th>\n",
       "      <td>광주광역시 남구 봉선동</td>\n",
       "      <td>금호2</td>\n",
       "      <td>84.8300</td>\n",
       "      <td>202304</td>\n",
       "      <td>18</td>\n",
       "      <td>2023-04-18</td>\n",
       "      <td>13</td>\n",
       "      <td>28</td>\n",
       "      <td>27</td>\n",
       "      <td>3.5</td>\n",
       "      <td>2915511500</td>\n",
       "      <td>0</td>\n",
       "      <td>49000</td>\n",
       "    </tr>\n",
       "    <tr>\n",
       "      <th>...</th>\n",
       "      <td>...</td>\n",
       "      <td>...</td>\n",
       "      <td>...</td>\n",
       "      <td>...</td>\n",
       "      <td>...</td>\n",
       "      <td>...</td>\n",
       "      <td>...</td>\n",
       "      <td>...</td>\n",
       "      <td>...</td>\n",
       "      <td>...</td>\n",
       "      <td>...</td>\n",
       "      <td>...</td>\n",
       "      <td>...</td>\n",
       "    </tr>\n",
       "    <tr>\n",
       "      <th>406940</th>\n",
       "      <td>광주광역시 남구 봉선동</td>\n",
       "      <td>포스코더샵</td>\n",
       "      <td>59.8900</td>\n",
       "      <td>200612</td>\n",
       "      <td>23</td>\n",
       "      <td>2006-12-23</td>\n",
       "      <td>5</td>\n",
       "      <td>2</td>\n",
       "      <td>100</td>\n",
       "      <td>4.5</td>\n",
       "      <td>2915511500</td>\n",
       "      <td>0</td>\n",
       "      <td>13650</td>\n",
       "    </tr>\n",
       "    <tr>\n",
       "      <th>406941</th>\n",
       "      <td>광주광역시 남구 봉선동</td>\n",
       "      <td>포스코더샵</td>\n",
       "      <td>59.8900</td>\n",
       "      <td>200612</td>\n",
       "      <td>27</td>\n",
       "      <td>2006-12-27</td>\n",
       "      <td>17</td>\n",
       "      <td>2</td>\n",
       "      <td>100</td>\n",
       "      <td>4.5</td>\n",
       "      <td>2915511500</td>\n",
       "      <td>0</td>\n",
       "      <td>13000</td>\n",
       "    </tr>\n",
       "    <tr>\n",
       "      <th>406942</th>\n",
       "      <td>광주광역시 남구 봉선동</td>\n",
       "      <td>포스코더샵</td>\n",
       "      <td>84.3200</td>\n",
       "      <td>200612</td>\n",
       "      <td>27</td>\n",
       "      <td>2006-12-27</td>\n",
       "      <td>8</td>\n",
       "      <td>2</td>\n",
       "      <td>100</td>\n",
       "      <td>4.5</td>\n",
       "      <td>2915511500</td>\n",
       "      <td>0</td>\n",
       "      <td>23900</td>\n",
       "    </tr>\n",
       "    <tr>\n",
       "      <th>406943</th>\n",
       "      <td>광주광역시 남구 봉선동</td>\n",
       "      <td>포스코더샵</td>\n",
       "      <td>150.9700</td>\n",
       "      <td>200612</td>\n",
       "      <td>27</td>\n",
       "      <td>2006-12-27</td>\n",
       "      <td>2</td>\n",
       "      <td>2</td>\n",
       "      <td>100</td>\n",
       "      <td>4.5</td>\n",
       "      <td>2915511500</td>\n",
       "      <td>0</td>\n",
       "      <td>41000</td>\n",
       "    </tr>\n",
       "    <tr>\n",
       "      <th>406944</th>\n",
       "      <td>광주광역시 남구 봉선동</td>\n",
       "      <td>한국아델리움2단지</td>\n",
       "      <td>129.6596</td>\n",
       "      <td>200611</td>\n",
       "      <td>11</td>\n",
       "      <td>2006-11-11</td>\n",
       "      <td>7</td>\n",
       "      <td>0</td>\n",
       "      <td>109</td>\n",
       "      <td>4.5</td>\n",
       "      <td>2915511500</td>\n",
       "      <td>0</td>\n",
       "      <td>26293</td>\n",
       "    </tr>\n",
       "  </tbody>\n",
       "</table>\n",
       "<p>16043 rows × 13 columns</p>\n",
       "</div>"
      ],
      "text/plain": [
       "                 시군구        단지명   전용면적(㎡)    계약년월  계약일        계약날짜   층  건축나이  \\\n",
       "2104    광주광역시 남구 봉선동        금호2  122.8100  202301   12  2023-01-12  15    28   \n",
       "2105    광주광역시 남구 봉선동        금호2  122.8100  202301   15  2023-01-15   1    28   \n",
       "2106    광주광역시 남구 봉선동        금호2   84.9600  202301   21  2023-01-21   6    28   \n",
       "2107    광주광역시 남구 봉선동        금호2   84.8300  202303   25  2023-03-25   6    28   \n",
       "2108    광주광역시 남구 봉선동        금호2   84.8300  202304   18  2023-04-18  13    28   \n",
       "...              ...        ...       ...     ...  ...         ...  ..   ...   \n",
       "406940  광주광역시 남구 봉선동      포스코더샵   59.8900  200612   23  2006-12-23   5     2   \n",
       "406941  광주광역시 남구 봉선동      포스코더샵   59.8900  200612   27  2006-12-27  17     2   \n",
       "406942  광주광역시 남구 봉선동      포스코더샵   84.3200  200612   27  2006-12-27   8     2   \n",
       "406943  광주광역시 남구 봉선동      포스코더샵  150.9700  200612   27  2006-12-27   2     2   \n",
       "406944  광주광역시 남구 봉선동  한국아델리움2단지  129.6596  200611   11  2006-11-11   7     0   \n",
       "\n",
       "        거래건수  기준금리       법정동코드  지하철역수  거래금액(만원)  \n",
       "2104      29   3.5  2915511500      0     64000  \n",
       "2105      29   3.5  2915511500      0     60500  \n",
       "2106      29   3.5  2915511500      0     49500  \n",
       "2107      27   3.5  2915511500      0     49500  \n",
       "2108      27   3.5  2915511500      0     49000  \n",
       "...      ...   ...         ...    ...       ...  \n",
       "406940   100   4.5  2915511500      0     13650  \n",
       "406941   100   4.5  2915511500      0     13000  \n",
       "406942   100   4.5  2915511500      0     23900  \n",
       "406943   100   4.5  2915511500      0     41000  \n",
       "406944   109   4.5  2915511500      0     26293  \n",
       "\n",
       "[16043 rows x 13 columns]"
      ]
     },
     "execution_count": 5,
     "metadata": {},
     "output_type": "execute_result"
    }
   ],
   "source": [
    "data[data['시군구']=='광주광역시 남구 봉선동']"
   ]
  },
  {
   "cell_type": "code",
   "execution_count": 6,
   "id": "7a893b3b",
   "metadata": {
    "collapsed": true
   },
   "outputs": [
    {
     "data": {
      "text/plain": [
       "0         광주광역시 광산구 도산동\n",
       "1         광주광역시 광산구 도산동\n",
       "2         광주광역시 광산구 도산동\n",
       "3         광주광역시 광산구 도산동\n",
       "4         광주광역시 광산구 도산동\n",
       "              ...      \n",
       "425074     광주광역시 서구 화정동\n",
       "425075     광주광역시 서구 화정동\n",
       "425076     광주광역시 서구 화정동\n",
       "425077     광주광역시 서구 화정동\n",
       "425078     광주광역시 서구 화정동\n",
       "Name: 시군구, Length: 425079, dtype: object"
      ]
     },
     "execution_count": 6,
     "metadata": {},
     "output_type": "execute_result"
    }
   ],
   "source": [
    "data['시군구']"
   ]
  },
  {
   "cell_type": "code",
   "execution_count": 9,
   "id": "2b1a7f96",
   "metadata": {},
   "outputs": [],
   "source": [
    "X = data[['전용면적(㎡)', '계약년월','층', '건축나이','거래건수','기준금리','법정동코드','지하철역수']]\n",
    "y = data['거래금액(만원)']\n",
    "X_train, X_test, y_train, y_test = train_test_split(X, y, test_size=0.2, random_state=42)"
   ]
  },
  {
   "cell_type": "code",
   "execution_count": 7,
   "id": "4f266118",
   "metadata": {},
   "outputs": [],
   "source": [
    "# dacon 하이퍼파라미터튜닝 모델. 연습용\n",
    "lrmodel = LinearRegression(n_jobs=-1)\n",
    "ridge = Ridge(alpha=0.8, random_state=1)\n",
    "lasso = Lasso(alpha = 0.01, random_state=1)\n",
    "enet = ElasticNet(alpha=0.03, l1_ratio=0.01, random_state=1)\n",
    "d_tree = DecisionTreeRegressor(max_depth=6, min_samples_split=10, min_samples_leaf=15, random_state=1)\n",
    "rf = RandomForestRegressor(n_estimators=100,  max_depth=9, min_samples_split=50,\n",
    "                           min_samples_leaf=5, random_state=1, n_jobs=-1)\n",
    "model_xgb = xgb.XGBRegressor(n_estimators=100, max_depth=9, min_child_weight=5, gamma=0.1, n_jobs=-1 )\n",
    "model_lgb = lgb.LGBMRegressor(n_estimators=100, max_depth=9, min_child_weight=5, n_jobs=-1,num_leaves=20)"
   ]
  },
  {
   "cell_type": "code",
   "execution_count": 10,
   "id": "0ffcae84",
   "metadata": {},
   "outputs": [],
   "source": [
    "# 특성없음\n",
    "rf = RandomForestRegressor()"
   ]
  },
  {
   "cell_type": "code",
   "execution_count": 11,
   "id": "0ceec623",
   "metadata": {},
   "outputs": [],
   "source": [
    "def print_rmse_r2_score(model):\n",
    "    # cv별 프린팅, 평균 저장\n",
    "    model_name, rmse_list, r2_list = rmse_r2_cv(model)\n",
    "    for i, (rmse, r2) in enumerate(zip(rmse_list, r2_list), start=1):\n",
    "         print(f'{i} FOLDS: {model_name} RMSE: {rmse:.4f}, R2: {r2:.4f}')\n",
    "    print(f'\\n{model_name} mean RMSE: {np.mean(rmse_list):.4f}, mean R2: {np.mean(r2_list):.4f}')\n",
    "    print('='*40)\n",
    "    return model_name, np.mean(rmse_list), np.mean(r2_list)\n",
    "\n",
    "def rmse_r2_cv(model):\n",
    "    # cv별로 학습하는 함수\n",
    "    tscv = TimeSeriesSplit(n_splits=10)\n",
    "    rmse_list = []\n",
    "    r2_list = []\n",
    "    model_name = model.__class__.__name__\n",
    "    for _, (train_index, test_index) in tqdm(enumerate(tscv.split(X), start=1), desc=f'{model_name} Cross Validations...', total=10):\n",
    "        X_train, X_test = X.iloc[train_index], X.iloc[test_index]\n",
    "        y_train, y_test = y.iloc[train_index], y.iloc[test_index]\n",
    "        clf = model.fit(X_train, y_train)\n",
    "        pred = clf.predict(X_test)\n",
    "        rmse = RMSE(y_test, pred)\n",
    "        r2 = r2_score(y_test, pred)\n",
    "        rmse_list.append(rmse)\n",
    "        r2_list.append(r2)\n",
    "    return model_name, rmse_list, r2_list\n",
    "\n",
    "def RMSE(y, y_pred):\n",
    "    rmse = mean_squared_error(y, y_pred) ** 0.5\n",
    "    return rmse"
   ]
  },
  {
   "cell_type": "code",
   "execution_count": 7,
   "id": "f899fc18",
   "metadata": {},
   "outputs": [
    {
     "name": "stderr",
     "output_type": "stream",
     "text": [
      "LinearRegression Cross Validations...: 100%|███████████████████████████████████████████| 10/10 [00:00<00:00, 20.89it/s]\n"
     ]
    },
    {
     "name": "stdout",
     "output_type": "stream",
     "text": [
      "1 FOLDS: LinearRegression RMSE: 10084.0162, R2: 0.6496\n",
      "2 FOLDS: LinearRegression RMSE: 9080.6999, R2: 0.5288\n",
      "3 FOLDS: LinearRegression RMSE: 6591.1190, R2: 0.6617\n",
      "4 FOLDS: LinearRegression RMSE: 5906.4291, R2: 0.5981\n",
      "5 FOLDS: LinearRegression RMSE: 5854.3037, R2: 0.4538\n",
      "6 FOLDS: LinearRegression RMSE: 5383.9206, R2: 0.5477\n",
      "7 FOLDS: LinearRegression RMSE: 5841.3210, R2: 0.5347\n",
      "8 FOLDS: LinearRegression RMSE: 8988.2098, R2: -0.3882\n",
      "9 FOLDS: LinearRegression RMSE: 4756.1851, R2: 0.2545\n",
      "10 FOLDS: LinearRegression RMSE: 4739.9987, R2: 0.0180\n",
      "\n",
      "LinearRegression mean RMSE: 6722.6203, mean R2: 0.3859\n",
      "========================================\n"
     ]
    },
    {
     "name": "stderr",
     "output_type": "stream",
     "text": [
      "Ridge Cross Validations...: 100%|██████████████████████████████████████████████████████| 10/10 [00:00<00:00, 29.85it/s]\n"
     ]
    },
    {
     "name": "stdout",
     "output_type": "stream",
     "text": [
      "1 FOLDS: Ridge RMSE: 10084.0369, R2: 0.6496\n",
      "2 FOLDS: Ridge RMSE: 9080.6665, R2: 0.5288\n",
      "3 FOLDS: Ridge RMSE: 6591.1186, R2: 0.6617\n",
      "4 FOLDS: Ridge RMSE: 5906.4287, R2: 0.5981\n",
      "5 FOLDS: Ridge RMSE: 5854.3037, R2: 0.4538\n",
      "6 FOLDS: Ridge RMSE: 5383.9201, R2: 0.5478\n",
      "7 FOLDS: Ridge RMSE: 5841.3208, R2: 0.5347\n",
      "8 FOLDS: Ridge RMSE: 8988.2091, R2: -0.3882\n",
      "9 FOLDS: Ridge RMSE: 4756.1838, R2: 0.2545\n",
      "10 FOLDS: Ridge RMSE: 4739.9990, R2: 0.0180\n",
      "\n",
      "Ridge mean RMSE: 6722.6187, mean R2: 0.3859\n",
      "========================================\n"
     ]
    },
    {
     "name": "stderr",
     "output_type": "stream",
     "text": [
      "Lasso Cross Validations...: 100%|██████████████████████████████████████████████████████| 10/10 [00:01<00:00,  8.67it/s]\n"
     ]
    },
    {
     "name": "stdout",
     "output_type": "stream",
     "text": [
      "1 FOLDS: Lasso RMSE: 10085.3300, R2: 0.6495\n",
      "2 FOLDS: Lasso RMSE: 9078.1201, R2: 0.5291\n",
      "3 FOLDS: Lasso RMSE: 6590.9537, R2: 0.6618\n",
      "4 FOLDS: Lasso RMSE: 5906.2105, R2: 0.5981\n",
      "5 FOLDS: Lasso RMSE: 5854.5504, R2: 0.4537\n",
      "6 FOLDS: Lasso RMSE: 5383.5709, R2: 0.5478\n",
      "7 FOLDS: Lasso RMSE: 5841.1812, R2: 0.5348\n",
      "8 FOLDS: Lasso RMSE: 8988.0814, R2: -0.3882\n",
      "9 FOLDS: Lasso RMSE: 4754.0045, R2: 0.2551\n",
      "10 FOLDS: Lasso RMSE: 4740.5592, R2: 0.0178\n",
      "\n",
      "Lasso mean RMSE: 6722.2562, mean R2: 0.3859\n",
      "========================================\n"
     ]
    },
    {
     "name": "stderr",
     "output_type": "stream",
     "text": [
      "ElasticNet Cross Validations...: 100%|█████████████████████████████████████████████████| 10/10 [00:00<00:00, 14.62it/s]\n"
     ]
    },
    {
     "name": "stdout",
     "output_type": "stream",
     "text": [
      "1 FOLDS: ElasticNet RMSE: 10187.8392, R2: 0.6423\n",
      "2 FOLDS: ElasticNet RMSE: 8660.3586, R2: 0.5714\n",
      "3 FOLDS: ElasticNet RMSE: 6574.6227, R2: 0.6634\n",
      "4 FOLDS: ElasticNet RMSE: 5887.6433, R2: 0.6007\n",
      "5 FOLDS: ElasticNet RMSE: 5846.1615, R2: 0.4553\n",
      "6 FOLDS: ElasticNet RMSE: 5350.0822, R2: 0.5534\n",
      "7 FOLDS: ElasticNet RMSE: 5822.6967, R2: 0.5377\n",
      "8 FOLDS: ElasticNet RMSE: 8951.1368, R2: -0.3768\n",
      "9 FOLDS: ElasticNet RMSE: 4650.9873, R2: 0.2871\n",
      "10 FOLDS: ElasticNet RMSE: 4763.4061, R2: 0.0083\n",
      "\n",
      "ElasticNet mean RMSE: 6669.4935, mean R2: 0.3943\n",
      "========================================\n"
     ]
    },
    {
     "name": "stderr",
     "output_type": "stream",
     "text": [
      "DecisionTreeRegressor Cross Validations...: 100%|██████████████████████████████████████| 10/10 [00:15<00:00,  1.53s/it]\n"
     ]
    },
    {
     "name": "stdout",
     "output_type": "stream",
     "text": [
      "1 FOLDS: DecisionTreeRegressor RMSE: 11636.4438, R2: 0.5334\n",
      "2 FOLDS: DecisionTreeRegressor RMSE: 7636.6734, R2: 0.6667\n",
      "3 FOLDS: DecisionTreeRegressor RMSE: 5627.1137, R2: 0.7535\n",
      "4 FOLDS: DecisionTreeRegressor RMSE: 4795.9587, R2: 0.7350\n",
      "5 FOLDS: DecisionTreeRegressor RMSE: 3810.7704, R2: 0.7686\n",
      "6 FOLDS: DecisionTreeRegressor RMSE: 3383.9059, R2: 0.8213\n",
      "7 FOLDS: DecisionTreeRegressor RMSE: 4575.0738, R2: 0.7146\n",
      "8 FOLDS: DecisionTreeRegressor RMSE: 3797.1478, R2: 0.7522\n",
      "9 FOLDS: DecisionTreeRegressor RMSE: 2700.0815, R2: 0.7597\n",
      "10 FOLDS: DecisionTreeRegressor RMSE: 2363.0265, R2: 0.7559\n",
      "\n",
      "DecisionTreeRegressor mean RMSE: 5032.6195, mean R2: 0.7261\n",
      "========================================\n"
     ]
    },
    {
     "name": "stderr",
     "output_type": "stream",
     "text": [
      "RandomForestRegressor Cross Validations...: 100%|█████████████████████████████████████| 10/10 [20:21<00:00, 122.10s/it]\n"
     ]
    },
    {
     "name": "stdout",
     "output_type": "stream",
     "text": [
      "1 FOLDS: RandomForestRegressor RMSE: 7838.6682, R2: 0.7883\n",
      "2 FOLDS: RandomForestRegressor RMSE: 5481.4836, R2: 0.8283\n",
      "3 FOLDS: RandomForestRegressor RMSE: 4915.1407, R2: 0.8119\n",
      "4 FOLDS: RandomForestRegressor RMSE: 3772.0707, R2: 0.8361\n",
      "5 FOLDS: RandomForestRegressor RMSE: 2998.2552, R2: 0.8567\n",
      "6 FOLDS: RandomForestRegressor RMSE: 2594.9672, R2: 0.8949\n",
      "7 FOLDS: RandomForestRegressor RMSE: 3590.8208, R2: 0.8242\n",
      "8 FOLDS: RandomForestRegressor RMSE: 3216.0520, R2: 0.8223\n",
      "9 FOLDS: RandomForestRegressor RMSE: 1938.7694, R2: 0.8761\n",
      "10 FOLDS: RandomForestRegressor RMSE: 1728.3034, R2: 0.8694\n",
      "\n",
      "RandomForestRegressor mean RMSE: 3807.4531, mean R2: 0.8408\n",
      "========================================\n"
     ]
    },
    {
     "name": "stderr",
     "output_type": "stream",
     "text": [
      "XGBRegressor Cross Validations...: 100%|███████████████████████████████████████████████| 10/10 [00:28<00:00,  2.89s/it]\n"
     ]
    },
    {
     "name": "stdout",
     "output_type": "stream",
     "text": [
      "1 FOLDS: XGBRegressor RMSE: 6539.0258, R2: 0.8527\n",
      "2 FOLDS: XGBRegressor RMSE: 4717.6404, R2: 0.8728\n",
      "3 FOLDS: XGBRegressor RMSE: 4358.4450, R2: 0.8521\n",
      "4 FOLDS: XGBRegressor RMSE: 3444.6749, R2: 0.8633\n",
      "5 FOLDS: XGBRegressor RMSE: 2780.2411, R2: 0.8768\n",
      "6 FOLDS: XGBRegressor RMSE: 2651.7445, R2: 0.8903\n",
      "7 FOLDS: XGBRegressor RMSE: 3251.0589, R2: 0.8559\n",
      "8 FOLDS: XGBRegressor RMSE: 3385.2743, R2: 0.8031\n",
      "9 FOLDS: XGBRegressor RMSE: 1750.6406, R2: 0.8990\n",
      "10 FOLDS: XGBRegressor RMSE: 1635.4810, R2: 0.8831\n",
      "\n",
      "XGBRegressor mean RMSE: 3451.4226, mean R2: 0.8649\n",
      "========================================\n"
     ]
    },
    {
     "name": "stderr",
     "output_type": "stream",
     "text": [
      "\r",
      "LGBMRegressor Cross Validations...:   0%|                                                       | 0/10 [00:00<?, ?it/s]"
     ]
    },
    {
     "name": "stdout",
     "output_type": "stream",
     "text": [
      "[LightGBM] [Warning] Auto-choosing col-wise multi-threading, the overhead of testing was 0.001083 seconds.\n",
      "You can set `force_col_wise=true` to remove the overhead.\n",
      "[LightGBM] [Info] Total Bins 572\n",
      "[LightGBM] [Info] Number of data points in the train set: 38649, number of used features: 8\n",
      "[LightGBM] [Info] Start training from score 26236.340293\n"
     ]
    },
    {
     "name": "stderr",
     "output_type": "stream",
     "text": [
      "\r",
      "LGBMRegressor Cross Validations...:  10%|████▋                                          | 1/10 [00:00<00:03,  2.95it/s]"
     ]
    },
    {
     "name": "stdout",
     "output_type": "stream",
     "text": [
      "[LightGBM] [Warning] Auto-choosing col-wise multi-threading, the overhead of testing was 0.002357 seconds.\n",
      "You can set `force_col_wise=true` to remove the overhead.\n",
      "[LightGBM] [Info] Total Bins 639\n",
      "[LightGBM] [Info] Number of data points in the train set: 77292, number of used features: 8\n",
      "[LightGBM] [Info] Start training from score 26152.606453\n"
     ]
    },
    {
     "name": "stderr",
     "output_type": "stream",
     "text": [
      "\r",
      "LGBMRegressor Cross Validations...:  20%|█████████▍                                     | 2/10 [00:00<00:02,  3.13it/s]"
     ]
    },
    {
     "name": "stdout",
     "output_type": "stream",
     "text": [
      "[LightGBM] [Warning] Auto-choosing row-wise multi-threading, the overhead of testing was 0.001205 seconds.\n",
      "You can set `force_row_wise=true` to remove the overhead.\n",
      "And if memory is not enough, you can set `force_col_wise=true`.\n",
      "[LightGBM] [Info] Total Bins 657\n",
      "[LightGBM] [Info] Number of data points in the train set: 115935, number of used features: 8\n",
      "[LightGBM] [Info] Start training from score 24629.378074\n"
     ]
    },
    {
     "name": "stderr",
     "output_type": "stream",
     "text": [
      "\r",
      "LGBMRegressor Cross Validations...:  30%|██████████████                                 | 3/10 [00:01<00:02,  2.95it/s]"
     ]
    },
    {
     "name": "stdout",
     "output_type": "stream",
     "text": [
      "[LightGBM] [Warning] Auto-choosing row-wise multi-threading, the overhead of testing was 0.001730 seconds.\n",
      "You can set `force_row_wise=true` to remove the overhead.\n",
      "And if memory is not enough, you can set `force_col_wise=true`.\n",
      "[LightGBM] [Info] Total Bins 685\n",
      "[LightGBM] [Info] Number of data points in the train set: 154578, number of used features: 8\n",
      "[LightGBM] [Info] Start training from score 23566.597899\n"
     ]
    },
    {
     "name": "stderr",
     "output_type": "stream",
     "text": [
      "\r",
      "LGBMRegressor Cross Validations...:  40%|██████████████████▊                            | 4/10 [00:01<00:02,  2.65it/s]"
     ]
    },
    {
     "name": "stdout",
     "output_type": "stream",
     "text": [
      "[LightGBM] [Warning] Auto-choosing row-wise multi-threading, the overhead of testing was 0.002198 seconds.\n",
      "You can set `force_row_wise=true` to remove the overhead.\n",
      "And if memory is not enough, you can set `force_col_wise=true`.\n",
      "[LightGBM] [Info] Total Bins 717\n",
      "[LightGBM] [Info] Number of data points in the train set: 193221, number of used features: 8\n",
      "[LightGBM] [Info] Start training from score 22362.432696\n"
     ]
    },
    {
     "name": "stderr",
     "output_type": "stream",
     "text": [
      "\r",
      "LGBMRegressor Cross Validations...:  50%|███████████████████████▌                       | 5/10 [00:01<00:02,  2.40it/s]"
     ]
    },
    {
     "name": "stdout",
     "output_type": "stream",
     "text": [
      "[LightGBM] [Warning] Auto-choosing row-wise multi-threading, the overhead of testing was 0.002345 seconds.\n",
      "You can set `force_row_wise=true` to remove the overhead.\n",
      "And if memory is not enough, you can set `force_col_wise=true`.\n",
      "[LightGBM] [Info] Total Bins 736\n",
      "[LightGBM] [Info] Number of data points in the train set: 231864, number of used features: 8\n",
      "[LightGBM] [Info] Start training from score 21205.027689\n"
     ]
    },
    {
     "name": "stderr",
     "output_type": "stream",
     "text": [
      "\r",
      "LGBMRegressor Cross Validations...:  60%|████████████████████████████▏                  | 6/10 [00:02<00:01,  2.14it/s]"
     ]
    },
    {
     "name": "stdout",
     "output_type": "stream",
     "text": [
      "[LightGBM] [Warning] Auto-choosing row-wise multi-threading, the overhead of testing was 0.002814 seconds.\n",
      "You can set `force_row_wise=true` to remove the overhead.\n",
      "And if memory is not enough, you can set `force_col_wise=true`.\n",
      "[LightGBM] [Info] Total Bins 766\n",
      "[LightGBM] [Info] Number of data points in the train set: 270507, number of used features: 8\n",
      "[LightGBM] [Info] Start training from score 20255.548045\n"
     ]
    },
    {
     "name": "stderr",
     "output_type": "stream",
     "text": [
      "\r",
      "LGBMRegressor Cross Validations...:  70%|████████████████████████████████▉              | 7/10 [00:03<00:01,  1.94it/s]"
     ]
    },
    {
     "name": "stdout",
     "output_type": "stream",
     "text": [
      "[LightGBM] [Warning] Auto-choosing row-wise multi-threading, the overhead of testing was 0.003000 seconds.\n",
      "You can set `force_row_wise=true` to remove the overhead.\n",
      "And if memory is not enough, you can set `force_col_wise=true`.\n",
      "[LightGBM] [Info] Total Bins 789\n",
      "[LightGBM] [Info] Number of data points in the train set: 309150, number of used features: 8\n",
      "[LightGBM] [Info] Start training from score 19362.939107\n"
     ]
    },
    {
     "name": "stderr",
     "output_type": "stream",
     "text": [
      "\r",
      "LGBMRegressor Cross Validations...:  80%|█████████████████████████████████████▌         | 8/10 [00:03<00:01,  1.75it/s]"
     ]
    },
    {
     "name": "stdout",
     "output_type": "stream",
     "text": [
      "[LightGBM] [Warning] Auto-choosing row-wise multi-threading, the overhead of testing was 0.003333 seconds.\n",
      "You can set `force_row_wise=true` to remove the overhead.\n",
      "And if memory is not enough, you can set `force_col_wise=true`.\n",
      "[LightGBM] [Info] Total Bins 840\n",
      "[LightGBM] [Info] Number of data points in the train set: 347793, number of used features: 8\n",
      "[LightGBM] [Info] Start training from score 18529.221065\n"
     ]
    },
    {
     "name": "stderr",
     "output_type": "stream",
     "text": [
      "\r",
      "LGBMRegressor Cross Validations...:  90%|██████████████████████████████████████████▎    | 9/10 [00:04<00:00,  1.59it/s]"
     ]
    },
    {
     "name": "stdout",
     "output_type": "stream",
     "text": [
      "[LightGBM] [Warning] Auto-choosing row-wise multi-threading, the overhead of testing was 0.004310 seconds.\n",
      "You can set `force_row_wise=true` to remove the overhead.\n",
      "And if memory is not enough, you can set `force_col_wise=true`.\n",
      "[LightGBM] [Info] Total Bins 876\n",
      "[LightGBM] [Info] Number of data points in the train set: 386436, number of used features: 8\n",
      "[LightGBM] [Info] Start training from score 17601.731094\n"
     ]
    },
    {
     "name": "stderr",
     "output_type": "stream",
     "text": [
      "LGBMRegressor Cross Validations...: 100%|██████████████████████████████████████████████| 10/10 [00:05<00:00,  1.86it/s]"
     ]
    },
    {
     "name": "stdout",
     "output_type": "stream",
     "text": [
      "1 FOLDS: LGBMRegressor RMSE: 6428.6204, R2: 0.8576\n",
      "2 FOLDS: LGBMRegressor RMSE: 5057.1179, R2: 0.8539\n",
      "3 FOLDS: LGBMRegressor RMSE: 4376.2995, R2: 0.8509\n",
      "4 FOLDS: LGBMRegressor RMSE: 3770.0855, R2: 0.8363\n",
      "5 FOLDS: LGBMRegressor RMSE: 2823.3683, R2: 0.8730\n",
      "6 FOLDS: LGBMRegressor RMSE: 2868.6785, R2: 0.8716\n",
      "7 FOLDS: LGBMRegressor RMSE: 3449.6457, R2: 0.8377\n",
      "8 FOLDS: LGBMRegressor RMSE: 3299.9331, R2: 0.8129\n",
      "9 FOLDS: LGBMRegressor RMSE: 1906.4965, R2: 0.8802\n",
      "10 FOLDS: LGBMRegressor RMSE: 1851.5836, R2: 0.8502\n",
      "\n",
      "LGBMRegressor mean RMSE: 3583.1829, mean R2: 0.8524\n",
      "========================================\n"
     ]
    },
    {
     "name": "stderr",
     "output_type": "stream",
     "text": [
      "\n"
     ]
    }
   ],
   "source": [
    "models = []\n",
    "rmse_scores = []\n",
    "r2_scores = []\n",
    "for model in [lrmodel, ridge, lasso, enet, d_tree, rf, model_xgb, model_lgb]:\n",
    "    model_name, mean_rmse_score, mean_r2_score = print_rmse_r2_score(model)\n",
    "    models.append(model_name)\n",
    "    rmse_scores.append(mean_rmse_score)\n",
    "    r2_scores.append(mean_r2_score)"
   ]
  },
  {
   "cell_type": "code",
   "execution_count": 8,
   "id": "4f6cd0f5",
   "metadata": {},
   "outputs": [
    {
     "data": {
      "text/html": [
       "<div>\n",
       "<style scoped>\n",
       "    .dataframe tbody tr th:only-of-type {\n",
       "        vertical-align: middle;\n",
       "    }\n",
       "\n",
       "    .dataframe tbody tr th {\n",
       "        vertical-align: top;\n",
       "    }\n",
       "\n",
       "    .dataframe thead th {\n",
       "        text-align: right;\n",
       "    }\n",
       "</style>\n",
       "<table border=\"1\" class=\"dataframe\">\n",
       "  <thead>\n",
       "    <tr style=\"text-align: right;\">\n",
       "      <th></th>\n",
       "      <th>Model</th>\n",
       "      <th>RMSE</th>\n",
       "      <th>R2</th>\n",
       "    </tr>\n",
       "  </thead>\n",
       "  <tbody>\n",
       "    <tr>\n",
       "      <th>0</th>\n",
       "      <td>LinearRegression</td>\n",
       "      <td>6722.620306</td>\n",
       "      <td>0.385872</td>\n",
       "    </tr>\n",
       "    <tr>\n",
       "      <th>1</th>\n",
       "      <td>Ridge</td>\n",
       "      <td>6722.618718</td>\n",
       "      <td>0.385872</td>\n",
       "    </tr>\n",
       "    <tr>\n",
       "      <th>2</th>\n",
       "      <td>Lasso</td>\n",
       "      <td>6722.256191</td>\n",
       "      <td>0.385947</td>\n",
       "    </tr>\n",
       "    <tr>\n",
       "      <th>3</th>\n",
       "      <td>ElasticNet</td>\n",
       "      <td>6669.493452</td>\n",
       "      <td>0.394279</td>\n",
       "    </tr>\n",
       "    <tr>\n",
       "      <th>4</th>\n",
       "      <td>DecisionTreeRegressor</td>\n",
       "      <td>5032.619546</td>\n",
       "      <td>0.726100</td>\n",
       "    </tr>\n",
       "    <tr>\n",
       "      <th>5</th>\n",
       "      <td>RandomForestRegressor</td>\n",
       "      <td>3807.453119</td>\n",
       "      <td>0.840822</td>\n",
       "    </tr>\n",
       "    <tr>\n",
       "      <th>6</th>\n",
       "      <td>XGBRegressor</td>\n",
       "      <td>3451.422637</td>\n",
       "      <td>0.864900</td>\n",
       "    </tr>\n",
       "    <tr>\n",
       "      <th>7</th>\n",
       "      <td>LGBMRegressor</td>\n",
       "      <td>3583.182899</td>\n",
       "      <td>0.852412</td>\n",
       "    </tr>\n",
       "  </tbody>\n",
       "</table>\n",
       "</div>"
      ],
      "text/plain": [
       "                   Model         RMSE        R2\n",
       "0       LinearRegression  6722.620306  0.385872\n",
       "1                  Ridge  6722.618718  0.385872\n",
       "2                  Lasso  6722.256191  0.385947\n",
       "3             ElasticNet  6669.493452  0.394279\n",
       "4  DecisionTreeRegressor  5032.619546  0.726100\n",
       "5  RandomForestRegressor  3807.453119  0.840822\n",
       "6           XGBRegressor  3451.422637  0.864900\n",
       "7          LGBMRegressor  3583.182899  0.852412"
      ]
     },
     "execution_count": 8,
     "metadata": {},
     "output_type": "execute_result"
    }
   ],
   "source": [
    "result_df = pd.DataFrame({'Model': models, 'RMSE': rmse_scores, 'R2': r2_scores}).reset_index(drop=True)\n",
    "result_df\n",
    "# 하이퍼파라미터 튜닝 없는 자료"
   ]
  },
  {
   "cell_type": "code",
   "execution_count": 12,
   "id": "5aba97e8",
   "metadata": {
    "scrolled": true
   },
   "outputs": [
    {
     "data": {
      "text/html": [
       "<div>\n",
       "<style scoped>\n",
       "    .dataframe tbody tr th:only-of-type {\n",
       "        vertical-align: middle;\n",
       "    }\n",
       "\n",
       "    .dataframe tbody tr th {\n",
       "        vertical-align: top;\n",
       "    }\n",
       "\n",
       "    .dataframe thead th {\n",
       "        text-align: right;\n",
       "    }\n",
       "</style>\n",
       "<table border=\"1\" class=\"dataframe\">\n",
       "  <thead>\n",
       "    <tr style=\"text-align: right;\">\n",
       "      <th></th>\n",
       "      <th>Model</th>\n",
       "      <th>RMSE</th>\n",
       "      <th>R2</th>\n",
       "    </tr>\n",
       "  </thead>\n",
       "  <tbody>\n",
       "    <tr>\n",
       "      <th>0</th>\n",
       "      <td>LinearRegression</td>\n",
       "      <td>6722.620306</td>\n",
       "      <td>0.385872</td>\n",
       "    </tr>\n",
       "    <tr>\n",
       "      <th>1</th>\n",
       "      <td>Ridge</td>\n",
       "      <td>6722.619036</td>\n",
       "      <td>0.385872</td>\n",
       "    </tr>\n",
       "    <tr>\n",
       "      <th>2</th>\n",
       "      <td>Lasso</td>\n",
       "      <td>6722.616620</td>\n",
       "      <td>0.385873</td>\n",
       "    </tr>\n",
       "    <tr>\n",
       "      <th>3</th>\n",
       "      <td>ElasticNet</td>\n",
       "      <td>6715.504320</td>\n",
       "      <td>0.387007</td>\n",
       "    </tr>\n",
       "    <tr>\n",
       "      <th>4</th>\n",
       "      <td>DecisionTreeRegressor</td>\n",
       "      <td>5866.145420</td>\n",
       "      <td>0.602225</td>\n",
       "    </tr>\n",
       "    <tr>\n",
       "      <th>5</th>\n",
       "      <td>RandomForestRegressor</td>\n",
       "      <td>4549.020550</td>\n",
       "      <td>0.760308</td>\n",
       "    </tr>\n",
       "    <tr>\n",
       "      <th>6</th>\n",
       "      <td>XGBRegressor</td>\n",
       "      <td>3298.991401</td>\n",
       "      <td>0.880218</td>\n",
       "    </tr>\n",
       "    <tr>\n",
       "      <th>7</th>\n",
       "      <td>LGBMRegressor</td>\n",
       "      <td>3700.854867</td>\n",
       "      <td>0.841873</td>\n",
       "    </tr>\n",
       "  </tbody>\n",
       "</table>\n",
       "</div>"
      ],
      "text/plain": [
       "                   Model         RMSE        R2\n",
       "0       LinearRegression  6722.620306  0.385872\n",
       "1                  Ridge  6722.619036  0.385872\n",
       "2                  Lasso  6722.616620  0.385873\n",
       "3             ElasticNet  6715.504320  0.387007\n",
       "4  DecisionTreeRegressor  5866.145420  0.602225\n",
       "5  RandomForestRegressor  4549.020550  0.760308\n",
       "6           XGBRegressor  3298.991401  0.880218\n",
       "7          LGBMRegressor  3700.854867  0.841873"
      ]
     },
     "execution_count": 12,
     "metadata": {},
     "output_type": "execute_result"
    }
   ],
   "source": [
    "# 기존dacon 하이퍼파라미터 튜닝 자료 \n",
    "result_df = pd.DataFrame({'Model': models, 'RMSE': rmse_scores, 'R2': r2_scores}).reset_index(drop=True)\n",
    "result_df"
   ]
  },
  {
   "cell_type": "code",
   "execution_count": 13,
   "id": "19de5048",
   "metadata": {},
   "outputs": [],
   "source": [
    "X_predict = [[84, 202305,10,10 ,15,3.5,2920010200,0]]\n",
    "X_predict_df= pd.DataFrame(X_predict,columns=['전용면적(㎡)', '계약년월','층', '건축나이','거래건수','기준금리','법정동코드','지하철역수'])"
   ]
  },
  {
   "cell_type": "markdown",
   "id": "d713ec19",
   "metadata": {},
   "source": [
    "X = data[['전용면적(㎡)', '계약년월','층', '건축나이','거래건수','기준금리','법정동코드','지하철역수']]"
   ]
  },
  {
   "cell_type": "code",
   "execution_count": 15,
   "id": "275fbec7",
   "metadata": {},
   "outputs": [
    {
     "name": "stdout",
     "output_type": "stream",
     "text": [
      "LinearRegression: 36369.40774595132\n",
      "Ridge: 36369.40581294848\n",
      "Lasso: 36369.36288404139\n",
      "ElasticNet: 36342.717726878356\n",
      "DecisionTreeRegressor: 37111.30126002291\n",
      "RandomForestRegressor: 38480.428627831374\n",
      "XGBRegressor: 33039.31640625\n",
      "LGBMRegressor :37965.11034514065\n"
     ]
    }
   ],
   "source": [
    "print(f\"LinearRegression: {lrmodel.predict(X_predict_df)[0]}\")\n",
    "print(f\"Ridge: {ridge.predict(X_predict_df)[0]}\")\n",
    "print(f\"Lasso: {lasso.predict(X_predict_df)[0]}\")\n",
    "print(f\"ElasticNet: {enet.predict(X_predict_df)[0]}\")\n",
    "print(f\"DecisionTreeRegressor: {d_tree.predict(X_predict_df)[0]}\")\n",
    "print(f\"RandomForestRegressor: {rf.predict(X_predict_df)[0]}\")\n",
    "print(f\"XGBRegressor: {model_xgb.predict(X_predict_df)[0]}\")\n",
    "print(f\"LGBMRegressor :{model_lgb.predict(X_predict_df)[0]}\")"
   ]
  },
  {
   "cell_type": "code",
   "execution_count": 22,
   "id": "84ec6072",
   "metadata": {},
   "outputs": [],
   "source": [
    "lrmodel = LinearRegression()\n",
    "ridge = Ridge()\n",
    "lasso = Lasso()\n",
    "enet = ElasticNet()\n",
    "d_tree = DecisionTreeRegressor()\n",
    "rf = RandomForestRegressor()\n",
    "model_xgb = xgb.XGBRegressor()\n",
    "model_lgb = lgb.LGBMRegressor()"
   ]
  },
  {
   "cell_type": "code",
   "execution_count": null,
   "id": "02fc348b",
   "metadata": {},
   "outputs": [],
   "source": [
    "lrmodel = LinearRegression(n_jobs=-1)\n",
    "ridge = Ridge(alpha=0.8, random_state=1)\n",
    "lasso = Lasso(alpha = 0.01, random_state=1)\n",
    "enet = ElasticNet(alpha=0.03, l1_ratio=0.01, random_state=1)\n",
    "d_tree = DecisionTreeRegressor(max_depth=6, min_samples_split=10, min_samples_leaf=15, random_state=1)\n",
    "rf = RandomForestRegressor(n_estimators=100,  max_depth=9, min_samples_split=50,\n",
    "                           min_samples_leaf=5, random_state=1, n_jobs=-1)\n",
    "model_xgb = xgb.XGBRegressor(n_estimators=100, max_depth=9, min_child_weight=5, gamma=0.1, n_jobs=-1 )\n",
    "model_lgb = lgb.LGBMRegressor(n_estimators=100, max_depth=9, min_child_weight=5, n_jobs=-1,num_leaves=20)"
   ]
  },
  {
   "cell_type": "markdown",
   "id": "1d6711d6",
   "metadata": {},
   "source": [
    "##  하이퍼 파라미터 튜닝"
   ]
  },
  {
   "cell_type": "code",
   "execution_count": 10,
   "id": "20dbcf46",
   "metadata": {},
   "outputs": [],
   "source": [
    "from sklearn.model_selection import GridSearchCV"
   ]
  },
  {
   "cell_type": "code",
   "execution_count": 11,
   "id": "e64593d2",
   "metadata": {},
   "outputs": [],
   "source": [
    "# Linear Regression\n",
    "lr_params = {\n",
    "    'fit_intercept': [True, False]\n",
    "}\n",
    "lr_grid_search = GridSearchCV(estimator=LinearRegression(n_jobs=-1),\n",
    "                              param_grid=lr_params,\n",
    "                              scoring='neg_mean_squared_error',\n",
    "                              cv=10,\n",
    "                              n_jobs=-1)\n",
    "lr_grid_search.fit(X, y)\n",
    "best_lr_model = lr_grid_search.best_estimator_"
   ]
  },
  {
   "cell_type": "code",
   "execution_count": 12,
   "id": "a2fda8a4",
   "metadata": {},
   "outputs": [],
   "source": [
    "\n",
    "\n",
    "# Ridge\n",
    "ridge_params = {\n",
    "    'alpha': [0.1, 0.5, 1.0, 2.0]\n",
    "}\n",
    "ridge_grid_search = GridSearchCV(estimator=Ridge(random_state=1),\n",
    "                                 param_grid=ridge_params,\n",
    "                                 scoring='neg_mean_squared_error',\n",
    "                                 cv=10,\n",
    "                                 n_jobs=-1)\n",
    "ridge_grid_search.fit(X, y)\n",
    "best_ridge_model = ridge_grid_search.best_estimator_"
   ]
  },
  {
   "cell_type": "code",
   "execution_count": 13,
   "id": "666b9c74",
   "metadata": {},
   "outputs": [],
   "source": [
    "# Lasso\n",
    "lasso_params = {\n",
    "    'alpha': [0.001, 0.01, 0.1, 1.0]\n",
    "}\n",
    "lasso_grid_search = GridSearchCV(estimator=Lasso(random_state=1),\n",
    "                                 param_grid=lasso_params,\n",
    "                                 scoring='neg_mean_squared_error',\n",
    "                                 cv=10,\n",
    "                                 n_jobs=-1)\n",
    "lasso_grid_search.fit(X, y)\n",
    "best_lasso_model = lasso_grid_search.best_estimator_"
   ]
  },
  {
   "cell_type": "code",
   "execution_count": 14,
   "id": "c7640fb7",
   "metadata": {},
   "outputs": [],
   "source": [
    "# ElasticNet\n",
    "enet_params = {\n",
    "    'alpha': [0.001, 0.01, 0.1, 1.0],\n",
    "    'l1_ratio': [0.01, 0.1, 0.5, 0.9]\n",
    "}\n",
    "enet_grid_search = GridSearchCV(estimator=ElasticNet(random_state=1),\n",
    "                                param_grid=enet_params,\n",
    "                                scoring='neg_mean_squared_error',\n",
    "                                cv=10,\n",
    "                                n_jobs=-1)\n",
    "enet_grid_search.fit(X, y)\n",
    "best_enet_model = enet_grid_search.best_estimator_"
   ]
  },
  {
   "cell_type": "code",
   "execution_count": 15,
   "id": "869a6eba",
   "metadata": {},
   "outputs": [],
   "source": [
    "# Decision Tree\n",
    "d_tree_params = {\n",
    "    'max_depth': [5, 10, 15],\n",
    "    'min_samples_split': [2, 5, 10],\n",
    "    'min_samples_leaf': [1, 5, 10]\n",
    "}\n",
    "d_tree_grid_search = GridSearchCV(estimator=DecisionTreeRegressor(random_state=1),\n",
    "                                  param_grid=d_tree_params,\n",
    "                                  scoring='neg_mean_squared_error',\n",
    "                                  cv=10,\n",
    "                                  n_jobs=-1)\n",
    "d_tree_grid_search.fit(X, y)\n",
    "best_d_tree_model = d_tree_grid_search.best_estimator_"
   ]
  },
  {
   "cell_type": "code",
   "execution_count": 16,
   "id": "a28aadd4",
   "metadata": {},
   "outputs": [
    {
     "ename": "KeyboardInterrupt",
     "evalue": "",
     "output_type": "error",
     "traceback": [
      "\u001b[1;31m---------------------------------------------------------------------------\u001b[0m",
      "\u001b[1;31mKeyboardInterrupt\u001b[0m                         Traceback (most recent call last)",
      "File \u001b[1;32m~\\anaconda3\\envs\\machine\\lib\\site-packages\\joblib\\parallel.py:1587\u001b[0m, in \u001b[0;36mParallel._get_outputs\u001b[1;34m(self, iterator, pre_dispatch)\u001b[0m\n\u001b[0;32m   1586\u001b[0m     \u001b[38;5;28;01mwith\u001b[39;00m \u001b[38;5;28mself\u001b[39m\u001b[38;5;241m.\u001b[39m_backend\u001b[38;5;241m.\u001b[39mretrieval_context():\n\u001b[1;32m-> 1587\u001b[0m         \u001b[38;5;28;01myield from\u001b[39;00m \u001b[38;5;28mself\u001b[39m\u001b[38;5;241m.\u001b[39m_retrieve()\n\u001b[0;32m   1589\u001b[0m \u001b[38;5;28;01mexcept\u001b[39;00m \u001b[38;5;167;01mGeneratorExit\u001b[39;00m:\n\u001b[0;32m   1590\u001b[0m     \u001b[38;5;66;03m# The generator has been garbage collected before being fully\u001b[39;00m\n\u001b[0;32m   1591\u001b[0m     \u001b[38;5;66;03m# consumed. This aborts the remaining tasks if possible and warn\u001b[39;00m\n\u001b[0;32m   1592\u001b[0m     \u001b[38;5;66;03m# the user if necessary.\u001b[39;00m\n",
      "File \u001b[1;32m~\\anaconda3\\envs\\machine\\lib\\site-packages\\joblib\\parallel.py:1699\u001b[0m, in \u001b[0;36mParallel._retrieve\u001b[1;34m(self)\u001b[0m\n\u001b[0;32m   1696\u001b[0m \u001b[38;5;28;01mif\u001b[39;00m ((\u001b[38;5;28mlen\u001b[39m(\u001b[38;5;28mself\u001b[39m\u001b[38;5;241m.\u001b[39m_jobs) \u001b[38;5;241m==\u001b[39m \u001b[38;5;241m0\u001b[39m) \u001b[38;5;129;01mor\u001b[39;00m\n\u001b[0;32m   1697\u001b[0m     (\u001b[38;5;28mself\u001b[39m\u001b[38;5;241m.\u001b[39m_jobs[\u001b[38;5;241m0\u001b[39m]\u001b[38;5;241m.\u001b[39mget_status(\n\u001b[0;32m   1698\u001b[0m         timeout\u001b[38;5;241m=\u001b[39m\u001b[38;5;28mself\u001b[39m\u001b[38;5;241m.\u001b[39mtimeout) \u001b[38;5;241m==\u001b[39m TASK_PENDING)):\n\u001b[1;32m-> 1699\u001b[0m     \u001b[43mtime\u001b[49m\u001b[38;5;241;43m.\u001b[39;49m\u001b[43msleep\u001b[49m\u001b[43m(\u001b[49m\u001b[38;5;241;43m0.01\u001b[39;49m\u001b[43m)\u001b[49m\n\u001b[0;32m   1700\u001b[0m     \u001b[38;5;28;01mcontinue\u001b[39;00m\n",
      "\u001b[1;31mKeyboardInterrupt\u001b[0m: ",
      "\nDuring handling of the above exception, another exception occurred:\n",
      "\u001b[1;31mKeyboardInterrupt\u001b[0m                         Traceback (most recent call last)",
      "Cell \u001b[1;32mIn[16], line 13\u001b[0m\n\u001b[0;32m      2\u001b[0m rf_params \u001b[38;5;241m=\u001b[39m {\n\u001b[0;32m      3\u001b[0m     \u001b[38;5;124m'\u001b[39m\u001b[38;5;124mn_estimators\u001b[39m\u001b[38;5;124m'\u001b[39m: [\u001b[38;5;241m50\u001b[39m, \u001b[38;5;241m100\u001b[39m, \u001b[38;5;241m200\u001b[39m],\n\u001b[0;32m      4\u001b[0m     \u001b[38;5;124m'\u001b[39m\u001b[38;5;124mmax_depth\u001b[39m\u001b[38;5;124m'\u001b[39m: [\u001b[38;5;241m5\u001b[39m, \u001b[38;5;241m10\u001b[39m, \u001b[38;5;241m15\u001b[39m],\n\u001b[0;32m      5\u001b[0m     \u001b[38;5;124m'\u001b[39m\u001b[38;5;124mmin_samples_split\u001b[39m\u001b[38;5;124m'\u001b[39m: [\u001b[38;5;241m2\u001b[39m, \u001b[38;5;241m5\u001b[39m, \u001b[38;5;241m10\u001b[39m],\n\u001b[0;32m      6\u001b[0m     \u001b[38;5;124m'\u001b[39m\u001b[38;5;124mmin_samples_leaf\u001b[39m\u001b[38;5;124m'\u001b[39m: [\u001b[38;5;241m1\u001b[39m, \u001b[38;5;241m5\u001b[39m, \u001b[38;5;241m10\u001b[39m]\n\u001b[0;32m      7\u001b[0m }\n\u001b[0;32m      8\u001b[0m rf_grid_search \u001b[38;5;241m=\u001b[39m GridSearchCV(estimator\u001b[38;5;241m=\u001b[39mRandomForestRegressor(random_state\u001b[38;5;241m=\u001b[39m\u001b[38;5;241m1\u001b[39m, n_jobs\u001b[38;5;241m=\u001b[39m\u001b[38;5;241m-\u001b[39m\u001b[38;5;241m1\u001b[39m),\n\u001b[0;32m      9\u001b[0m                               param_grid\u001b[38;5;241m=\u001b[39mrf_params,\n\u001b[0;32m     10\u001b[0m                               scoring\u001b[38;5;241m=\u001b[39m\u001b[38;5;124m'\u001b[39m\u001b[38;5;124mneg_mean_squared_error\u001b[39m\u001b[38;5;124m'\u001b[39m,\n\u001b[0;32m     11\u001b[0m                               cv\u001b[38;5;241m=\u001b[39m\u001b[38;5;241m10\u001b[39m,\n\u001b[0;32m     12\u001b[0m                               n_jobs\u001b[38;5;241m=\u001b[39m\u001b[38;5;241m-\u001b[39m\u001b[38;5;241m1\u001b[39m)\n\u001b[1;32m---> 13\u001b[0m \u001b[43mrf_grid_search\u001b[49m\u001b[38;5;241;43m.\u001b[39;49m\u001b[43mfit\u001b[49m\u001b[43m(\u001b[49m\u001b[43mX\u001b[49m\u001b[43m,\u001b[49m\u001b[43m \u001b[49m\u001b[43my\u001b[49m\u001b[43m)\u001b[49m\n\u001b[0;32m     14\u001b[0m best_rf_model \u001b[38;5;241m=\u001b[39m rf_grid_search\u001b[38;5;241m.\u001b[39mbest_estimator_\n",
      "File \u001b[1;32m~\\anaconda3\\envs\\machine\\lib\\site-packages\\sklearn\\base.py:1151\u001b[0m, in \u001b[0;36m_fit_context.<locals>.decorator.<locals>.wrapper\u001b[1;34m(estimator, *args, **kwargs)\u001b[0m\n\u001b[0;32m   1144\u001b[0m     estimator\u001b[38;5;241m.\u001b[39m_validate_params()\n\u001b[0;32m   1146\u001b[0m \u001b[38;5;28;01mwith\u001b[39;00m config_context(\n\u001b[0;32m   1147\u001b[0m     skip_parameter_validation\u001b[38;5;241m=\u001b[39m(\n\u001b[0;32m   1148\u001b[0m         prefer_skip_nested_validation \u001b[38;5;129;01mor\u001b[39;00m global_skip_validation\n\u001b[0;32m   1149\u001b[0m     )\n\u001b[0;32m   1150\u001b[0m ):\n\u001b[1;32m-> 1151\u001b[0m     \u001b[38;5;28;01mreturn\u001b[39;00m \u001b[43mfit_method\u001b[49m\u001b[43m(\u001b[49m\u001b[43mestimator\u001b[49m\u001b[43m,\u001b[49m\u001b[43m \u001b[49m\u001b[38;5;241;43m*\u001b[39;49m\u001b[43margs\u001b[49m\u001b[43m,\u001b[49m\u001b[43m \u001b[49m\u001b[38;5;241;43m*\u001b[39;49m\u001b[38;5;241;43m*\u001b[39;49m\u001b[43mkwargs\u001b[49m\u001b[43m)\u001b[49m\n",
      "File \u001b[1;32m~\\anaconda3\\envs\\machine\\lib\\site-packages\\sklearn\\model_selection\\_search.py:898\u001b[0m, in \u001b[0;36mBaseSearchCV.fit\u001b[1;34m(self, X, y, groups, **fit_params)\u001b[0m\n\u001b[0;32m    892\u001b[0m     results \u001b[38;5;241m=\u001b[39m \u001b[38;5;28mself\u001b[39m\u001b[38;5;241m.\u001b[39m_format_results(\n\u001b[0;32m    893\u001b[0m         all_candidate_params, n_splits, all_out, all_more_results\n\u001b[0;32m    894\u001b[0m     )\n\u001b[0;32m    896\u001b[0m     \u001b[38;5;28;01mreturn\u001b[39;00m results\n\u001b[1;32m--> 898\u001b[0m \u001b[38;5;28;43mself\u001b[39;49m\u001b[38;5;241;43m.\u001b[39;49m\u001b[43m_run_search\u001b[49m\u001b[43m(\u001b[49m\u001b[43mevaluate_candidates\u001b[49m\u001b[43m)\u001b[49m\n\u001b[0;32m    900\u001b[0m \u001b[38;5;66;03m# multimetric is determined here because in the case of a callable\u001b[39;00m\n\u001b[0;32m    901\u001b[0m \u001b[38;5;66;03m# self.scoring the return type is only known after calling\u001b[39;00m\n\u001b[0;32m    902\u001b[0m first_test_score \u001b[38;5;241m=\u001b[39m all_out[\u001b[38;5;241m0\u001b[39m][\u001b[38;5;124m\"\u001b[39m\u001b[38;5;124mtest_scores\u001b[39m\u001b[38;5;124m\"\u001b[39m]\n",
      "File \u001b[1;32m~\\anaconda3\\envs\\machine\\lib\\site-packages\\sklearn\\model_selection\\_search.py:1419\u001b[0m, in \u001b[0;36mGridSearchCV._run_search\u001b[1;34m(self, evaluate_candidates)\u001b[0m\n\u001b[0;32m   1417\u001b[0m \u001b[38;5;28;01mdef\u001b[39;00m \u001b[38;5;21m_run_search\u001b[39m(\u001b[38;5;28mself\u001b[39m, evaluate_candidates):\n\u001b[0;32m   1418\u001b[0m \u001b[38;5;250m    \u001b[39m\u001b[38;5;124;03m\"\"\"Search all candidates in param_grid\"\"\"\u001b[39;00m\n\u001b[1;32m-> 1419\u001b[0m     \u001b[43mevaluate_candidates\u001b[49m\u001b[43m(\u001b[49m\u001b[43mParameterGrid\u001b[49m\u001b[43m(\u001b[49m\u001b[38;5;28;43mself\u001b[39;49m\u001b[38;5;241;43m.\u001b[39;49m\u001b[43mparam_grid\u001b[49m\u001b[43m)\u001b[49m\u001b[43m)\u001b[49m\n",
      "File \u001b[1;32m~\\anaconda3\\envs\\machine\\lib\\site-packages\\sklearn\\model_selection\\_search.py:845\u001b[0m, in \u001b[0;36mBaseSearchCV.fit.<locals>.evaluate_candidates\u001b[1;34m(candidate_params, cv, more_results)\u001b[0m\n\u001b[0;32m    837\u001b[0m \u001b[38;5;28;01mif\u001b[39;00m \u001b[38;5;28mself\u001b[39m\u001b[38;5;241m.\u001b[39mverbose \u001b[38;5;241m>\u001b[39m \u001b[38;5;241m0\u001b[39m:\n\u001b[0;32m    838\u001b[0m     \u001b[38;5;28mprint\u001b[39m(\n\u001b[0;32m    839\u001b[0m         \u001b[38;5;124m\"\u001b[39m\u001b[38;5;124mFitting \u001b[39m\u001b[38;5;132;01m{0}\u001b[39;00m\u001b[38;5;124m folds for each of \u001b[39m\u001b[38;5;132;01m{1}\u001b[39;00m\u001b[38;5;124m candidates,\u001b[39m\u001b[38;5;124m\"\u001b[39m\n\u001b[0;32m    840\u001b[0m         \u001b[38;5;124m\"\u001b[39m\u001b[38;5;124m totalling \u001b[39m\u001b[38;5;132;01m{2}\u001b[39;00m\u001b[38;5;124m fits\u001b[39m\u001b[38;5;124m\"\u001b[39m\u001b[38;5;241m.\u001b[39mformat(\n\u001b[0;32m    841\u001b[0m             n_splits, n_candidates, n_candidates \u001b[38;5;241m*\u001b[39m n_splits\n\u001b[0;32m    842\u001b[0m         )\n\u001b[0;32m    843\u001b[0m     )\n\u001b[1;32m--> 845\u001b[0m out \u001b[38;5;241m=\u001b[39m \u001b[43mparallel\u001b[49m\u001b[43m(\u001b[49m\n\u001b[0;32m    846\u001b[0m \u001b[43m    \u001b[49m\u001b[43mdelayed\u001b[49m\u001b[43m(\u001b[49m\u001b[43m_fit_and_score\u001b[49m\u001b[43m)\u001b[49m\u001b[43m(\u001b[49m\n\u001b[0;32m    847\u001b[0m \u001b[43m        \u001b[49m\u001b[43mclone\u001b[49m\u001b[43m(\u001b[49m\u001b[43mbase_estimator\u001b[49m\u001b[43m)\u001b[49m\u001b[43m,\u001b[49m\n\u001b[0;32m    848\u001b[0m \u001b[43m        \u001b[49m\u001b[43mX\u001b[49m\u001b[43m,\u001b[49m\n\u001b[0;32m    849\u001b[0m \u001b[43m        \u001b[49m\u001b[43my\u001b[49m\u001b[43m,\u001b[49m\n\u001b[0;32m    850\u001b[0m \u001b[43m        \u001b[49m\u001b[43mtrain\u001b[49m\u001b[38;5;241;43m=\u001b[39;49m\u001b[43mtrain\u001b[49m\u001b[43m,\u001b[49m\n\u001b[0;32m    851\u001b[0m \u001b[43m        \u001b[49m\u001b[43mtest\u001b[49m\u001b[38;5;241;43m=\u001b[39;49m\u001b[43mtest\u001b[49m\u001b[43m,\u001b[49m\n\u001b[0;32m    852\u001b[0m \u001b[43m        \u001b[49m\u001b[43mparameters\u001b[49m\u001b[38;5;241;43m=\u001b[39;49m\u001b[43mparameters\u001b[49m\u001b[43m,\u001b[49m\n\u001b[0;32m    853\u001b[0m \u001b[43m        \u001b[49m\u001b[43msplit_progress\u001b[49m\u001b[38;5;241;43m=\u001b[39;49m\u001b[43m(\u001b[49m\u001b[43msplit_idx\u001b[49m\u001b[43m,\u001b[49m\u001b[43m \u001b[49m\u001b[43mn_splits\u001b[49m\u001b[43m)\u001b[49m\u001b[43m,\u001b[49m\n\u001b[0;32m    854\u001b[0m \u001b[43m        \u001b[49m\u001b[43mcandidate_progress\u001b[49m\u001b[38;5;241;43m=\u001b[39;49m\u001b[43m(\u001b[49m\u001b[43mcand_idx\u001b[49m\u001b[43m,\u001b[49m\u001b[43m \u001b[49m\u001b[43mn_candidates\u001b[49m\u001b[43m)\u001b[49m\u001b[43m,\u001b[49m\n\u001b[0;32m    855\u001b[0m \u001b[43m        \u001b[49m\u001b[38;5;241;43m*\u001b[39;49m\u001b[38;5;241;43m*\u001b[39;49m\u001b[43mfit_and_score_kwargs\u001b[49m\u001b[43m,\u001b[49m\n\u001b[0;32m    856\u001b[0m \u001b[43m    \u001b[49m\u001b[43m)\u001b[49m\n\u001b[0;32m    857\u001b[0m \u001b[43m    \u001b[49m\u001b[38;5;28;43;01mfor\u001b[39;49;00m\u001b[43m \u001b[49m\u001b[43m(\u001b[49m\u001b[43mcand_idx\u001b[49m\u001b[43m,\u001b[49m\u001b[43m \u001b[49m\u001b[43mparameters\u001b[49m\u001b[43m)\u001b[49m\u001b[43m,\u001b[49m\u001b[43m \u001b[49m\u001b[43m(\u001b[49m\u001b[43msplit_idx\u001b[49m\u001b[43m,\u001b[49m\u001b[43m \u001b[49m\u001b[43m(\u001b[49m\u001b[43mtrain\u001b[49m\u001b[43m,\u001b[49m\u001b[43m \u001b[49m\u001b[43mtest\u001b[49m\u001b[43m)\u001b[49m\u001b[43m)\u001b[49m\u001b[43m \u001b[49m\u001b[38;5;129;43;01min\u001b[39;49;00m\u001b[43m \u001b[49m\u001b[43mproduct\u001b[49m\u001b[43m(\u001b[49m\n\u001b[0;32m    858\u001b[0m \u001b[43m        \u001b[49m\u001b[38;5;28;43menumerate\u001b[39;49m\u001b[43m(\u001b[49m\u001b[43mcandidate_params\u001b[49m\u001b[43m)\u001b[49m\u001b[43m,\u001b[49m\u001b[43m \u001b[49m\u001b[38;5;28;43menumerate\u001b[39;49m\u001b[43m(\u001b[49m\u001b[43mcv\u001b[49m\u001b[38;5;241;43m.\u001b[39;49m\u001b[43msplit\u001b[49m\u001b[43m(\u001b[49m\u001b[43mX\u001b[49m\u001b[43m,\u001b[49m\u001b[43m \u001b[49m\u001b[43my\u001b[49m\u001b[43m,\u001b[49m\u001b[43m \u001b[49m\u001b[43mgroups\u001b[49m\u001b[43m)\u001b[49m\u001b[43m)\u001b[49m\n\u001b[0;32m    859\u001b[0m \u001b[43m    \u001b[49m\u001b[43m)\u001b[49m\n\u001b[0;32m    860\u001b[0m \u001b[43m\u001b[49m\u001b[43m)\u001b[49m\n\u001b[0;32m    862\u001b[0m \u001b[38;5;28;01mif\u001b[39;00m \u001b[38;5;28mlen\u001b[39m(out) \u001b[38;5;241m<\u001b[39m \u001b[38;5;241m1\u001b[39m:\n\u001b[0;32m    863\u001b[0m     \u001b[38;5;28;01mraise\u001b[39;00m \u001b[38;5;167;01mValueError\u001b[39;00m(\n\u001b[0;32m    864\u001b[0m         \u001b[38;5;124m\"\u001b[39m\u001b[38;5;124mNo fits were performed. \u001b[39m\u001b[38;5;124m\"\u001b[39m\n\u001b[0;32m    865\u001b[0m         \u001b[38;5;124m\"\u001b[39m\u001b[38;5;124mWas the CV iterator empty? \u001b[39m\u001b[38;5;124m\"\u001b[39m\n\u001b[0;32m    866\u001b[0m         \u001b[38;5;124m\"\u001b[39m\u001b[38;5;124mWere there no candidates?\u001b[39m\u001b[38;5;124m\"\u001b[39m\n\u001b[0;32m    867\u001b[0m     )\n",
      "File \u001b[1;32m~\\anaconda3\\envs\\machine\\lib\\site-packages\\sklearn\\utils\\parallel.py:65\u001b[0m, in \u001b[0;36mParallel.__call__\u001b[1;34m(self, iterable)\u001b[0m\n\u001b[0;32m     60\u001b[0m config \u001b[38;5;241m=\u001b[39m get_config()\n\u001b[0;32m     61\u001b[0m iterable_with_config \u001b[38;5;241m=\u001b[39m (\n\u001b[0;32m     62\u001b[0m     (_with_config(delayed_func, config), args, kwargs)\n\u001b[0;32m     63\u001b[0m     \u001b[38;5;28;01mfor\u001b[39;00m delayed_func, args, kwargs \u001b[38;5;129;01min\u001b[39;00m iterable\n\u001b[0;32m     64\u001b[0m )\n\u001b[1;32m---> 65\u001b[0m \u001b[38;5;28;01mreturn\u001b[39;00m \u001b[38;5;28;43msuper\u001b[39;49m\u001b[43m(\u001b[49m\u001b[43m)\u001b[49m\u001b[38;5;241;43m.\u001b[39;49m\u001b[38;5;21;43m__call__\u001b[39;49m\u001b[43m(\u001b[49m\u001b[43miterable_with_config\u001b[49m\u001b[43m)\u001b[49m\n",
      "File \u001b[1;32m~\\anaconda3\\envs\\machine\\lib\\site-packages\\joblib\\parallel.py:1944\u001b[0m, in \u001b[0;36mParallel.__call__\u001b[1;34m(self, iterable)\u001b[0m\n\u001b[0;32m   1938\u001b[0m \u001b[38;5;66;03m# The first item from the output is blank, but it makes the interpreter\u001b[39;00m\n\u001b[0;32m   1939\u001b[0m \u001b[38;5;66;03m# progress until it enters the Try/Except block of the generator and\u001b[39;00m\n\u001b[0;32m   1940\u001b[0m \u001b[38;5;66;03m# reach the first `yield` statement. This starts the aynchronous\u001b[39;00m\n\u001b[0;32m   1941\u001b[0m \u001b[38;5;66;03m# dispatch of the tasks to the workers.\u001b[39;00m\n\u001b[0;32m   1942\u001b[0m \u001b[38;5;28mnext\u001b[39m(output)\n\u001b[1;32m-> 1944\u001b[0m \u001b[38;5;28;01mreturn\u001b[39;00m output \u001b[38;5;28;01mif\u001b[39;00m \u001b[38;5;28mself\u001b[39m\u001b[38;5;241m.\u001b[39mreturn_generator \u001b[38;5;28;01melse\u001b[39;00m \u001b[38;5;28;43mlist\u001b[39;49m\u001b[43m(\u001b[49m\u001b[43moutput\u001b[49m\u001b[43m)\u001b[49m\n",
      "File \u001b[1;32m~\\anaconda3\\envs\\machine\\lib\\site-packages\\joblib\\parallel.py:1640\u001b[0m, in \u001b[0;36mParallel._get_outputs\u001b[1;34m(self, iterator, pre_dispatch)\u001b[0m\n\u001b[0;32m   1638\u001b[0m \u001b[38;5;28;01mexcept\u001b[39;00m \u001b[38;5;167;01mBaseException\u001b[39;00m:\n\u001b[0;32m   1639\u001b[0m     \u001b[38;5;28mself\u001b[39m\u001b[38;5;241m.\u001b[39m_exception \u001b[38;5;241m=\u001b[39m \u001b[38;5;28;01mTrue\u001b[39;00m\n\u001b[1;32m-> 1640\u001b[0m     \u001b[38;5;28;43mself\u001b[39;49m\u001b[38;5;241;43m.\u001b[39;49m\u001b[43m_abort\u001b[49m\u001b[43m(\u001b[49m\u001b[43m)\u001b[49m\n\u001b[0;32m   1641\u001b[0m     \u001b[38;5;28;01mraise\u001b[39;00m\n\u001b[0;32m   1642\u001b[0m \u001b[38;5;28;01mfinally\u001b[39;00m:\n\u001b[0;32m   1643\u001b[0m     \u001b[38;5;66;03m# Store the unconsumed tasks and terminate the workers if necessary\u001b[39;00m\n",
      "File \u001b[1;32m~\\anaconda3\\envs\\machine\\lib\\site-packages\\joblib\\parallel.py:1551\u001b[0m, in \u001b[0;36mParallel._abort\u001b[1;34m(self)\u001b[0m\n\u001b[0;32m   1546\u001b[0m \u001b[38;5;28;01mif\u001b[39;00m (\u001b[38;5;129;01mnot\u001b[39;00m \u001b[38;5;28mself\u001b[39m\u001b[38;5;241m.\u001b[39m_aborted \u001b[38;5;129;01mand\u001b[39;00m \u001b[38;5;28mhasattr\u001b[39m(backend, \u001b[38;5;124m'\u001b[39m\u001b[38;5;124mabort_everything\u001b[39m\u001b[38;5;124m'\u001b[39m)):\n\u001b[0;32m   1547\u001b[0m     \u001b[38;5;66;03m# If the backend is managed externally we need to make sure\u001b[39;00m\n\u001b[0;32m   1548\u001b[0m     \u001b[38;5;66;03m# to leave it in a working state to allow for future jobs\u001b[39;00m\n\u001b[0;32m   1549\u001b[0m     \u001b[38;5;66;03m# scheduling.\u001b[39;00m\n\u001b[0;32m   1550\u001b[0m     ensure_ready \u001b[38;5;241m=\u001b[39m \u001b[38;5;28mself\u001b[39m\u001b[38;5;241m.\u001b[39m_managed_backend\n\u001b[1;32m-> 1551\u001b[0m     \u001b[43mbackend\u001b[49m\u001b[38;5;241;43m.\u001b[39;49m\u001b[43mabort_everything\u001b[49m\u001b[43m(\u001b[49m\u001b[43mensure_ready\u001b[49m\u001b[38;5;241;43m=\u001b[39;49m\u001b[43mensure_ready\u001b[49m\u001b[43m)\u001b[49m\n\u001b[0;32m   1552\u001b[0m \u001b[38;5;28mself\u001b[39m\u001b[38;5;241m.\u001b[39m_aborted \u001b[38;5;241m=\u001b[39m \u001b[38;5;28;01mTrue\u001b[39;00m\n",
      "File \u001b[1;32m~\\anaconda3\\envs\\machine\\lib\\site-packages\\joblib\\_parallel_backends.py:632\u001b[0m, in \u001b[0;36mLokyBackend.abort_everything\u001b[1;34m(self, ensure_ready)\u001b[0m\n\u001b[0;32m    629\u001b[0m \u001b[38;5;28;01mdef\u001b[39;00m \u001b[38;5;21mabort_everything\u001b[39m(\u001b[38;5;28mself\u001b[39m, ensure_ready\u001b[38;5;241m=\u001b[39m\u001b[38;5;28;01mTrue\u001b[39;00m):\n\u001b[0;32m    630\u001b[0m \u001b[38;5;250m    \u001b[39m\u001b[38;5;124;03m\"\"\"Shutdown the workers and restart a new one with the same parameters\u001b[39;00m\n\u001b[0;32m    631\u001b[0m \u001b[38;5;124;03m    \"\"\"\u001b[39;00m\n\u001b[1;32m--> 632\u001b[0m     \u001b[38;5;28;43mself\u001b[39;49m\u001b[38;5;241;43m.\u001b[39;49m\u001b[43m_workers\u001b[49m\u001b[38;5;241;43m.\u001b[39;49m\u001b[43mterminate\u001b[49m\u001b[43m(\u001b[49m\u001b[43mkill_workers\u001b[49m\u001b[38;5;241;43m=\u001b[39;49m\u001b[38;5;28;43;01mTrue\u001b[39;49;00m\u001b[43m)\u001b[49m\n\u001b[0;32m    633\u001b[0m     \u001b[38;5;28mself\u001b[39m\u001b[38;5;241m.\u001b[39m_workers \u001b[38;5;241m=\u001b[39m \u001b[38;5;28;01mNone\u001b[39;00m\n\u001b[0;32m    635\u001b[0m     \u001b[38;5;28;01mif\u001b[39;00m ensure_ready:\n",
      "File \u001b[1;32m~\\anaconda3\\envs\\machine\\lib\\site-packages\\joblib\\executor.py:75\u001b[0m, in \u001b[0;36mMemmappingExecutor.terminate\u001b[1;34m(self, kill_workers)\u001b[0m\n\u001b[0;32m     73\u001b[0m \u001b[38;5;28;01mdef\u001b[39;00m \u001b[38;5;21mterminate\u001b[39m(\u001b[38;5;28mself\u001b[39m, kill_workers\u001b[38;5;241m=\u001b[39m\u001b[38;5;28;01mFalse\u001b[39;00m):\n\u001b[1;32m---> 75\u001b[0m     \u001b[38;5;28;43mself\u001b[39;49m\u001b[38;5;241;43m.\u001b[39;49m\u001b[43mshutdown\u001b[49m\u001b[43m(\u001b[49m\u001b[43mkill_workers\u001b[49m\u001b[38;5;241;43m=\u001b[39;49m\u001b[43mkill_workers\u001b[49m\u001b[43m)\u001b[49m\n\u001b[0;32m     77\u001b[0m     \u001b[38;5;66;03m# When workers are killed in a brutal manner, they cannot execute the\u001b[39;00m\n\u001b[0;32m     78\u001b[0m     \u001b[38;5;66;03m# finalizer of their shared memmaps. The refcount of those memmaps may\u001b[39;00m\n\u001b[0;32m     79\u001b[0m     \u001b[38;5;66;03m# be off by an unknown number, so instead of decref'ing them, we force\u001b[39;00m\n\u001b[1;32m   (...)\u001b[0m\n\u001b[0;32m     84\u001b[0m     \u001b[38;5;66;03m# with allow_non_empty=True but if we can't, it will be clean up later\u001b[39;00m\n\u001b[0;32m     85\u001b[0m     \u001b[38;5;66;03m# on by the resource_tracker.\u001b[39;00m\n\u001b[0;32m     86\u001b[0m     \u001b[38;5;28;01mwith\u001b[39;00m \u001b[38;5;28mself\u001b[39m\u001b[38;5;241m.\u001b[39m_submit_resize_lock:\n",
      "File \u001b[1;32m~\\anaconda3\\envs\\machine\\lib\\site-packages\\joblib\\externals\\loky\\process_executor.py:1303\u001b[0m, in \u001b[0;36mProcessPoolExecutor.shutdown\u001b[1;34m(self, wait, kill_workers)\u001b[0m\n\u001b[0;32m   1299\u001b[0m \u001b[38;5;28;01mif\u001b[39;00m executor_manager_thread \u001b[38;5;129;01mis\u001b[39;00m \u001b[38;5;129;01mnot\u001b[39;00m \u001b[38;5;28;01mNone\u001b[39;00m \u001b[38;5;129;01mand\u001b[39;00m wait:\n\u001b[0;32m   1300\u001b[0m     \u001b[38;5;66;03m# This locks avoids concurrent join if the interpreter\u001b[39;00m\n\u001b[0;32m   1301\u001b[0m     \u001b[38;5;66;03m# is shutting down.\u001b[39;00m\n\u001b[0;32m   1302\u001b[0m     \u001b[38;5;28;01mwith\u001b[39;00m _global_shutdown_lock:\n\u001b[1;32m-> 1303\u001b[0m         \u001b[43mexecutor_manager_thread\u001b[49m\u001b[38;5;241;43m.\u001b[39;49m\u001b[43mjoin\u001b[49m\u001b[43m(\u001b[49m\u001b[43m)\u001b[49m\n\u001b[0;32m   1304\u001b[0m         _threads_wakeups\u001b[38;5;241m.\u001b[39mpop(executor_manager_thread, \u001b[38;5;28;01mNone\u001b[39;00m)\n\u001b[0;32m   1306\u001b[0m \u001b[38;5;66;03m# To reduce the risk of opening too many files, remove references to\u001b[39;00m\n\u001b[0;32m   1307\u001b[0m \u001b[38;5;66;03m# objects that use file descriptors.\u001b[39;00m\n",
      "File \u001b[1;32m~\\anaconda3\\envs\\machine\\lib\\threading.py:1011\u001b[0m, in \u001b[0;36mThread.join\u001b[1;34m(self, timeout)\u001b[0m\n\u001b[0;32m   1008\u001b[0m     \u001b[38;5;28;01mraise\u001b[39;00m \u001b[38;5;167;01mRuntimeError\u001b[39;00m(\u001b[38;5;124m\"\u001b[39m\u001b[38;5;124mcannot join current thread\u001b[39m\u001b[38;5;124m\"\u001b[39m)\n\u001b[0;32m   1010\u001b[0m \u001b[38;5;28;01mif\u001b[39;00m timeout \u001b[38;5;129;01mis\u001b[39;00m \u001b[38;5;28;01mNone\u001b[39;00m:\n\u001b[1;32m-> 1011\u001b[0m     \u001b[38;5;28;43mself\u001b[39;49m\u001b[38;5;241;43m.\u001b[39;49m\u001b[43m_wait_for_tstate_lock\u001b[49m\u001b[43m(\u001b[49m\u001b[43m)\u001b[49m\n\u001b[0;32m   1012\u001b[0m \u001b[38;5;28;01melse\u001b[39;00m:\n\u001b[0;32m   1013\u001b[0m     \u001b[38;5;66;03m# the behavior of a negative timeout isn't documented, but\u001b[39;00m\n\u001b[0;32m   1014\u001b[0m     \u001b[38;5;66;03m# historically .join(timeout=x) for x<0 has acted as if timeout=0\u001b[39;00m\n\u001b[0;32m   1015\u001b[0m     \u001b[38;5;28mself\u001b[39m\u001b[38;5;241m.\u001b[39m_wait_for_tstate_lock(timeout\u001b[38;5;241m=\u001b[39m\u001b[38;5;28mmax\u001b[39m(timeout, \u001b[38;5;241m0\u001b[39m))\n",
      "File \u001b[1;32m~\\anaconda3\\envs\\machine\\lib\\threading.py:1027\u001b[0m, in \u001b[0;36mThread._wait_for_tstate_lock\u001b[1;34m(self, block, timeout)\u001b[0m\n\u001b[0;32m   1025\u001b[0m \u001b[38;5;28;01mif\u001b[39;00m lock \u001b[38;5;129;01mis\u001b[39;00m \u001b[38;5;28;01mNone\u001b[39;00m:  \u001b[38;5;66;03m# already determined that the C code is done\u001b[39;00m\n\u001b[0;32m   1026\u001b[0m     \u001b[38;5;28;01massert\u001b[39;00m \u001b[38;5;28mself\u001b[39m\u001b[38;5;241m.\u001b[39m_is_stopped\n\u001b[1;32m-> 1027\u001b[0m \u001b[38;5;28;01melif\u001b[39;00m \u001b[43mlock\u001b[49m\u001b[38;5;241;43m.\u001b[39;49m\u001b[43macquire\u001b[49m\u001b[43m(\u001b[49m\u001b[43mblock\u001b[49m\u001b[43m,\u001b[49m\u001b[43m \u001b[49m\u001b[43mtimeout\u001b[49m\u001b[43m)\u001b[49m:\n\u001b[0;32m   1028\u001b[0m     lock\u001b[38;5;241m.\u001b[39mrelease()\n\u001b[0;32m   1029\u001b[0m     \u001b[38;5;28mself\u001b[39m\u001b[38;5;241m.\u001b[39m_stop()\n",
      "\u001b[1;31mKeyboardInterrupt\u001b[0m: "
     ]
    }
   ],
   "source": [
    "# RandomForest\n",
    "rf_params = {\n",
    "    'n_estimators': [50, 100, 200],\n",
    "    'max_depth': [5, 10, 15],\n",
    "    'min_samples_split': [2, 5, 10],\n",
    "    'min_samples_leaf': [1, 5, 10]\n",
    "}\n",
    "rf_grid_search = GridSearchCV(estimator=RandomForestRegressor(random_state=1, n_jobs=-1),\n",
    "                              param_grid=rf_params,\n",
    "                              scoring='neg_mean_squared_error',\n",
    "                              cv=10,\n",
    "                              n_jobs=-1)\n",
    "rf_grid_search.fit(X, y)\n",
    "best_rf_model = rf_grid_search.best_estimator_\n"
   ]
  },
  {
   "cell_type": "code",
   "execution_count": null,
   "id": "4df0a095",
   "metadata": {},
   "outputs": [],
   "source": [
    "# XGBoost\n",
    "xgb_params = {\n",
    "    'n_estimators': [50, 100, 200],\n",
    "    'max_depth': [5, 10, 15],\n",
    "    'min_child_weight': [1, 3, 5],\n",
    "    'gamma': [0.1, 0.2, 0.3]\n",
    "}\n",
    "xgb_grid_search = GridSearchCV(estimator=xgb.XGBRegressor(n_jobs=-1),\n",
    "                               param_grid=xgb_params,\n",
    "                               scoring='neg_mean_squared_error',\n",
    "                               cv=10,\n",
    "                               n_jobs=-1)\n",
    "xgb_grid_search.fit(X, y)\n",
    "best_xgb_model = xgb_grid_search.best_estimator_\n"
   ]
  },
  {
   "cell_type": "code",
   "execution_count": null,
   "id": "0865943c",
   "metadata": {},
   "outputs": [],
   "source": [
    "\n",
    "# LightGBM\n",
    "lgb_params = {\n",
    "    'n_estimators': [50, 100, 200],\n",
    "    'max_depth': [5, 10, 15],\n",
    "    'min_child_weight': [1, 3, 5],\n",
    "    'num_leaves': [10, 20, 30]\n",
    "}\n",
    "lgb_grid_search = GridSearchCV(estimator=lgb.LGBMRegressor(n_jobs=-1),\n",
    "                               param_grid=lgb_params,\n",
    "                               scoring='neg_mean_squared_error',\n",
    "                               cv=10,\n",
    "                               n_jobs=-1)\n",
    "lgb_grid_search.fit(X, y)\n",
    "best_lgb_model = lgb_grid_search.best_estimator_\n",
    "\n"
   ]
  },
  {
   "cell_type": "code",
   "execution_count": null,
   "id": "aeb7cd86",
   "metadata": {},
   "outputs": [],
   "source": [
    "# 출력\n",
    "print(\"Best Linear Regression Model:\", best_lr_model)\n",
    "print(\"Best Ridge Model:\", best_ridge_model)\n",
    "print(\"Best Lasso Model:\", best_lasso_model)\n",
    "print(\"Best ElasticNet Model:\", best_enet_model)\n",
    "print(\"Best Decision Tree Model:\", best_d_tree_model)\n",
    "# print(\"Best RandomForest Model:\", best_rf_model)\n",
    "# print(\"Best XGBoost Model:\", best_xgb_model)\n",
    "# print(\"Best LightGBM Model:\", best_lgb_model)"
   ]
  },
  {
   "cell_type": "code",
   "execution_count": null,
   "id": "73452d9d",
   "metadata": {},
   "outputs": [],
   "source": []
  }
 ],
 "metadata": {
  "kernelspec": {
   "display_name": "Python 3 (ipykernel)",
   "language": "python",
   "name": "python3"
  },
  "language_info": {
   "codemirror_mode": {
    "name": "ipython",
    "version": 3
   },
   "file_extension": ".py",
   "mimetype": "text/x-python",
   "name": "python",
   "nbconvert_exporter": "python",
   "pygments_lexer": "ipython3",
   "version": "3.8.0"
  }
 },
 "nbformat": 4,
 "nbformat_minor": 5
}
