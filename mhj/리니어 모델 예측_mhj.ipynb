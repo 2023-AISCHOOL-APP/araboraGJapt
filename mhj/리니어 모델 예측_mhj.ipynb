{
 "cells": [
  {
   "cell_type": "code",
   "execution_count": 5,
   "id": "f6534264",
   "metadata": {},
   "outputs": [],
   "source": [
    "import numpy as np\n",
    "import matplotlib as plt\n",
    "import pandas as pd\n",
    "import seaborn as sns\n",
    "from scipy import stats\n",
    "import warnings\n",
    "warnings.filterwarnings('ignore')\n",
    "from sklearn.linear_model import LinearRegression\n",
    "from sklearn.model_selection import train_test_split\n",
    "\n",
    "%matplotlib inline\n",
    "\n",
    "# 데이터셋 준비\n",
    "gjhousedata = pd.read_csv('광주아파트매매데이터.csv', encoding='EUC-KR')"
   ]
  },
  {
   "cell_type": "code",
   "execution_count": 3,
   "id": "443e6983",
   "metadata": {
    "collapsed": true
   },
   "outputs": [
    {
     "name": "stdout",
     "output_type": "stream",
     "text": [
      "Collecting seaborn\n",
      "  Downloading seaborn-0.12.2-py3-none-any.whl (293 kB)\n",
      "                                              0.0/293.3 kB ? eta -:--:--\n",
      "     -----------------------------          225.3/293.3 kB 6.7 MB/s eta 0:00:01\n",
      "     -------------------------------------- 293.3/293.3 kB 6.0 MB/s eta 0:00:00\n",
      "Requirement already satisfied: numpy!=1.24.0,>=1.17 in c:\\users\\gjaischool\\anaconda3\\envs\\machine\\lib\\site-packages (from seaborn) (1.24.4)\n",
      "Requirement already satisfied: pandas>=0.25 in c:\\users\\gjaischool\\anaconda3\\envs\\machine\\lib\\site-packages (from seaborn) (2.0.3)\n",
      "Requirement already satisfied: matplotlib!=3.6.1,>=3.1 in c:\\users\\gjaischool\\anaconda3\\envs\\machine\\lib\\site-packages (from seaborn) (3.7.2)\n",
      "Requirement already satisfied: contourpy>=1.0.1 in c:\\users\\gjaischool\\anaconda3\\envs\\machine\\lib\\site-packages (from matplotlib!=3.6.1,>=3.1->seaborn) (1.1.0)\n",
      "Requirement already satisfied: cycler>=0.10 in c:\\users\\gjaischool\\anaconda3\\envs\\machine\\lib\\site-packages (from matplotlib!=3.6.1,>=3.1->seaborn) (0.11.0)\n",
      "Requirement already satisfied: fonttools>=4.22.0 in c:\\users\\gjaischool\\anaconda3\\envs\\machine\\lib\\site-packages (from matplotlib!=3.6.1,>=3.1->seaborn) (4.40.0)\n",
      "Requirement already satisfied: kiwisolver>=1.0.1 in c:\\users\\gjaischool\\anaconda3\\envs\\machine\\lib\\site-packages (from matplotlib!=3.6.1,>=3.1->seaborn) (1.4.4)\n",
      "Requirement already satisfied: packaging>=20.0 in c:\\users\\gjaischool\\anaconda3\\envs\\machine\\lib\\site-packages (from matplotlib!=3.6.1,>=3.1->seaborn) (23.0)\n",
      "Requirement already satisfied: pillow>=6.2.0 in c:\\users\\gjaischool\\anaconda3\\envs\\machine\\lib\\site-packages (from matplotlib!=3.6.1,>=3.1->seaborn) (10.0.0)\n",
      "Requirement already satisfied: pyparsing<3.1,>=2.3.1 in c:\\users\\gjaischool\\anaconda3\\envs\\machine\\lib\\site-packages (from matplotlib!=3.6.1,>=3.1->seaborn) (3.0.9)\n",
      "Requirement already satisfied: python-dateutil>=2.7 in c:\\users\\gjaischool\\anaconda3\\envs\\machine\\lib\\site-packages (from matplotlib!=3.6.1,>=3.1->seaborn) (2.8.2)\n",
      "Requirement already satisfied: importlib-resources>=3.2.0 in c:\\users\\gjaischool\\anaconda3\\envs\\machine\\lib\\site-packages (from matplotlib!=3.6.1,>=3.1->seaborn) (5.2.0)\n",
      "Requirement already satisfied: pytz>=2020.1 in c:\\users\\gjaischool\\anaconda3\\envs\\machine\\lib\\site-packages (from pandas>=0.25->seaborn) (2023.3)\n",
      "Requirement already satisfied: tzdata>=2022.1 in c:\\users\\gjaischool\\anaconda3\\envs\\machine\\lib\\site-packages (from pandas>=0.25->seaborn) (2023.3)\n",
      "Requirement already satisfied: zipp>=3.1.0 in c:\\users\\gjaischool\\anaconda3\\envs\\machine\\lib\\site-packages (from importlib-resources>=3.2.0->matplotlib!=3.6.1,>=3.1->seaborn) (3.11.0)\n",
      "Requirement already satisfied: six>=1.5 in c:\\users\\gjaischool\\anaconda3\\envs\\machine\\lib\\site-packages (from python-dateutil>=2.7->matplotlib!=3.6.1,>=3.1->seaborn) (1.16.0)\n",
      "Installing collected packages: seaborn\n",
      "Successfully installed seaborn-0.12.2\n"
     ]
    }
   ],
   "source": [
    "!pip install seaborn # seaborn 모듈 설치"
   ]
  },
  {
   "cell_type": "code",
   "execution_count": 6,
   "id": "fc4fbb04",
   "metadata": {
    "collapsed": true
   },
   "outputs": [
    {
     "data": {
      "text/html": [
       "<div>\n",
       "<style scoped>\n",
       "    .dataframe tbody tr th:only-of-type {\n",
       "        vertical-align: middle;\n",
       "    }\n",
       "\n",
       "    .dataframe tbody tr th {\n",
       "        vertical-align: top;\n",
       "    }\n",
       "\n",
       "    .dataframe thead th {\n",
       "        text-align: right;\n",
       "    }\n",
       "</style>\n",
       "<table border=\"1\" class=\"dataframe\">\n",
       "  <thead>\n",
       "    <tr style=\"text-align: right;\">\n",
       "      <th></th>\n",
       "      <th>행정명</th>\n",
       "      <th>번지</th>\n",
       "      <th>본번</th>\n",
       "      <th>부번</th>\n",
       "      <th>단지명</th>\n",
       "      <th>단지명길이</th>\n",
       "      <th>전용면적(㎡)</th>\n",
       "      <th>계약년월</th>\n",
       "      <th>계약년</th>\n",
       "      <th>계약월</th>\n",
       "      <th>계약일</th>\n",
       "      <th>거래금액(만원)</th>\n",
       "      <th>층</th>\n",
       "      <th>건축년도</th>\n",
       "      <th>건물나이</th>\n",
       "      <th>도로명</th>\n",
       "      <th>해제사유발생일</th>\n",
       "      <th>거래유형</th>\n",
       "      <th>중개사소재지</th>\n",
       "    </tr>\n",
       "  </thead>\n",
       "  <tbody>\n",
       "    <tr>\n",
       "      <th>0</th>\n",
       "      <td>광산구 도산동</td>\n",
       "      <td>1138-2</td>\n",
       "      <td>1138</td>\n",
       "      <td>2</td>\n",
       "      <td>대덕1</td>\n",
       "      <td>3</td>\n",
       "      <td>59.3100</td>\n",
       "      <td>202303</td>\n",
       "      <td>2023</td>\n",
       "      <td>3</td>\n",
       "      <td>18</td>\n",
       "      <td>9800</td>\n",
       "      <td>4</td>\n",
       "      <td>1990</td>\n",
       "      <td>33</td>\n",
       "      <td>송도로 143</td>\n",
       "      <td>NaN</td>\n",
       "      <td>중개거래</td>\n",
       "      <td>광주 광산구</td>\n",
       "    </tr>\n",
       "    <tr>\n",
       "      <th>1</th>\n",
       "      <td>광산구 도산동</td>\n",
       "      <td>790</td>\n",
       "      <td>790</td>\n",
       "      <td>0</td>\n",
       "      <td>대주피오레1차</td>\n",
       "      <td>7</td>\n",
       "      <td>84.9800</td>\n",
       "      <td>202302</td>\n",
       "      <td>2023</td>\n",
       "      <td>2</td>\n",
       "      <td>7</td>\n",
       "      <td>21000</td>\n",
       "      <td>2</td>\n",
       "      <td>2000</td>\n",
       "      <td>23</td>\n",
       "      <td>송도로182번길 55</td>\n",
       "      <td>NaN</td>\n",
       "      <td>중개거래</td>\n",
       "      <td>광주 광산구</td>\n",
       "    </tr>\n",
       "    <tr>\n",
       "      <th>2</th>\n",
       "      <td>광산구 도산동</td>\n",
       "      <td>790</td>\n",
       "      <td>790</td>\n",
       "      <td>0</td>\n",
       "      <td>대주피오레1차</td>\n",
       "      <td>7</td>\n",
       "      <td>84.9800</td>\n",
       "      <td>202305</td>\n",
       "      <td>2023</td>\n",
       "      <td>5</td>\n",
       "      <td>31</td>\n",
       "      <td>22350</td>\n",
       "      <td>5</td>\n",
       "      <td>2000</td>\n",
       "      <td>23</td>\n",
       "      <td>송도로182번길 55</td>\n",
       "      <td>NaN</td>\n",
       "      <td>중개거래</td>\n",
       "      <td>광주 광산구</td>\n",
       "    </tr>\n",
       "    <tr>\n",
       "      <th>3</th>\n",
       "      <td>광산구 도산동</td>\n",
       "      <td>820</td>\n",
       "      <td>820</td>\n",
       "      <td>0</td>\n",
       "      <td>대주피오레2차</td>\n",
       "      <td>7</td>\n",
       "      <td>84.7575</td>\n",
       "      <td>202305</td>\n",
       "      <td>2023</td>\n",
       "      <td>5</td>\n",
       "      <td>9</td>\n",
       "      <td>22400</td>\n",
       "      <td>5</td>\n",
       "      <td>2001</td>\n",
       "      <td>22</td>\n",
       "      <td>송도로182번길 16-3</td>\n",
       "      <td>NaN</td>\n",
       "      <td>직거래</td>\n",
       "      <td>-</td>\n",
       "    </tr>\n",
       "    <tr>\n",
       "      <th>4</th>\n",
       "      <td>광산구 도산동</td>\n",
       "      <td>820</td>\n",
       "      <td>820</td>\n",
       "      <td>0</td>\n",
       "      <td>대주피오레2차</td>\n",
       "      <td>7</td>\n",
       "      <td>84.7575</td>\n",
       "      <td>202305</td>\n",
       "      <td>2023</td>\n",
       "      <td>5</td>\n",
       "      <td>13</td>\n",
       "      <td>22000</td>\n",
       "      <td>13</td>\n",
       "      <td>2001</td>\n",
       "      <td>22</td>\n",
       "      <td>송도로182번길 16-3</td>\n",
       "      <td>NaN</td>\n",
       "      <td>중개거래</td>\n",
       "      <td>광주 광산구</td>\n",
       "    </tr>\n",
       "  </tbody>\n",
       "</table>\n",
       "</div>"
      ],
      "text/plain": [
       "        행정명      번지    본번  부번      단지명  단지명길이  전용면적(㎡)    계약년월   계약년  계약월  \\\n",
       "0   광산구 도산동  1138-2  1138   2      대덕1      3  59.3100  202303  2023    3   \n",
       "1   광산구 도산동     790   790   0  대주피오레1차      7  84.9800  202302  2023    2   \n",
       "2   광산구 도산동     790   790   0  대주피오레1차      7  84.9800  202305  2023    5   \n",
       "3   광산구 도산동     820   820   0  대주피오레2차      7  84.7575  202305  2023    5   \n",
       "4   광산구 도산동     820   820   0  대주피오레2차      7  84.7575  202305  2023    5   \n",
       "\n",
       "   계약일  거래금액(만원)   층  건축년도  건물나이            도로명  해제사유발생일  거래유형  중개사소재지  \n",
       "0   18      9800   4  1990    33        송도로 143      NaN  중개거래  광주 광산구  \n",
       "1    7     21000   2  2000    23    송도로182번길 55      NaN  중개거래  광주 광산구  \n",
       "2   31     22350   5  2000    23    송도로182번길 55      NaN  중개거래  광주 광산구  \n",
       "3    9     22400   5  2001    22  송도로182번길 16-3      NaN   직거래       -  \n",
       "4   13     22000  13  2001    22  송도로182번길 16-3      NaN  중개거래  광주 광산구  "
      ]
     },
     "execution_count": 6,
     "metadata": {},
     "output_type": "execute_result"
    }
   ],
   "source": [
    "gjhousedata.head()"
   ]
  },
  {
   "cell_type": "code",
   "execution_count": 7,
   "id": "933c025b",
   "metadata": {},
   "outputs": [
    {
     "data": {
      "text/plain": [
       "Index(['행정명', '번지', '본번', '부번', '단지명', '단지명길이', '전용면적(㎡)', '계약년월', '계약년',\n",
       "       '계약월', '계약일', '거래금액(만원)', '층', '건축년도', '건물나이', '도로명', '해제사유발생일', '거래유형',\n",
       "       '중개사소재지'],\n",
       "      dtype='object')"
      ]
     },
     "execution_count": 7,
     "metadata": {},
     "output_type": "execute_result"
    }
   ],
   "source": [
    "gjhousedata.keys()"
   ]
  },
  {
   "cell_type": "code",
   "execution_count": 29,
   "id": "7213a2f3",
   "metadata": {},
   "outputs": [],
   "source": [
    "X = gjhousedata[['단지명길이', '전용면적(㎡)', '층', '건물나이']]\n",
    "y = gjhousedata['거래금액(만원)']\n",
    "X_train, X_test, y_train, y_test = train_test_split(X, y, test_size=0.3, random_state=42)"
   ]
  },
  {
   "cell_type": "code",
   "execution_count": 19,
   "id": "2aaf1c63",
   "metadata": {},
   "outputs": [],
   "source": [
    "# X = gjhousedata[['전용면적(㎡)', '층', '건물나이']]\n",
    "# y = gjhousedata['거래금액(만원)']\n",
    "# X_train, X_test, y_train, y_test = train_test_split(X, y, test_size=0.3, random_state=42)"
   ]
  },
  {
   "cell_type": "code",
   "execution_count": 30,
   "id": "42b8fda5",
   "metadata": {},
   "outputs": [
    {
     "data": {
      "text/plain": [
       "((297555, 4), (297555,))"
      ]
     },
     "execution_count": 30,
     "metadata": {},
     "output_type": "execute_result"
    }
   ],
   "source": [
    "X_train.shape, y_train.shape"
   ]
  },
  {
   "cell_type": "code",
   "execution_count": 31,
   "id": "c7d69e6b",
   "metadata": {},
   "outputs": [
    {
     "data": {
      "text/plain": [
       "((127524, 4), (127524,))"
      ]
     },
     "execution_count": 31,
     "metadata": {},
     "output_type": "execute_result"
    }
   ],
   "source": [
    "X_test.shape, y_test.shape"
   ]
  },
  {
   "cell_type": "code",
   "execution_count": 32,
   "id": "48509626",
   "metadata": {},
   "outputs": [],
   "source": [
    "linear_model = LinearRegression()"
   ]
  },
  {
   "cell_type": "code",
   "execution_count": 33,
   "id": "b442fe81",
   "metadata": {},
   "outputs": [
    {
     "data": {
      "text/html": [
       "<style>#sk-container-id-3 {color: black;}#sk-container-id-3 pre{padding: 0;}#sk-container-id-3 div.sk-toggleable {background-color: white;}#sk-container-id-3 label.sk-toggleable__label {cursor: pointer;display: block;width: 100%;margin-bottom: 0;padding: 0.3em;box-sizing: border-box;text-align: center;}#sk-container-id-3 label.sk-toggleable__label-arrow:before {content: \"▸\";float: left;margin-right: 0.25em;color: #696969;}#sk-container-id-3 label.sk-toggleable__label-arrow:hover:before {color: black;}#sk-container-id-3 div.sk-estimator:hover label.sk-toggleable__label-arrow:before {color: black;}#sk-container-id-3 div.sk-toggleable__content {max-height: 0;max-width: 0;overflow: hidden;text-align: left;background-color: #f0f8ff;}#sk-container-id-3 div.sk-toggleable__content pre {margin: 0.2em;color: black;border-radius: 0.25em;background-color: #f0f8ff;}#sk-container-id-3 input.sk-toggleable__control:checked~div.sk-toggleable__content {max-height: 200px;max-width: 100%;overflow: auto;}#sk-container-id-3 input.sk-toggleable__control:checked~label.sk-toggleable__label-arrow:before {content: \"▾\";}#sk-container-id-3 div.sk-estimator input.sk-toggleable__control:checked~label.sk-toggleable__label {background-color: #d4ebff;}#sk-container-id-3 div.sk-label input.sk-toggleable__control:checked~label.sk-toggleable__label {background-color: #d4ebff;}#sk-container-id-3 input.sk-hidden--visually {border: 0;clip: rect(1px 1px 1px 1px);clip: rect(1px, 1px, 1px, 1px);height: 1px;margin: -1px;overflow: hidden;padding: 0;position: absolute;width: 1px;}#sk-container-id-3 div.sk-estimator {font-family: monospace;background-color: #f0f8ff;border: 1px dotted black;border-radius: 0.25em;box-sizing: border-box;margin-bottom: 0.5em;}#sk-container-id-3 div.sk-estimator:hover {background-color: #d4ebff;}#sk-container-id-3 div.sk-parallel-item::after {content: \"\";width: 100%;border-bottom: 1px solid gray;flex-grow: 1;}#sk-container-id-3 div.sk-label:hover label.sk-toggleable__label {background-color: #d4ebff;}#sk-container-id-3 div.sk-serial::before {content: \"\";position: absolute;border-left: 1px solid gray;box-sizing: border-box;top: 0;bottom: 0;left: 50%;z-index: 0;}#sk-container-id-3 div.sk-serial {display: flex;flex-direction: column;align-items: center;background-color: white;padding-right: 0.2em;padding-left: 0.2em;position: relative;}#sk-container-id-3 div.sk-item {position: relative;z-index: 1;}#sk-container-id-3 div.sk-parallel {display: flex;align-items: stretch;justify-content: center;background-color: white;position: relative;}#sk-container-id-3 div.sk-item::before, #sk-container-id-3 div.sk-parallel-item::before {content: \"\";position: absolute;border-left: 1px solid gray;box-sizing: border-box;top: 0;bottom: 0;left: 50%;z-index: -1;}#sk-container-id-3 div.sk-parallel-item {display: flex;flex-direction: column;z-index: 1;position: relative;background-color: white;}#sk-container-id-3 div.sk-parallel-item:first-child::after {align-self: flex-end;width: 50%;}#sk-container-id-3 div.sk-parallel-item:last-child::after {align-self: flex-start;width: 50%;}#sk-container-id-3 div.sk-parallel-item:only-child::after {width: 0;}#sk-container-id-3 div.sk-dashed-wrapped {border: 1px dashed gray;margin: 0 0.4em 0.5em 0.4em;box-sizing: border-box;padding-bottom: 0.4em;background-color: white;}#sk-container-id-3 div.sk-label label {font-family: monospace;font-weight: bold;display: inline-block;line-height: 1.2em;}#sk-container-id-3 div.sk-label-container {text-align: center;}#sk-container-id-3 div.sk-container {/* jupyter's `normalize.less` sets `[hidden] { display: none; }` but bootstrap.min.css set `[hidden] { display: none !important; }` so we also need the `!important` here to be able to override the default hidden behavior on the sphinx rendered scikit-learn.org. See: https://github.com/scikit-learn/scikit-learn/issues/21755 */display: inline-block !important;position: relative;}#sk-container-id-3 div.sk-text-repr-fallback {display: none;}</style><div id=\"sk-container-id-3\" class=\"sk-top-container\"><div class=\"sk-text-repr-fallback\"><pre>LinearRegression()</pre><b>In a Jupyter environment, please rerun this cell to show the HTML representation or trust the notebook. <br />On GitHub, the HTML representation is unable to render, please try loading this page with nbviewer.org.</b></div><div class=\"sk-container\" hidden><div class=\"sk-item\"><div class=\"sk-estimator sk-toggleable\"><input class=\"sk-toggleable__control sk-hidden--visually\" id=\"sk-estimator-id-3\" type=\"checkbox\" checked><label for=\"sk-estimator-id-3\" class=\"sk-toggleable__label sk-toggleable__label-arrow\">LinearRegression</label><div class=\"sk-toggleable__content\"><pre>LinearRegression()</pre></div></div></div></div></div>"
      ],
      "text/plain": [
       "LinearRegression()"
      ]
     },
     "execution_count": 33,
     "metadata": {},
     "output_type": "execute_result"
    }
   ],
   "source": [
    "# 모델학습\n",
    "linear_model.fit(X_train, y_train)"
   ]
  },
  {
   "cell_type": "code",
   "execution_count": 34,
   "id": "c374fed1",
   "metadata": {},
   "outputs": [
    {
     "data": {
      "text/plain": [
       "0.4543721396819643"
      ]
     },
     "execution_count": 34,
     "metadata": {},
     "output_type": "execute_result"
    }
   ],
   "source": [
    "# 회귀 모델의 score -> R square\n",
    "linear_model.score(X_test, y_test)"
   ]
  },
  {
   "cell_type": "code",
   "execution_count": 35,
   "id": "587c6a20",
   "metadata": {},
   "outputs": [
    {
     "name": "stdout",
     "output_type": "stream",
     "text": [
      "84576682.69376522 0.4543721396819643\n"
     ]
    }
   ],
   "source": [
    "from sklearn.metrics import mean_squared_error, r2_score\n",
    "mse = mean_squared_error(y_test, linear_model.predict(X_test))\n",
    "r2 = r2_score(y_test,  linear_model.predict(X_test))\n",
    "print(mse,r2)"
   ]
  },
  {
   "cell_type": "markdown",
   "id": "fc0ca603",
   "metadata": {},
   "source": [
    "### 특성확장"
   ]
  },
  {
   "cell_type": "code",
   "execution_count": 46,
   "id": "a4e90c88",
   "metadata": {},
   "outputs": [],
   "source": [
    "extended_X_train = X_train.copy()"
   ]
  },
  {
   "cell_type": "code",
   "execution_count": 47,
   "id": "297ebb24",
   "metadata": {
    "collapsed": true
   },
   "outputs": [
    {
     "data": {
      "text/html": [
       "<div>\n",
       "<style scoped>\n",
       "    .dataframe tbody tr th:only-of-type {\n",
       "        vertical-align: middle;\n",
       "    }\n",
       "\n",
       "    .dataframe tbody tr th {\n",
       "        vertical-align: top;\n",
       "    }\n",
       "\n",
       "    .dataframe thead th {\n",
       "        text-align: right;\n",
       "    }\n",
       "</style>\n",
       "<table border=\"1\" class=\"dataframe\">\n",
       "  <thead>\n",
       "    <tr style=\"text-align: right;\">\n",
       "      <th></th>\n",
       "      <th>단지명길이</th>\n",
       "      <th>전용면적(㎡)</th>\n",
       "      <th>층</th>\n",
       "      <th>건물나이</th>\n",
       "    </tr>\n",
       "  </thead>\n",
       "  <tbody>\n",
       "    <tr>\n",
       "      <th>190963</th>\n",
       "      <td>2</td>\n",
       "      <td>84.9300</td>\n",
       "      <td>9</td>\n",
       "      <td>11</td>\n",
       "    </tr>\n",
       "    <tr>\n",
       "      <th>234550</th>\n",
       "      <td>4</td>\n",
       "      <td>59.8020</td>\n",
       "      <td>13</td>\n",
       "      <td>21</td>\n",
       "    </tr>\n",
       "    <tr>\n",
       "      <th>317928</th>\n",
       "      <td>4</td>\n",
       "      <td>48.4500</td>\n",
       "      <td>8</td>\n",
       "      <td>14</td>\n",
       "    </tr>\n",
       "    <tr>\n",
       "      <th>81061</th>\n",
       "      <td>7</td>\n",
       "      <td>59.4200</td>\n",
       "      <td>18</td>\n",
       "      <td>19</td>\n",
       "    </tr>\n",
       "    <tr>\n",
       "      <th>164283</th>\n",
       "      <td>2</td>\n",
       "      <td>75.8000</td>\n",
       "      <td>5</td>\n",
       "      <td>40</td>\n",
       "    </tr>\n",
       "    <tr>\n",
       "      <th>...</th>\n",
       "      <td>...</td>\n",
       "      <td>...</td>\n",
       "      <td>...</td>\n",
       "      <td>...</td>\n",
       "    </tr>\n",
       "    <tr>\n",
       "      <th>259178</th>\n",
       "      <td>7</td>\n",
       "      <td>84.9893</td>\n",
       "      <td>7</td>\n",
       "      <td>0</td>\n",
       "    </tr>\n",
       "    <tr>\n",
       "      <th>365838</th>\n",
       "      <td>5</td>\n",
       "      <td>84.9600</td>\n",
       "      <td>25</td>\n",
       "      <td>23</td>\n",
       "    </tr>\n",
       "    <tr>\n",
       "      <th>131932</th>\n",
       "      <td>6</td>\n",
       "      <td>84.9530</td>\n",
       "      <td>2</td>\n",
       "      <td>0</td>\n",
       "    </tr>\n",
       "    <tr>\n",
       "      <th>146867</th>\n",
       "      <td>5</td>\n",
       "      <td>84.9600</td>\n",
       "      <td>8</td>\n",
       "      <td>32</td>\n",
       "    </tr>\n",
       "    <tr>\n",
       "      <th>121958</th>\n",
       "      <td>2</td>\n",
       "      <td>84.5100</td>\n",
       "      <td>2</td>\n",
       "      <td>15</td>\n",
       "    </tr>\n",
       "  </tbody>\n",
       "</table>\n",
       "<p>297555 rows × 4 columns</p>\n",
       "</div>"
      ],
      "text/plain": [
       "        단지명길이  전용면적(㎡)   층  건물나이\n",
       "190963      2  84.9300   9    11\n",
       "234550      4  59.8020  13    21\n",
       "317928      4  48.4500   8    14\n",
       "81061       7  59.4200  18    19\n",
       "164283      2  75.8000   5    40\n",
       "...       ...      ...  ..   ...\n",
       "259178      7  84.9893   7     0\n",
       "365838      5  84.9600  25    23\n",
       "131932      6  84.9530   2     0\n",
       "146867      5  84.9600   8    32\n",
       "121958      2  84.5100   2    15\n",
       "\n",
       "[297555 rows x 4 columns]"
      ]
     },
     "execution_count": 47,
     "metadata": {},
     "output_type": "execute_result"
    }
   ],
   "source": [
    "extended_X_train"
   ]
  },
  {
   "cell_type": "code",
   "execution_count": 38,
   "id": "12bf10aa",
   "metadata": {},
   "outputs": [],
   "source": [
    "extended_X_test = X_test.copy()"
   ]
  },
  {
   "cell_type": "code",
   "execution_count": 44,
   "id": "1f952b05",
   "metadata": {
    "collapsed": true
   },
   "outputs": [
    {
     "data": {
      "text/html": [
       "<div>\n",
       "<style scoped>\n",
       "    .dataframe tbody tr th:only-of-type {\n",
       "        vertical-align: middle;\n",
       "    }\n",
       "\n",
       "    .dataframe tbody tr th {\n",
       "        vertical-align: top;\n",
       "    }\n",
       "\n",
       "    .dataframe thead th {\n",
       "        text-align: right;\n",
       "    }\n",
       "</style>\n",
       "<table border=\"1\" class=\"dataframe\">\n",
       "  <thead>\n",
       "    <tr style=\"text-align: right;\">\n",
       "      <th></th>\n",
       "      <th>단지명길이</th>\n",
       "      <th>전용면적(㎡)</th>\n",
       "      <th>층</th>\n",
       "      <th>건물나이</th>\n",
       "      <th>단지명길이x단지명길이</th>\n",
       "      <th>단지명길이x전용면적(㎡)</th>\n",
       "      <th>단지명길이x층</th>\n",
       "      <th>단지명길이x건물나이</th>\n",
       "      <th>전용면적(㎡)x단지명길이</th>\n",
       "      <th>전용면적(㎡)x전용면적(㎡)</th>\n",
       "      <th>전용면적(㎡)x층</th>\n",
       "      <th>전용면적(㎡)x건물나이</th>\n",
       "      <th>층x단지명길이</th>\n",
       "      <th>층x전용면적(㎡)</th>\n",
       "      <th>층x층</th>\n",
       "      <th>층x건물나이</th>\n",
       "      <th>건물나이x단지명길이</th>\n",
       "      <th>건물나이x전용면적(㎡)</th>\n",
       "      <th>건물나이x층</th>\n",
       "      <th>건물나이x건물나이</th>\n",
       "    </tr>\n",
       "  </thead>\n",
       "  <tbody>\n",
       "    <tr>\n",
       "      <th>351536</th>\n",
       "      <td>6</td>\n",
       "      <td>84.9831</td>\n",
       "      <td>6</td>\n",
       "      <td>4</td>\n",
       "      <td>36</td>\n",
       "      <td>509.8986</td>\n",
       "      <td>36</td>\n",
       "      <td>24</td>\n",
       "      <td>509.8986</td>\n",
       "      <td>7222.127286</td>\n",
       "      <td>509.8986</td>\n",
       "      <td>339.9324</td>\n",
       "      <td>36</td>\n",
       "      <td>509.8986</td>\n",
       "      <td>36</td>\n",
       "      <td>24</td>\n",
       "      <td>24</td>\n",
       "      <td>339.9324</td>\n",
       "      <td>24</td>\n",
       "      <td>16</td>\n",
       "    </tr>\n",
       "    <tr>\n",
       "      <th>245472</th>\n",
       "      <td>2</td>\n",
       "      <td>59.9900</td>\n",
       "      <td>4</td>\n",
       "      <td>12</td>\n",
       "      <td>4</td>\n",
       "      <td>119.9800</td>\n",
       "      <td>8</td>\n",
       "      <td>24</td>\n",
       "      <td>119.9800</td>\n",
       "      <td>3598.800100</td>\n",
       "      <td>239.9600</td>\n",
       "      <td>719.8800</td>\n",
       "      <td>8</td>\n",
       "      <td>239.9600</td>\n",
       "      <td>16</td>\n",
       "      <td>48</td>\n",
       "      <td>24</td>\n",
       "      <td>719.8800</td>\n",
       "      <td>48</td>\n",
       "      <td>144</td>\n",
       "    </tr>\n",
       "    <tr>\n",
       "      <th>257689</th>\n",
       "      <td>8</td>\n",
       "      <td>65.6043</td>\n",
       "      <td>17</td>\n",
       "      <td>1</td>\n",
       "      <td>64</td>\n",
       "      <td>524.8344</td>\n",
       "      <td>136</td>\n",
       "      <td>8</td>\n",
       "      <td>524.8344</td>\n",
       "      <td>4303.924178</td>\n",
       "      <td>1115.2731</td>\n",
       "      <td>65.6043</td>\n",
       "      <td>136</td>\n",
       "      <td>1115.2731</td>\n",
       "      <td>289</td>\n",
       "      <td>17</td>\n",
       "      <td>8</td>\n",
       "      <td>65.6043</td>\n",
       "      <td>17</td>\n",
       "      <td>1</td>\n",
       "    </tr>\n",
       "    <tr>\n",
       "      <th>103411</th>\n",
       "      <td>2</td>\n",
       "      <td>92.3900</td>\n",
       "      <td>15</td>\n",
       "      <td>18</td>\n",
       "      <td>4</td>\n",
       "      <td>184.7800</td>\n",
       "      <td>30</td>\n",
       "      <td>36</td>\n",
       "      <td>184.7800</td>\n",
       "      <td>8535.912100</td>\n",
       "      <td>1385.8500</td>\n",
       "      <td>1663.0200</td>\n",
       "      <td>30</td>\n",
       "      <td>1385.8500</td>\n",
       "      <td>225</td>\n",
       "      <td>270</td>\n",
       "      <td>36</td>\n",
       "      <td>1663.0200</td>\n",
       "      <td>270</td>\n",
       "      <td>324</td>\n",
       "    </tr>\n",
       "    <tr>\n",
       "      <th>416268</th>\n",
       "      <td>2</td>\n",
       "      <td>84.9900</td>\n",
       "      <td>8</td>\n",
       "      <td>16</td>\n",
       "      <td>4</td>\n",
       "      <td>169.9800</td>\n",
       "      <td>16</td>\n",
       "      <td>32</td>\n",
       "      <td>169.9800</td>\n",
       "      <td>7223.300100</td>\n",
       "      <td>679.9200</td>\n",
       "      <td>1359.8400</td>\n",
       "      <td>16</td>\n",
       "      <td>679.9200</td>\n",
       "      <td>64</td>\n",
       "      <td>128</td>\n",
       "      <td>32</td>\n",
       "      <td>1359.8400</td>\n",
       "      <td>128</td>\n",
       "      <td>256</td>\n",
       "    </tr>\n",
       "    <tr>\n",
       "      <th>...</th>\n",
       "      <td>...</td>\n",
       "      <td>...</td>\n",
       "      <td>...</td>\n",
       "      <td>...</td>\n",
       "      <td>...</td>\n",
       "      <td>...</td>\n",
       "      <td>...</td>\n",
       "      <td>...</td>\n",
       "      <td>...</td>\n",
       "      <td>...</td>\n",
       "      <td>...</td>\n",
       "      <td>...</td>\n",
       "      <td>...</td>\n",
       "      <td>...</td>\n",
       "      <td>...</td>\n",
       "      <td>...</td>\n",
       "      <td>...</td>\n",
       "      <td>...</td>\n",
       "      <td>...</td>\n",
       "      <td>...</td>\n",
       "    </tr>\n",
       "    <tr>\n",
       "      <th>5962</th>\n",
       "      <td>4</td>\n",
       "      <td>59.7600</td>\n",
       "      <td>5</td>\n",
       "      <td>16</td>\n",
       "      <td>16</td>\n",
       "      <td>239.0400</td>\n",
       "      <td>20</td>\n",
       "      <td>64</td>\n",
       "      <td>239.0400</td>\n",
       "      <td>3571.257600</td>\n",
       "      <td>298.8000</td>\n",
       "      <td>956.1600</td>\n",
       "      <td>20</td>\n",
       "      <td>298.8000</td>\n",
       "      <td>25</td>\n",
       "      <td>80</td>\n",
       "      <td>64</td>\n",
       "      <td>956.1600</td>\n",
       "      <td>80</td>\n",
       "      <td>256</td>\n",
       "    </tr>\n",
       "    <tr>\n",
       "      <th>334958</th>\n",
       "      <td>2</td>\n",
       "      <td>84.9600</td>\n",
       "      <td>9</td>\n",
       "      <td>25</td>\n",
       "      <td>4</td>\n",
       "      <td>169.9200</td>\n",
       "      <td>18</td>\n",
       "      <td>50</td>\n",
       "      <td>169.9200</td>\n",
       "      <td>7218.201600</td>\n",
       "      <td>764.6400</td>\n",
       "      <td>2124.0000</td>\n",
       "      <td>18</td>\n",
       "      <td>764.6400</td>\n",
       "      <td>81</td>\n",
       "      <td>225</td>\n",
       "      <td>50</td>\n",
       "      <td>2124.0000</td>\n",
       "      <td>225</td>\n",
       "      <td>625</td>\n",
       "    </tr>\n",
       "    <tr>\n",
       "      <th>62259</th>\n",
       "      <td>10</td>\n",
       "      <td>84.9931</td>\n",
       "      <td>3</td>\n",
       "      <td>6</td>\n",
       "      <td>100</td>\n",
       "      <td>849.9310</td>\n",
       "      <td>30</td>\n",
       "      <td>60</td>\n",
       "      <td>849.9310</td>\n",
       "      <td>7223.827048</td>\n",
       "      <td>254.9793</td>\n",
       "      <td>509.9586</td>\n",
       "      <td>30</td>\n",
       "      <td>254.9793</td>\n",
       "      <td>9</td>\n",
       "      <td>18</td>\n",
       "      <td>60</td>\n",
       "      <td>509.9586</td>\n",
       "      <td>18</td>\n",
       "      <td>36</td>\n",
       "    </tr>\n",
       "    <tr>\n",
       "      <th>32028</th>\n",
       "      <td>4</td>\n",
       "      <td>84.8858</td>\n",
       "      <td>12</td>\n",
       "      <td>13</td>\n",
       "      <td>16</td>\n",
       "      <td>339.5432</td>\n",
       "      <td>48</td>\n",
       "      <td>52</td>\n",
       "      <td>339.5432</td>\n",
       "      <td>7205.599042</td>\n",
       "      <td>1018.6296</td>\n",
       "      <td>1103.5154</td>\n",
       "      <td>48</td>\n",
       "      <td>1018.6296</td>\n",
       "      <td>144</td>\n",
       "      <td>156</td>\n",
       "      <td>52</td>\n",
       "      <td>1103.5154</td>\n",
       "      <td>156</td>\n",
       "      <td>169</td>\n",
       "    </tr>\n",
       "    <tr>\n",
       "      <th>320077</th>\n",
       "      <td>2</td>\n",
       "      <td>114.6230</td>\n",
       "      <td>8</td>\n",
       "      <td>14</td>\n",
       "      <td>4</td>\n",
       "      <td>229.2460</td>\n",
       "      <td>16</td>\n",
       "      <td>28</td>\n",
       "      <td>229.2460</td>\n",
       "      <td>13138.432129</td>\n",
       "      <td>916.9840</td>\n",
       "      <td>1604.7220</td>\n",
       "      <td>16</td>\n",
       "      <td>916.9840</td>\n",
       "      <td>64</td>\n",
       "      <td>112</td>\n",
       "      <td>28</td>\n",
       "      <td>1604.7220</td>\n",
       "      <td>112</td>\n",
       "      <td>196</td>\n",
       "    </tr>\n",
       "  </tbody>\n",
       "</table>\n",
       "<p>127524 rows × 20 columns</p>\n",
       "</div>"
      ],
      "text/plain": [
       "        단지명길이   전용면적(㎡)   층  건물나이  단지명길이x단지명길이  단지명길이x전용면적(㎡)  단지명길이x층  \\\n",
       "351536      6   84.9831   6     4           36       509.8986       36   \n",
       "245472      2   59.9900   4    12            4       119.9800        8   \n",
       "257689      8   65.6043  17     1           64       524.8344      136   \n",
       "103411      2   92.3900  15    18            4       184.7800       30   \n",
       "416268      2   84.9900   8    16            4       169.9800       16   \n",
       "...       ...       ...  ..   ...          ...            ...      ...   \n",
       "5962        4   59.7600   5    16           16       239.0400       20   \n",
       "334958      2   84.9600   9    25            4       169.9200       18   \n",
       "62259      10   84.9931   3     6          100       849.9310       30   \n",
       "32028       4   84.8858  12    13           16       339.5432       48   \n",
       "320077      2  114.6230   8    14            4       229.2460       16   \n",
       "\n",
       "        단지명길이x건물나이  전용면적(㎡)x단지명길이  전용면적(㎡)x전용면적(㎡)  전용면적(㎡)x층  전용면적(㎡)x건물나이  \\\n",
       "351536          24       509.8986      7222.127286   509.8986      339.9324   \n",
       "245472          24       119.9800      3598.800100   239.9600      719.8800   \n",
       "257689           8       524.8344      4303.924178  1115.2731       65.6043   \n",
       "103411          36       184.7800      8535.912100  1385.8500     1663.0200   \n",
       "416268          32       169.9800      7223.300100   679.9200     1359.8400   \n",
       "...            ...            ...              ...        ...           ...   \n",
       "5962            64       239.0400      3571.257600   298.8000      956.1600   \n",
       "334958          50       169.9200      7218.201600   764.6400     2124.0000   \n",
       "62259           60       849.9310      7223.827048   254.9793      509.9586   \n",
       "32028           52       339.5432      7205.599042  1018.6296     1103.5154   \n",
       "320077          28       229.2460     13138.432129   916.9840     1604.7220   \n",
       "\n",
       "        층x단지명길이  층x전용면적(㎡)  층x층  층x건물나이  건물나이x단지명길이  건물나이x전용면적(㎡)  건물나이x층  \\\n",
       "351536       36   509.8986   36      24          24      339.9324      24   \n",
       "245472        8   239.9600   16      48          24      719.8800      48   \n",
       "257689      136  1115.2731  289      17           8       65.6043      17   \n",
       "103411       30  1385.8500  225     270          36     1663.0200     270   \n",
       "416268       16   679.9200   64     128          32     1359.8400     128   \n",
       "...         ...        ...  ...     ...         ...           ...     ...   \n",
       "5962         20   298.8000   25      80          64      956.1600      80   \n",
       "334958       18   764.6400   81     225          50     2124.0000     225   \n",
       "62259        30   254.9793    9      18          60      509.9586      18   \n",
       "32028        48  1018.6296  144     156          52     1103.5154     156   \n",
       "320077       16   916.9840   64     112          28     1604.7220     112   \n",
       "\n",
       "        건물나이x건물나이  \n",
       "351536         16  \n",
       "245472        144  \n",
       "257689          1  \n",
       "103411        324  \n",
       "416268        256  \n",
       "...           ...  \n",
       "5962          256  \n",
       "334958        625  \n",
       "62259          36  \n",
       "32028         169  \n",
       "320077        196  \n",
       "\n",
       "[127524 rows x 20 columns]"
      ]
     },
     "execution_count": 44,
     "metadata": {},
     "output_type": "execute_result"
    }
   ],
   "source": [
    "extended_X_test"
   ]
  },
  {
   "cell_type": "code",
   "execution_count": 39,
   "id": "f77aba54",
   "metadata": {},
   "outputs": [],
   "source": [
    "for col1 in X_test.columns: \n",
    "    for col2 in X_test.columns: \n",
    "        extended_X_test[ col1+ 'x' + col2] = X_test[col1] * X_test[col2]"
   ]
  },
  {
   "cell_type": "code",
   "execution_count": 48,
   "id": "5e5ebb76",
   "metadata": {},
   "outputs": [],
   "source": [
    "for col1 in X_train.columns: \n",
    "    for col2 in X_train.columns: \n",
    "        extended_X_train[ col1+ 'x' + col2] = X_train[col1] * X_train[col2]"
   ]
  },
  {
   "cell_type": "code",
   "execution_count": 40,
   "id": "4be11e95",
   "metadata": {
    "scrolled": true
   },
   "outputs": [
    {
     "data": {
      "text/html": [
       "<div>\n",
       "<style scoped>\n",
       "    .dataframe tbody tr th:only-of-type {\n",
       "        vertical-align: middle;\n",
       "    }\n",
       "\n",
       "    .dataframe tbody tr th {\n",
       "        vertical-align: top;\n",
       "    }\n",
       "\n",
       "    .dataframe thead th {\n",
       "        text-align: right;\n",
       "    }\n",
       "</style>\n",
       "<table border=\"1\" class=\"dataframe\">\n",
       "  <thead>\n",
       "    <tr style=\"text-align: right;\">\n",
       "      <th></th>\n",
       "      <th>단지명길이</th>\n",
       "      <th>전용면적(㎡)</th>\n",
       "      <th>층</th>\n",
       "      <th>건물나이</th>\n",
       "    </tr>\n",
       "  </thead>\n",
       "  <tbody>\n",
       "    <tr>\n",
       "      <th>190963</th>\n",
       "      <td>2</td>\n",
       "      <td>84.93</td>\n",
       "      <td>9</td>\n",
       "      <td>11</td>\n",
       "    </tr>\n",
       "  </tbody>\n",
       "</table>\n",
       "</div>"
      ],
      "text/plain": [
       "        단지명길이  전용면적(㎡)  층  건물나이\n",
       "190963      2    84.93  9    11"
      ]
     },
     "execution_count": 40,
     "metadata": {},
     "output_type": "execute_result"
    }
   ],
   "source": [
    "X_train.head(1)"
   ]
  },
  {
   "cell_type": "code",
   "execution_count": 41,
   "id": "c669673a",
   "metadata": {},
   "outputs": [
    {
     "data": {
      "text/plain": [
       "(127524, 20)"
      ]
     },
     "execution_count": 41,
     "metadata": {},
     "output_type": "execute_result"
    }
   ],
   "source": [
    "extended_X_test.shape # 특성 확장으로 20개 특성됨"
   ]
  },
  {
   "cell_type": "code",
   "execution_count": 49,
   "id": "0429221b",
   "metadata": {},
   "outputs": [
    {
     "data": {
      "text/plain": [
       "(297555, 20)"
      ]
     },
     "execution_count": 49,
     "metadata": {},
     "output_type": "execute_result"
    }
   ],
   "source": [
    "extended_X_train.shape"
   ]
  },
  {
   "cell_type": "code",
   "execution_count": 50,
   "id": "852ab7cc",
   "metadata": {},
   "outputs": [
    {
     "data": {
      "text/html": [
       "<style>#sk-container-id-5 {color: black;}#sk-container-id-5 pre{padding: 0;}#sk-container-id-5 div.sk-toggleable {background-color: white;}#sk-container-id-5 label.sk-toggleable__label {cursor: pointer;display: block;width: 100%;margin-bottom: 0;padding: 0.3em;box-sizing: border-box;text-align: center;}#sk-container-id-5 label.sk-toggleable__label-arrow:before {content: \"▸\";float: left;margin-right: 0.25em;color: #696969;}#sk-container-id-5 label.sk-toggleable__label-arrow:hover:before {color: black;}#sk-container-id-5 div.sk-estimator:hover label.sk-toggleable__label-arrow:before {color: black;}#sk-container-id-5 div.sk-toggleable__content {max-height: 0;max-width: 0;overflow: hidden;text-align: left;background-color: #f0f8ff;}#sk-container-id-5 div.sk-toggleable__content pre {margin: 0.2em;color: black;border-radius: 0.25em;background-color: #f0f8ff;}#sk-container-id-5 input.sk-toggleable__control:checked~div.sk-toggleable__content {max-height: 200px;max-width: 100%;overflow: auto;}#sk-container-id-5 input.sk-toggleable__control:checked~label.sk-toggleable__label-arrow:before {content: \"▾\";}#sk-container-id-5 div.sk-estimator input.sk-toggleable__control:checked~label.sk-toggleable__label {background-color: #d4ebff;}#sk-container-id-5 div.sk-label input.sk-toggleable__control:checked~label.sk-toggleable__label {background-color: #d4ebff;}#sk-container-id-5 input.sk-hidden--visually {border: 0;clip: rect(1px 1px 1px 1px);clip: rect(1px, 1px, 1px, 1px);height: 1px;margin: -1px;overflow: hidden;padding: 0;position: absolute;width: 1px;}#sk-container-id-5 div.sk-estimator {font-family: monospace;background-color: #f0f8ff;border: 1px dotted black;border-radius: 0.25em;box-sizing: border-box;margin-bottom: 0.5em;}#sk-container-id-5 div.sk-estimator:hover {background-color: #d4ebff;}#sk-container-id-5 div.sk-parallel-item::after {content: \"\";width: 100%;border-bottom: 1px solid gray;flex-grow: 1;}#sk-container-id-5 div.sk-label:hover label.sk-toggleable__label {background-color: #d4ebff;}#sk-container-id-5 div.sk-serial::before {content: \"\";position: absolute;border-left: 1px solid gray;box-sizing: border-box;top: 0;bottom: 0;left: 50%;z-index: 0;}#sk-container-id-5 div.sk-serial {display: flex;flex-direction: column;align-items: center;background-color: white;padding-right: 0.2em;padding-left: 0.2em;position: relative;}#sk-container-id-5 div.sk-item {position: relative;z-index: 1;}#sk-container-id-5 div.sk-parallel {display: flex;align-items: stretch;justify-content: center;background-color: white;position: relative;}#sk-container-id-5 div.sk-item::before, #sk-container-id-5 div.sk-parallel-item::before {content: \"\";position: absolute;border-left: 1px solid gray;box-sizing: border-box;top: 0;bottom: 0;left: 50%;z-index: -1;}#sk-container-id-5 div.sk-parallel-item {display: flex;flex-direction: column;z-index: 1;position: relative;background-color: white;}#sk-container-id-5 div.sk-parallel-item:first-child::after {align-self: flex-end;width: 50%;}#sk-container-id-5 div.sk-parallel-item:last-child::after {align-self: flex-start;width: 50%;}#sk-container-id-5 div.sk-parallel-item:only-child::after {width: 0;}#sk-container-id-5 div.sk-dashed-wrapped {border: 1px dashed gray;margin: 0 0.4em 0.5em 0.4em;box-sizing: border-box;padding-bottom: 0.4em;background-color: white;}#sk-container-id-5 div.sk-label label {font-family: monospace;font-weight: bold;display: inline-block;line-height: 1.2em;}#sk-container-id-5 div.sk-label-container {text-align: center;}#sk-container-id-5 div.sk-container {/* jupyter's `normalize.less` sets `[hidden] { display: none; }` but bootstrap.min.css set `[hidden] { display: none !important; }` so we also need the `!important` here to be able to override the default hidden behavior on the sphinx rendered scikit-learn.org. See: https://github.com/scikit-learn/scikit-learn/issues/21755 */display: inline-block !important;position: relative;}#sk-container-id-5 div.sk-text-repr-fallback {display: none;}</style><div id=\"sk-container-id-5\" class=\"sk-top-container\"><div class=\"sk-text-repr-fallback\"><pre>LinearRegression()</pre><b>In a Jupyter environment, please rerun this cell to show the HTML representation or trust the notebook. <br />On GitHub, the HTML representation is unable to render, please try loading this page with nbviewer.org.</b></div><div class=\"sk-container\" hidden><div class=\"sk-item\"><div class=\"sk-estimator sk-toggleable\"><input class=\"sk-toggleable__control sk-hidden--visually\" id=\"sk-estimator-id-5\" type=\"checkbox\" checked><label for=\"sk-estimator-id-5\" class=\"sk-toggleable__label sk-toggleable__label-arrow\">LinearRegression</label><div class=\"sk-toggleable__content\"><pre>LinearRegression()</pre></div></div></div></div></div>"
      ],
      "text/plain": [
       "LinearRegression()"
      ]
     },
     "execution_count": 50,
     "metadata": {},
     "output_type": "execute_result"
    }
   ],
   "source": [
    "# 특성 확장시킨 데이터로 새로운 모델 학습하기\n",
    "linear_model2 = LinearRegression()\n",
    "linear_model2.fit(extended_X_train, y_train)"
   ]
  },
  {
   "cell_type": "code",
   "execution_count": 51,
   "id": "24ef3b18",
   "metadata": {
    "scrolled": true
   },
   "outputs": [
    {
     "data": {
      "text/plain": [
       "0.47810672415717925"
      ]
     },
     "execution_count": 51,
     "metadata": {},
     "output_type": "execute_result"
    }
   ],
   "source": [
    "linear_model2.score(extended_X_test, y_test)"
   ]
  },
  {
   "cell_type": "code",
   "execution_count": 53,
   "id": "c3c0eb37",
   "metadata": {},
   "outputs": [],
   "source": [
    "from sklearn.model_selection import cross_val_score"
   ]
  },
  {
   "cell_type": "code",
   "execution_count": 54,
   "id": "ed78a626",
   "metadata": {},
   "outputs": [
    {
     "data": {
      "text/plain": [
       "array([0.48624291, 0.48140033, 0.47943598, 0.48731587, 0.48036756])"
      ]
     },
     "execution_count": 54,
     "metadata": {},
     "output_type": "execute_result"
    }
   ],
   "source": [
    "result2 = cross_val_score(linear_model2, extended_X_train, y_train, cv=5)\n",
    "result2"
   ]
  },
  {
   "cell_type": "code",
   "execution_count": 55,
   "id": "bcdfaf71",
   "metadata": {},
   "outputs": [
    {
     "data": {
      "text/plain": [
       "0.4829525301435484"
      ]
     },
     "execution_count": 55,
     "metadata": {},
     "output_type": "execute_result"
    }
   ],
   "source": [
    "result2.mean()"
   ]
  },
  {
   "cell_type": "code",
   "execution_count": 56,
   "id": "6d486ff0",
   "metadata": {},
   "outputs": [
    {
     "data": {
      "text/html": [
       "<div>\n",
       "<style scoped>\n",
       "    .dataframe tbody tr th:only-of-type {\n",
       "        vertical-align: middle;\n",
       "    }\n",
       "\n",
       "    .dataframe tbody tr th {\n",
       "        vertical-align: top;\n",
       "    }\n",
       "\n",
       "    .dataframe thead th {\n",
       "        text-align: right;\n",
       "    }\n",
       "</style>\n",
       "<table border=\"1\" class=\"dataframe\">\n",
       "  <thead>\n",
       "    <tr style=\"text-align: right;\">\n",
       "      <th></th>\n",
       "      <th>단지명길이</th>\n",
       "      <th>전용면적(㎡)</th>\n",
       "      <th>층</th>\n",
       "      <th>건물나이</th>\n",
       "    </tr>\n",
       "  </thead>\n",
       "  <tbody>\n",
       "    <tr>\n",
       "      <th>count</th>\n",
       "      <td>297555.00000</td>\n",
       "      <td>297555.000000</td>\n",
       "      <td>297555.000000</td>\n",
       "      <td>297555.000000</td>\n",
       "    </tr>\n",
       "    <tr>\n",
       "      <th>mean</th>\n",
       "      <td>5.41554</td>\n",
       "      <td>75.125222</td>\n",
       "      <td>8.537890</td>\n",
       "      <td>14.210922</td>\n",
       "    </tr>\n",
       "    <tr>\n",
       "      <th>std</th>\n",
       "      <td>2.87288</td>\n",
       "      <td>24.621100</td>\n",
       "      <td>5.424597</td>\n",
       "      <td>8.776816</td>\n",
       "    </tr>\n",
       "    <tr>\n",
       "      <th>min</th>\n",
       "      <td>2.00000</td>\n",
       "      <td>14.120800</td>\n",
       "      <td>-1.000000</td>\n",
       "      <td>-2.000000</td>\n",
       "    </tr>\n",
       "    <tr>\n",
       "      <th>25%</th>\n",
       "      <td>3.00000</td>\n",
       "      <td>59.790000</td>\n",
       "      <td>4.000000</td>\n",
       "      <td>7.000000</td>\n",
       "    </tr>\n",
       "    <tr>\n",
       "      <th>50%</th>\n",
       "      <td>5.00000</td>\n",
       "      <td>77.820000</td>\n",
       "      <td>8.000000</td>\n",
       "      <td>14.000000</td>\n",
       "    </tr>\n",
       "    <tr>\n",
       "      <th>75%</th>\n",
       "      <td>7.00000</td>\n",
       "      <td>84.941900</td>\n",
       "      <td>12.000000</td>\n",
       "      <td>21.000000</td>\n",
       "    </tr>\n",
       "    <tr>\n",
       "      <th>max</th>\n",
       "      <td>22.00000</td>\n",
       "      <td>283.110000</td>\n",
       "      <td>47.000000</td>\n",
       "      <td>46.000000</td>\n",
       "    </tr>\n",
       "  </tbody>\n",
       "</table>\n",
       "</div>"
      ],
      "text/plain": [
       "              단지명길이        전용면적(㎡)              층           건물나이\n",
       "count  297555.00000  297555.000000  297555.000000  297555.000000\n",
       "mean        5.41554      75.125222       8.537890      14.210922\n",
       "std         2.87288      24.621100       5.424597       8.776816\n",
       "min         2.00000      14.120800      -1.000000      -2.000000\n",
       "25%         3.00000      59.790000       4.000000       7.000000\n",
       "50%         5.00000      77.820000       8.000000      14.000000\n",
       "75%         7.00000      84.941900      12.000000      21.000000\n",
       "max        22.00000     283.110000      47.000000      46.000000"
      ]
     },
     "execution_count": 56,
     "metadata": {},
     "output_type": "execute_result"
    }
   ],
   "source": [
    "# 기술 통계 확인\n",
    "X_train.describe()"
   ]
  },
  {
   "cell_type": "markdown",
   "id": "7537481e",
   "metadata": {},
   "source": [
    "### scaler 적용"
   ]
  },
  {
   "cell_type": "code",
   "execution_count": 57,
   "id": "c7977535",
   "metadata": {},
   "outputs": [],
   "source": [
    "from sklearn.preprocessing import StandardScaler"
   ]
  },
  {
   "cell_type": "code",
   "execution_count": 58,
   "id": "7157ca58",
   "metadata": {},
   "outputs": [],
   "source": [
    "scaler = StandardScaler()"
   ]
  },
  {
   "cell_type": "code",
   "execution_count": 59,
   "id": "2b3d4162",
   "metadata": {},
   "outputs": [
    {
     "data": {
      "text/html": [
       "<style>#sk-container-id-6 {color: black;}#sk-container-id-6 pre{padding: 0;}#sk-container-id-6 div.sk-toggleable {background-color: white;}#sk-container-id-6 label.sk-toggleable__label {cursor: pointer;display: block;width: 100%;margin-bottom: 0;padding: 0.3em;box-sizing: border-box;text-align: center;}#sk-container-id-6 label.sk-toggleable__label-arrow:before {content: \"▸\";float: left;margin-right: 0.25em;color: #696969;}#sk-container-id-6 label.sk-toggleable__label-arrow:hover:before {color: black;}#sk-container-id-6 div.sk-estimator:hover label.sk-toggleable__label-arrow:before {color: black;}#sk-container-id-6 div.sk-toggleable__content {max-height: 0;max-width: 0;overflow: hidden;text-align: left;background-color: #f0f8ff;}#sk-container-id-6 div.sk-toggleable__content pre {margin: 0.2em;color: black;border-radius: 0.25em;background-color: #f0f8ff;}#sk-container-id-6 input.sk-toggleable__control:checked~div.sk-toggleable__content {max-height: 200px;max-width: 100%;overflow: auto;}#sk-container-id-6 input.sk-toggleable__control:checked~label.sk-toggleable__label-arrow:before {content: \"▾\";}#sk-container-id-6 div.sk-estimator input.sk-toggleable__control:checked~label.sk-toggleable__label {background-color: #d4ebff;}#sk-container-id-6 div.sk-label input.sk-toggleable__control:checked~label.sk-toggleable__label {background-color: #d4ebff;}#sk-container-id-6 input.sk-hidden--visually {border: 0;clip: rect(1px 1px 1px 1px);clip: rect(1px, 1px, 1px, 1px);height: 1px;margin: -1px;overflow: hidden;padding: 0;position: absolute;width: 1px;}#sk-container-id-6 div.sk-estimator {font-family: monospace;background-color: #f0f8ff;border: 1px dotted black;border-radius: 0.25em;box-sizing: border-box;margin-bottom: 0.5em;}#sk-container-id-6 div.sk-estimator:hover {background-color: #d4ebff;}#sk-container-id-6 div.sk-parallel-item::after {content: \"\";width: 100%;border-bottom: 1px solid gray;flex-grow: 1;}#sk-container-id-6 div.sk-label:hover label.sk-toggleable__label {background-color: #d4ebff;}#sk-container-id-6 div.sk-serial::before {content: \"\";position: absolute;border-left: 1px solid gray;box-sizing: border-box;top: 0;bottom: 0;left: 50%;z-index: 0;}#sk-container-id-6 div.sk-serial {display: flex;flex-direction: column;align-items: center;background-color: white;padding-right: 0.2em;padding-left: 0.2em;position: relative;}#sk-container-id-6 div.sk-item {position: relative;z-index: 1;}#sk-container-id-6 div.sk-parallel {display: flex;align-items: stretch;justify-content: center;background-color: white;position: relative;}#sk-container-id-6 div.sk-item::before, #sk-container-id-6 div.sk-parallel-item::before {content: \"\";position: absolute;border-left: 1px solid gray;box-sizing: border-box;top: 0;bottom: 0;left: 50%;z-index: -1;}#sk-container-id-6 div.sk-parallel-item {display: flex;flex-direction: column;z-index: 1;position: relative;background-color: white;}#sk-container-id-6 div.sk-parallel-item:first-child::after {align-self: flex-end;width: 50%;}#sk-container-id-6 div.sk-parallel-item:last-child::after {align-self: flex-start;width: 50%;}#sk-container-id-6 div.sk-parallel-item:only-child::after {width: 0;}#sk-container-id-6 div.sk-dashed-wrapped {border: 1px dashed gray;margin: 0 0.4em 0.5em 0.4em;box-sizing: border-box;padding-bottom: 0.4em;background-color: white;}#sk-container-id-6 div.sk-label label {font-family: monospace;font-weight: bold;display: inline-block;line-height: 1.2em;}#sk-container-id-6 div.sk-label-container {text-align: center;}#sk-container-id-6 div.sk-container {/* jupyter's `normalize.less` sets `[hidden] { display: none; }` but bootstrap.min.css set `[hidden] { display: none !important; }` so we also need the `!important` here to be able to override the default hidden behavior on the sphinx rendered scikit-learn.org. See: https://github.com/scikit-learn/scikit-learn/issues/21755 */display: inline-block !important;position: relative;}#sk-container-id-6 div.sk-text-repr-fallback {display: none;}</style><div id=\"sk-container-id-6\" class=\"sk-top-container\"><div class=\"sk-text-repr-fallback\"><pre>StandardScaler()</pre><b>In a Jupyter environment, please rerun this cell to show the HTML representation or trust the notebook. <br />On GitHub, the HTML representation is unable to render, please try loading this page with nbviewer.org.</b></div><div class=\"sk-container\" hidden><div class=\"sk-item\"><div class=\"sk-estimator sk-toggleable\"><input class=\"sk-toggleable__control sk-hidden--visually\" id=\"sk-estimator-id-6\" type=\"checkbox\" checked><label for=\"sk-estimator-id-6\" class=\"sk-toggleable__label sk-toggleable__label-arrow\">StandardScaler</label><div class=\"sk-toggleable__content\"><pre>StandardScaler()</pre></div></div></div></div></div>"
      ],
      "text/plain": [
       "StandardScaler()"
      ]
     },
     "execution_count": 59,
     "metadata": {},
     "output_type": "execute_result"
    }
   ],
   "source": [
    "scaler.fit(X_train)"
   ]
  },
  {
   "cell_type": "code",
   "execution_count": 60,
   "id": "45794498",
   "metadata": {},
   "outputs": [
    {
     "data": {
      "text/plain": [
       "array([[-1.18889253,  0.3982273 ,  0.08518795, -0.36584199],\n",
       "       [-0.49272587, -0.62236246,  0.82257114,  0.7735253 ],\n",
       "       [-0.49272587, -1.08343119, -0.09915785, -0.0240318 ],\n",
       "       ...,\n",
       "       [ 0.20344079,  0.39916146, -1.20523263, -1.619146  ],\n",
       "       [-0.14464254,  0.39944577, -0.09915785,  2.02682931],\n",
       "       [-1.18889253,  0.38116874, -1.20523263,  0.08990493]])"
      ]
     },
     "execution_count": 60,
     "metadata": {},
     "output_type": "execute_result"
    }
   ],
   "source": [
    "# 데이터 스케일링 transform 함수에서 진행\n",
    "transform_X_train = scaler.transform(X_train)\n",
    "transform_X_train"
   ]
  },
  {
   "cell_type": "code",
   "execution_count": 61,
   "id": "f5ee20dd",
   "metadata": {},
   "outputs": [
    {
     "data": {
      "text/plain": [
       "array([[ 0.20344079,  0.400384  , -0.46784944, -1.16339909],\n",
       "       [-1.18889253, -0.61472672, -0.83654104, -0.25190526],\n",
       "       [ 0.89960745, -0.38669834,  1.55995433, -1.50520927],\n",
       "       ...,\n",
       "       [ 1.59577411,  0.40079015, -1.02088683, -0.93552563],\n",
       "       [-0.49272587,  0.39643209,  0.63822534, -0.13796853],\n",
       "       [-1.18889253,  1.60422746, -0.09915785, -0.0240318 ]])"
      ]
     },
     "execution_count": 61,
     "metadata": {},
     "output_type": "execute_result"
    }
   ],
   "source": [
    "transform_X_test = scaler.transform(X_test)\n",
    "transform_X_test"
   ]
  },
  {
   "cell_type": "code",
   "execution_count": 62,
   "id": "c9360f16",
   "metadata": {},
   "outputs": [
    {
     "data": {
      "text/plain": [
       "0.4543721396819641"
      ]
     },
     "execution_count": 62,
     "metadata": {},
     "output_type": "execute_result"
    }
   ],
   "source": [
    "linear_model3 = LinearRegression()\n",
    "linear_model3.fit(transform_X_train, y_train)\n",
    "linear_model3.score(transform_X_test, y_test)"
   ]
  },
  {
   "cell_type": "code",
   "execution_count": 63,
   "id": "8e03d974",
   "metadata": {},
   "outputs": [
    {
     "data": {
      "text/plain": [
       "array([0.46014976, 0.45583286, 0.45471666, 0.46078299, 0.45569995])"
      ]
     },
     "execution_count": 63,
     "metadata": {},
     "output_type": "execute_result"
    }
   ],
   "source": [
    "result3 = cross_val_score(linear_model3,\n",
    "                transform_X_train, y_train, cv=5)\n",
    "result3"
   ]
  },
  {
   "cell_type": "code",
   "execution_count": 64,
   "id": "23214970",
   "metadata": {},
   "outputs": [
    {
     "data": {
      "text/plain": [
       "0.45743644401499123"
      ]
     },
     "execution_count": 64,
     "metadata": {},
     "output_type": "execute_result"
    }
   ],
   "source": [
    "result3.mean()"
   ]
  },
  {
   "cell_type": "markdown",
   "id": "8c993907",
   "metadata": {},
   "source": [
    "### KNN에 스케일링 데이터 적용"
   ]
  },
  {
   "cell_type": "code",
   "execution_count": 65,
   "id": "d8acd990",
   "metadata": {},
   "outputs": [],
   "source": [
    "from sklearn.neighbors import KNeighborsRegressor"
   ]
  },
  {
   "cell_type": "code",
   "execution_count": 66,
   "id": "9eebbec8",
   "metadata": {},
   "outputs": [
    {
     "data": {
      "text/plain": [
       "array([0.68426148, 0.68580133, 0.68756354])"
      ]
     },
     "execution_count": 66,
     "metadata": {},
     "output_type": "execute_result"
    }
   ],
   "source": [
    "# 1. 원본 데이터 (스케일링 X) - X_train\n",
    "knn_model = KNeighborsRegressor() # 모델 생성\n",
    "knn_result = cross_val_score(knn_model, X_train, y_train, cv=3)\n",
    "knn_result"
   ]
  },
  {
   "cell_type": "code",
   "execution_count": 67,
   "id": "2ce9b4fb",
   "metadata": {},
   "outputs": [
    {
     "data": {
      "text/plain": [
       "0.6858754515643208"
      ]
     },
     "execution_count": 67,
     "metadata": {},
     "output_type": "execute_result"
    }
   ],
   "source": [
    "knn_result.mean()"
   ]
  },
  {
   "cell_type": "code",
   "execution_count": 68,
   "id": "81c89221",
   "metadata": {},
   "outputs": [
    {
     "data": {
      "text/plain": [
       "array([0.70578151, 0.69323056, 0.69921295, 0.70172418, 0.69662553])"
      ]
     },
     "execution_count": 68,
     "metadata": {},
     "output_type": "execute_result"
    }
   ],
   "source": [
    "# 2. 스케일링한 데이터 (스케일링 O) - transform_X_train\n",
    "knn_model2 = KNeighborsRegressor() # 모델 생성\n",
    "knn_result2 = cross_val_score(knn_model2, X_train, y_train, cv=5)\n",
    "knn_result2"
   ]
  },
  {
   "cell_type": "code",
   "execution_count": 69,
   "id": "c88e1690",
   "metadata": {},
   "outputs": [
    {
     "data": {
      "text/plain": [
       "0.6993149459461317"
      ]
     },
     "execution_count": 69,
     "metadata": {},
     "output_type": "execute_result"
    }
   ],
   "source": [
    "knn_result2.mean()"
   ]
  },
  {
   "cell_type": "code",
   "execution_count": null,
   "id": "2f59f5f7",
   "metadata": {},
   "outputs": [],
   "source": []
  }
 ],
 "metadata": {
  "kernelspec": {
   "display_name": "Python 3 (ipykernel)",
   "language": "python",
   "name": "python3"
  },
  "language_info": {
   "codemirror_mode": {
    "name": "ipython",
    "version": 3
   },
   "file_extension": ".py",
   "mimetype": "text/x-python",
   "name": "python",
   "nbconvert_exporter": "python",
   "pygments_lexer": "ipython3",
   "version": "3.8.0"
  }
 },
 "nbformat": 4,
 "nbformat_minor": 5
}
