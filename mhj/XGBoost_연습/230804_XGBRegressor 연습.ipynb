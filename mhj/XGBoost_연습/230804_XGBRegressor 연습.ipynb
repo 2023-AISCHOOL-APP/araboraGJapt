{
 "cells": [
  {
   "cell_type": "markdown",
   "id": "4d5f9e15",
   "metadata": {},
   "source": [
    "## 캘리포니아 데이터 직접 받아서 회귀 모델링 연습"
   ]
  },
  {
   "cell_type": "code",
   "execution_count": null,
   "id": "e40069ee",
   "metadata": {},
   "outputs": [],
   "source": []
  }
 ],
 "metadata": {
  "kernelspec": {
   "display_name": "Python 3 (ipykernel)",
   "language": "python",
   "name": "python3"
  },
  "language_info": {
   "codemirror_mode": {
    "name": "ipython",
    "version": 3
   },
   "file_extension": ".py",
   "mimetype": "text/x-python",
   "name": "python",
   "nbconvert_exporter": "python",
   "pygments_lexer": "ipython3",
   "version": "3.10.9"
  }
 },
 "nbformat": 4,
 "nbformat_minor": 5
}
