{
 "cells": [
  {
   "cell_type": "code",
   "execution_count": 2,
   "id": "bf792bca",
   "metadata": {},
   "outputs": [],
   "source": [
    "from selenium import webdriver as wb # 통제\n",
    "from selenium.webdriver.common.keys import Keys # 입력을 위한 컴퓨터용 키보드\n",
    "from selenium.webdriver.common.by import By # 선택자 선택의 기준\n",
    "from bs4 import BeautifulSoup as bs\n",
    "import time\n",
    "import os # 파일이나 폴더를 생성, 삭제해주는 라이브러리(파일시스템 라이브러리)\n",
    "# 이미지의 경로를 이미지파일로 변환시켜주는 라이브러리\n",
    "from urllib.request import urlretrieve\n",
    "import requests as req\n",
    "from bs4 import BeautifulSoup as bs"
   ]
  },
  {
   "cell_type": "code",
   "execution_count": 22,
   "id": "bb1d5a6e",
   "metadata": {},
   "outputs": [],
   "source": [
    "driver = wb.Chrome()\n",
    "driver.get('https://home.sarangbang.com/')"
   ]
  },
  {
   "cell_type": "code",
   "execution_count": 21,
   "id": "452d2dee",
   "metadata": {
    "scrolled": true
   },
   "outputs": [],
   "source": [
    "btn_more = driver.find_element(By.CLASS_NAME,'tit_item')\n",
    "btn_more.click()"
   ]
  },
  {
   "cell_type": "code",
   "execution_count": 28,
   "id": "2a57b93d",
   "metadata": {},
   "outputs": [],
   "source": [
    "while True:\n",
    "    btn_more = driver.find_element(By.CLASS_NAME,'btn_next')\n",
    "    try: # 에러가 나기 전까지 실행할 코드\n",
    "        btn_more.click()\n",
    "        time.sleep(2)\n",
    "    except: # 에러가 났을 때 실행할 코드\n",
    "        break"
   ]
  },
  {
   "cell_type": "code",
   "execution_count": 23,
   "id": "2a0d2333",
   "metadata": {},
   "outputs": [],
   "source": [
    "soup = bs(driver.page_source, 'lxml')"
   ]
  },
  {
   "cell_type": "code",
   "execution_count": 27,
   "id": "da0814e0",
   "metadata": {},
   "outputs": [
    {
     "data": {
      "text/plain": [
       "'\"고삐 풀린 분양가\"···\\'분양가 상한제\\' 단지에 청약자 몰린다'"
      ]
     },
     "execution_count": 27,
     "metadata": {},
     "output_type": "execute_result"
    }
   ],
   "source": [
    "tit = soup.select('.tit_item')\n",
    "tit[1].text.strip()"
   ]
  },
  {
   "cell_type": "code",
   "execution_count": 28,
   "id": "d9cca1cd",
   "metadata": {},
   "outputs": [
    {
     "name": "stdout",
     "output_type": "stream",
     "text": [
      "만취차량 변압기 '쾅'···열대야 속 50여가구 정전 불편\n",
      "\n",
      "\"고삐 풀린 분양가\"···'분양가 상한제' 단지에 청약자 몰린다\n",
      "\n",
      "악성 미분양 쌓여 1만가구 육박···수렁에 빠진 '지방 건설사'\n",
      "\n",
      "철근 빠진 부실아파트 15개 단지 어디···광주 선운2 등\n",
      "\n"
     ]
    }
   ],
   "source": [
    "for i in range(len(tit)):\n",
    "    print(tit[i].text.strip())\n",
    "    print()"
   ]
  },
  {
   "cell_type": "code",
   "execution_count": 30,
   "id": "74b95bac",
   "metadata": {
    "collapsed": true
   },
   "outputs": [
    {
     "name": "stdout",
     "output_type": "stream",
     "text": [
      "\"철근 누락은 건설업계 시스템상 문제\"···정부, 민간아파트도 전수조사\n",
      "\n",
      "전국 곳곳서 부실 시공 '순살' 아파트···입주민 \"무서워 못살겠다\"\n",
      "\n",
      "시평 10위권 판도 변화···광주 붕괴 사고에 '현산' 빠지고 '호반' 진입\n",
      "\n",
      "LH 사장 \"입주 완료 5곳, 전면 재시공 갈 상태 아냐\"[일문일답]\n",
      "\n",
      "다 지어놓고 분양 안 돼…광주 미분양 15% 껑충↑\n",
      "\n",
      "꿈틀대는 대출금리···주담대 지난달 평균금리↑\n",
      "\n",
      "\"세제 지원해야\"vs\"시장에 맡겨야\"...미분양 해결책은[지방 아파트 '한숨']③\n",
      "\n",
      "삼성물산, 10년째 시평 1위···현대, 대우建 순\n",
      "\n",
      "전세대출 어디가 낮은지 '이것'으로 확인하세요\n",
      "\n",
      "\"5개월 만에 4억 올라\"···송파구 똘똘한 한 채 수요 '집중'\n",
      "\n",
      "바로가기\n",
      "\n",
      "바로가기\n",
      "\n",
      "바로가기\n",
      "\n",
      "바로가기\n",
      "\n",
      "바로가기\n",
      "\n",
      "바로가기\n",
      "\n",
      "공지사항 더보기\n",
      "\n",
      "오늘의 아파트 매매 실거래 현황\n",
      "2023.08.01 08시 국토부 실거래 기준\n",
      "\n",
      "광주아파트 실거래 추이\n",
      "\n",
      "자세히보기\n",
      "\n",
      "용두동 양산진아리채 83.25㎡\n",
      "\n",
      "봉선동 상가점포\n",
      "\n",
      "소태동 무등산골드클래스 59.98㎡\n",
      "\n",
      "우산동 현대 115.15㎡\n",
      "\n",
      "임동 중흥S클래스센텀파크 73.33㎡\n",
      "\n",
      "화정동 무등파크 74.19㎡\n",
      "\n",
      "화순읍 대광로제비앙2차 39.36㎡\n",
      "\n",
      "동면 토지/임야\n",
      "\n",
      "각화동 금호 124.42㎡\n",
      "\n",
      "수완동 상가\n",
      "\n",
      "소촌동 EG스위트밸리3차 59.33㎡\n",
      "\n",
      "이양면 단독/다가구주택\n",
      "\n",
      "나산면 토지/임야\n",
      "\n",
      "신창동 대광로제비앙 73.91㎡\n",
      "\n",
      "광천동 호반써밋광주 84.94㎡\n",
      "\n",
      "금호동 상가점포\n",
      "\n",
      "화순읍 대광로제비앙1차 59.97㎡\n",
      "\n",
      "마륵동 상무양우내안애 84.67㎡\n",
      "\n",
      "화순읍 상가점포\n",
      "\n",
      "양산동 GS자이2차 84.96㎡\n",
      "\n",
      "도천동 중흥 59.76㎡\n",
      "\n",
      "장성읍 원룸/투룸쓰리룸\n",
      "\n",
      "주월동 원룸/투룸쓰리룸\n",
      "\n",
      "일곡동 청솔4차 48.45㎡\n",
      "\n",
      "운암동 상가점포\n",
      "\n",
      "진월동 중흥파크 84.84㎡\n",
      "\n",
      "장덕동 세영리첼 84.98㎡\n",
      "\n",
      "우산동 오피스텔\n",
      "\n",
      "빛가람동 상가주택\n",
      "\n",
      "쌍촌동 상가점포\n",
      "\n",
      "남평읍 양우내안애리버시티2차 84.96㎡\n",
      "\n",
      "화순읍 대광로제비앙1차 59.97㎡\n",
      "\n",
      "내방동 내방주공 84.11㎡\n",
      "\n",
      "화순읍 산이고운 75.36㎡\n",
      "\n",
      "송하동 삼익 59.97㎡\n",
      "\n",
      "진월동 상가점포\n",
      "\n",
      "쌍촌동 상무힐스테이트 134.69㎡\n",
      "\n",
      "월곡동 영천마을주공10단지 59.92㎡\n",
      "\n",
      "쌍촌동 명지 59.97㎡\n",
      "\n",
      "월계동 상가점포\n",
      "\n",
      "화순읍 대광로제비앙2차 39.36㎡\n",
      "\n",
      "일곡동 청솔2차 48.45㎡\n",
      "\n",
      "쌍암동 힐스테이트리버파크 74.79㎡\n",
      "\n",
      "화순읍 금호타운 84.74㎡\n",
      "\n",
      "내방동 솔뫼타운 46.36㎡\n",
      "\n",
      "산수동 두암그린파크 84.99㎡\n",
      "\n",
      "송정동 원룸/투룸쓰리룸\n",
      "\n",
      "남평읍 양우내안애리버시티2차 84.96㎡\n",
      "\n",
      "송월동 상가점포\n",
      "\n",
      "신용동 광주첨단2지구사랑으로부영 84.36㎡\n",
      "\n",
      "더보기\n",
      "\n",
      "더보기\n",
      "\n",
      "더보기\n",
      "\n",
      "\n",
      "\n",
      "\n",
      "\n"
     ]
    }
   ],
   "source": [
    "title = soup.select('.text-dark')\n",
    "for i in range(len(title)):\n",
    "    print(title[i].text.strip())\n",
    "    print()"
   ]
  },
  {
   "cell_type": "code",
   "execution_count": 33,
   "id": "0b1e508b",
   "metadata": {},
   "outputs": [
    {
     "data": {
      "text/plain": [
       "'https://openapi.naver.com/v1/search/news.json'"
      ]
     },
     "execution_count": 33,
     "metadata": {},
     "output_type": "execute_result"
    }
   ],
   "source": [
    "url = 'https://openapi.naver.com/v1/search/news.json'\n",
    "url"
   ]
  },
  {
   "cell_type": "code",
   "execution_count": 3,
   "id": "71008bdb",
   "metadata": {},
   "outputs": [
    {
     "name": "stderr",
     "output_type": "stream",
     "text": [
      "Error getting version of chromedriver 115. Retrying with chromedriver 114 (attempt 1/5)\n"
     ]
    },
    {
     "name": "stdout",
     "output_type": "stream",
     "text": [
      "기지개 켜는 광주 청약시장···훈풍 이어질까\n",
      "\n",
      "\"대박이냐, 쪽박이냐\"···광주 지주택만 71곳, 주의점은?\n",
      "\n",
      "광주 아파트 매매 수급지수 다시 80선으로\n",
      "\n",
      "“지금이 가장 싸다?”···되살아나는 광주 분양권 거래\n",
      "\n",
      "광주 주택시장, 하락폭 축소에도 역전세·깡통전세에 불확실성 우려\n",
      "\n",
      "광주 주택시장 하락세 진정···한은 \"불확실성은 여전\"\n",
      "\n",
      "광주 고점 대비 낙폭 큰 아파트 봉선동서 나왔다\n",
      "\n",
      "광주 아파트 '살 사람이 없다', 매매수급지수 하락\n",
      "\n",
      "아파트 한 채 값 15억···광주 '그사세' 동네?\n",
      "\n",
      "광주 경매시장 점차 활기···아파트 낙찰률 40% 넘어\n",
      "\n"
     ]
    }
   ],
   "source": [
    "driver = wb.Chrome()\n",
    "driver.get('https://mnews.sarangbang.com/tag/%EA%B4%91%EC%A3%BC%EB%B6%80%EB%8F%99%EC%82%B0?pageIndex=3&thisLoc=4360889')\n",
    "\n",
    "soup = bs(driver.page_source, 'lxml')\n",
    "\n",
    "header = soup.select('.txt_g')\n",
    "\n",
    "for i in range(len(header)):\n",
    "    print(header[i].text.strip())\n",
    "    print()"
   ]
  },
  {
   "cell_type": "code",
   "execution_count": null,
   "id": "16a84ebd",
   "metadata": {},
   "outputs": [],
   "source": []
  },
  {
   "cell_type": "code",
   "execution_count": null,
   "id": "08ad730f",
   "metadata": {},
   "outputs": [],
   "source": []
  },
  {
   "cell_type": "code",
   "execution_count": null,
   "id": "c16d44d2",
   "metadata": {},
   "outputs": [],
   "source": []
  },
  {
   "cell_type": "markdown",
   "id": "3553edad",
   "metadata": {},
   "source": [
    "### 사랑방 광주 집값 관련 뉴스"
   ]
  },
  {
   "cell_type": "code",
   "execution_count": 15,
   "id": "119b0bc5",
   "metadata": {},
   "outputs": [],
   "source": [
    "titleList = []\n",
    "for i in range(5):\n",
    "    # 페이지 정보 요청응답\n",
    "    url = f'https://news.sarangbang.com/tag.html?keyword=%EA%B4%91%EC%A3%BC%EB%B6%80%EB%8F%99%EC%82%B0&pageIndex=3&thisLoc=4360889&p={i}'\n",
    "    res = req.get(url)\n",
    "    # bs객체화\n",
    "    soup = bs(res.text,'lxml')\n",
    "    # 뉴스기사 수집\n",
    "    title = soup.select('.link_txt')\n",
    "    title\n",
    "    # 순수한 콘텐츠만 추출\n",
    "    for i in range(len(title)):\n",
    "        titleList.append(title[i].text.strip())"
   ]
  },
  {
   "cell_type": "code",
   "execution_count": 16,
   "id": "8d29d0f6",
   "metadata": {
    "collapsed": true
   },
   "outputs": [
    {
     "data": {
      "text/plain": [
       "['기지개 켜는 광주 청약시장···훈풍 이어질까',\n",
       " '\"대박이냐, 쪽박이냐\"···광주 지주택만 71곳, 주의점은?',\n",
       " '광주 아파트 매매 수급지수 다시 80선으로',\n",
       " '“지금이 가장 싸다?”···되살아나는 광주 분양권 거래',\n",
       " '광주 주택시장, 하락폭 축소에도 역전세·깡통전세에 불확실성 우려',\n",
       " '광주 주택시장 하락세 진정···한은 \"불확실성은 여전\"',\n",
       " '광주 고점 대비 낙폭 큰 아파트 봉선동서 나왔다',\n",
       " \"광주 아파트 '살 사람이 없다', 매매수급지수 하락\",\n",
       " \"아파트 한 채 값 15억···광주 '그사세' 동네?\",\n",
       " '광주 경매시장 점차 활기···아파트 낙찰률 40% 넘어',\n",
       " '기지개 켜는 광주 청약시장···훈풍 이어질까',\n",
       " '\"대박이냐, 쪽박이냐\"···광주 지주택만 71곳, 주의점은?',\n",
       " '광주 아파트 매매 수급지수 다시 80선으로',\n",
       " '“지금이 가장 싸다?”···되살아나는 광주 분양권 거래',\n",
       " '광주 주택시장, 하락폭 축소에도 역전세·깡통전세에 불확실성 우려',\n",
       " '광주 주택시장 하락세 진정···한은 \"불확실성은 여전\"',\n",
       " '광주 고점 대비 낙폭 큰 아파트 봉선동서 나왔다',\n",
       " \"광주 아파트 '살 사람이 없다', 매매수급지수 하락\",\n",
       " \"아파트 한 채 값 15억···광주 '그사세' 동네?\",\n",
       " '광주 경매시장 점차 활기···아파트 낙찰률 40% 넘어',\n",
       " \"'될성부른 단지'만 청약흥행···광주 상반기 옥석가리기 심화\",\n",
       " '\"평당 3천만원\" 상무 센트럴자이, 광주서 통했다',\n",
       " '1분기 광주 건설사 35곳 폐업신고···줄도산 공포 확산',\n",
       " '광주 미분양 줄었지만···\"악성 늘고 거래량 줄고\"',\n",
       " \"'3천만원대' 상무센트럴 자이, 성적표에 '주목'\",\n",
       " '\"광주 아파트 비싼 이유\"···신규분양 물량 100명당 1가구꼴',\n",
       " \"올해 광주 아파트 매매 '신축 선호' 두드러졌다\",\n",
       " '5월 3주, 광주를 달군 부동산 이슈는?',\n",
       " '5월 2주, 광주를 달군 부동산 이슈는?',\n",
       " '“더 떨어질 거 같아서”… 광주 아파트 경매시장에 쌓이는 매물',\n",
       " \"침체기일수록 '입지'···광주 상무센트럴자이 등 단지 분양 잇따라\",\n",
       " '\"불황에 강하다더니\" 광주 중소형아파트의 배신?']"
      ]
     },
     "execution_count": 16,
     "metadata": {},
     "output_type": "execute_result"
    }
   ],
   "source": [
    "titleList"
   ]
  },
  {
   "cell_type": "markdown",
   "id": "61c50962",
   "metadata": {},
   "source": [
    "### 광주일보 광주 집값 관련 뉴스"
   ]
  },
  {
   "cell_type": "code",
   "execution_count": 23,
   "id": "00ab9e6f",
   "metadata": {},
   "outputs": [],
   "source": [
    "tit_list = []\n",
    "for i in range(30):\n",
    "    # 페이지 정보 요청응답\n",
    "    url = f'http://www.kwangju.co.kr/sections.php?section=278&total_record=296&page={i}'\n",
    "    res = req.get(url)\n",
    "    # bs객체화\n",
    "    soup = bs(res.text,'lxml')\n",
    "    # 뉴스기사 수집\n",
    "    title = soup.select('.sublist')\n",
    "    title\n",
    "    # 순수한 콘텐츠만 추출\n",
    "    for i in range(len(title)):\n",
    "        tit_list.append(title[i].text.strip())"
   ]
  },
  {
   "cell_type": "code",
   "execution_count": null,
   "id": "412dc2cc",
   "metadata": {},
   "outputs": [],
   "source": [
    "tit_list = []"
   ]
  },
  {
   "cell_type": "code",
   "execution_count": 88,
   "id": "aded43ad",
   "metadata": {},
   "outputs": [],
   "source": [
    "driver = wb.Chrome()\n",
    "driver.get('http://www.kwangju.co.kr/sections.php?section=278&total_record=296&page=8')\n",
    "tmp = driver.find_elements(By.CSS_SELECTOR,'.sublist')\n",
    "tit_list8 = []\n",
    "for i in range(len(tmp)):\n",
    "    tit_list8.append(tmp[i].text)"
   ]
  },
  {
   "cell_type": "code",
   "execution_count": 83,
   "id": "ad906714",
   "metadata": {
    "collapsed": true
   },
   "outputs": [
    {
     "data": {
      "text/plain": [
       "['한국부동산원·LH 임대차분쟁 조정률 42%',\n",
       " '끝없이 오르는 집값에 경매시장 ‘활활’',\n",
       " '‘대광로제비앙 장성 센텀스카이’ 793세대 공급',\n",
       " '광주 평균 아파트값 3억2237만원…1년새 5000만원↑',\n",
       " '광주 2030 아파트 ‘패닉 바잉’',\n",
       " '광주·전남 외국인 주택 보유 급증',\n",
       " '광주 연제동 ‘첨단연제비즈파크 지식산업센터’ 10일 공개',\n",
       " '‘고점 경고’ 무색…광주 집값 상승폭 확대',\n",
       " '광주시민 절반, 아파트 추가 공급에 부정적',\n",
       " '포스코건설 ‘더샵 광양베이센트’ 분양',\n",
       " '‘광양 와우지구 중흥S-클래스’ 본격 분양',\n",
       " '광주 아파트 가격 계속 오르는데…집값 고점 맞나요?',\n",
       " '코로나에 상가시장 찬바람…광주 임대료 ‘뚝’',\n",
       " '‘효성해링턴 플레이스 상무역’ 본격 분양',\n",
       " '‘남악오룡지구 중흥S-클래스 에듀파크’ 분양']"
      ]
     },
     "execution_count": 83,
     "metadata": {},
     "output_type": "execute_result"
    }
   ],
   "source": [
    "tit_list6"
   ]
  },
  {
   "cell_type": "code",
   "execution_count": 51,
   "id": "9f8bac59",
   "metadata": {
    "collapsed": true
   },
   "outputs": [
    {
     "data": {
      "text/plain": [
       "['대출 풀리자 2030세대 아파트 매입 늘었다',\n",
       " '광주·전남 미분양 주택 ‘쑥’↑…거래량은 ‘반토막’',\n",
       " '현실 반영 못한 안심전환대출 ‘흥행 저조’',\n",
       " '주택시장 매서운 한파…위기감 높아지는 건설업계',\n",
       " '광주 표준지 공시지가 14년 만에 내린다',\n",
       " '부동산 한파에 매매·분양 ‘급냉’',\n",
       " '주택청약저축 금리 6년 만에 오른다…가입자 다시 늘까',\n",
       " '광주·전남 상가 “임대료 낮춰서라도 세입자 모셔야죠”',\n",
       " '‘버팀목’ 제때 못 갚고 ‘깡통전세’ 공포까지…전세대출 비상',\n",
       " '익산 민간공원 ‘중흥S-클래스 퍼스트파크’ 본격 분양',\n",
       " '고금리에 아파트 매물 급증…매매는 급감',\n",
       " '배산임수 입지 명당 ‘더샵 광양라크포엠’ 분양',\n",
       " '거래절벽에 묶인 시장…‘헌 집’ 안 팔려 ‘새 집’ 못 간다',\n",
       " '광주 전 지역 26일부터 부동산 조정대상지역 해제',\n",
       " '청약통장도 ‘부모 찬스’…광주·전남 증여·상속 증가']"
      ]
     },
     "execution_count": 51,
     "metadata": {},
     "output_type": "execute_result"
    }
   ],
   "source": [
    "tit_list2"
   ]
  },
  {
   "cell_type": "code",
   "execution_count": 72,
   "id": "c60ed030",
   "metadata": {
    "collapsed": true
   },
   "outputs": [
    {
     "data": {
      "text/plain": [
       "[\"'역전세' 보증금 대출 규제 완화한다\",\n",
       " '전국 집값 1년반 만에 상승 전환…광주·전남은 여전히 하락세',\n",
       " '‘명품자이’에서 철골 없는 ‘순살자이’로 추락한 GS건설',\n",
       " '전국 부동산 바닥 다지는데…광주·전남은 여전히 하락세',\n",
       " '“광주 집값, 지역민 소득과 비교해 비싸다”',\n",
       " \"전국 집값 1년여 만에 하락 '스톱'…광주 광산구 49주만에 보합 전환\",\n",
       " '광주 새 아파트 ‘30평대 8억’ 말이 되나요?',\n",
       " '‘평당 3천만원’ 상무센트럴자이 광주서 통할까',\n",
       " '집값 상승 기대감에 기지캐 켜는 광주 부동산 시장',\n",
       " '미분양 물량 증가·집값 하락에도 분양가는 고공행진',\n",
       " '광주 아파트 분양, 입지·분양가 따라 성패 엇갈려',\n",
       " '부동산 ‘한파’… 건설사 ‘휘청’',\n",
       " '승원건설그룹, 신뢰·내실·윤리 경영…지역대표 건설사로 자리매김',\n",
       " '생활 프리미엄 누리는 고품격 아파트 ‘강진 승원팰리체’',\n",
       " '부동산 규제 완화에 매매 증가…광주 부동산 시장 훈풍 부나']"
      ]
     },
     "execution_count": 72,
     "metadata": {},
     "output_type": "execute_result"
    }
   ],
   "source": [
    "tit_list1"
   ]
  },
  {
   "cell_type": "code",
   "execution_count": 73,
   "id": "f7eba439",
   "metadata": {
    "collapsed": true
   },
   "outputs": [
    {
     "data": {
      "text/plain": [
       "['광주·전남 LH 전세임대주택 실입주율 50% 불과',\n",
       " '맥 못 추는 집값…광주 아파트 매매가 더 떨어졌다',\n",
       " '내일부터 종부세 특례 신청…일시적 2주택 등 광주·전남·북 2만여명',\n",
       " '광주·전남 종부세 대상 급증…체납액 3배 폭증',\n",
       " '‘거래절벽’에 뚝뚝 떨어지는 광주 집값',\n",
       " '‘금리 공포’에 집값 하락…거래절벽에 부동산 시장 꽁꽁',\n",
       " '광주 ‘내 집 마련 지름길’ 청약통장 가입 첫 감소',\n",
       " '광주, 부동산 거래절벽 … 아파트 매물 쌓인다',\n",
       " '광주 아파트 매매가격 4주 연속 하락',\n",
       " '이름따라 집값 달라진다…광주 아파트 ‘개명’ 바람',\n",
       " '‘무등광장 모아엘가 그랑데’ 그랜드 오픈',\n",
       " '“금리 상승기 광주 청년 ‘부동산 영끌’에 대출 부실 우려된다”',\n",
       " '고흥 승원팰리체 더 퍼스트, ‘제26회 살기 좋은 아파트’ 선정',\n",
       " '친환경 생태도시로 오세요 ‘무안 오룡지구 우미린’ 분양',\n",
       " '최갑렬 지회장 “협업과 소통으로 디벨로퍼 업계 발전…살아 움직이는 도시 만들겠다”']"
      ]
     },
     "execution_count": 73,
     "metadata": {},
     "output_type": "execute_result"
    }
   ],
   "source": [
    "tit_list3"
   ]
  },
  {
   "cell_type": "code",
   "execution_count": 77,
   "id": "703cb899",
   "metadata": {
    "collapsed": true
   },
   "outputs": [
    {
     "data": {
      "text/plain": [
       "['광주·전남 집값 상승 ‘주춤’…금리 인상에 경매도 ‘시들’',\n",
       " '[6·21 부동산대책] 착한 임대인, 양도세 비과세 위한 ‘2년 실거주’ 면제',\n",
       " '지금은 하이엔드 시대…‘트리마제 순천’ 분양',\n",
       " '미래가 보인다 ‘힐스테이트 영광’ 분양',\n",
       " '순천 조례 ‘한양수자인 디에디션’ 분양',\n",
       " '순천 명품 입지 ‘마크원 순천’ 분양 돌입',\n",
       " '무안 중대형 명품아파트 ‘승원팰리체’ 본격 분양',\n",
       " '‘무늬만 건설사’ 등 부적격 건설사업자 퇴출',\n",
       " \"광주 동구 금남로 롯데건설 '엘시그니처' 분양\",\n",
       " '광주 빛그린산단에 첫 아파트 단지…‘뉴타운 남양휴튼 메가시티’',\n",
       " 'LH, 올해 12만4000호 신규 입주자 모집…전년비 6000호↑',\n",
       " '광주전남중기청, 중소기업 장기근속자 아파트 특별공급',\n",
       " 'LX광주전남본부, 지적재조사 드론 본격 활용',\n",
       " '‘화정2차 골드클래스’ 견본주택 오픈, 본격 분양 나서',\n",
       " '대한전문건설협회 전남도회, 제37회 정기총회']"
      ]
     },
     "execution_count": 77,
     "metadata": {},
     "output_type": "execute_result"
    }
   ],
   "source": [
    "tit_list4"
   ]
  },
  {
   "cell_type": "code",
   "execution_count": 81,
   "id": "a5512e31",
   "metadata": {
    "collapsed": true
   },
   "outputs": [
    {
     "data": {
      "text/plain": [
       "['‘내 집에서 산다’ 전남 71.1% 전국 최고',\n",
       " '광주·전남 전문건설업계 실적 코로나 이전 회복',\n",
       " '“부동산 취득세 개편 공약, 지방재정 영향 고려해야”',\n",
       " '남해종합건설 ‘순천 오네뜨 센트럴’ 분양',\n",
       " '도심 속 전원생활 ‘수완 대라수 어썸테라스’ 분양',\n",
       " '시들해진 청약·부동산 시장…아이파크 사고로 얼어붙나',\n",
       " 'LH, 광주 선운2 신혼희망타운 741가구 내년 2월 분양',\n",
       " '광주 집값 꺾이지 않는 상승세…매물 쌓이고 거래는 줄어',\n",
       " '10월 건축착공 광주 늘고 전남은 줄어',\n",
       " '광주·전남 종부세 납부대상자·세액 늘었다',\n",
       " '공급 넘치는데 고공행진…광주시, 아파트값 잡기 총력전',\n",
       " '무안 남악신도시에 ‘힐스테이트 오룡’ 분양',\n",
       " '문세권·숲세권에 개발호재…‘센트럴운암 모아엘가 트레뷰’ 분양',\n",
       " '‘용봉 중흥 S클래스 비엔날레’ 455세대 조합원 모집',\n",
       " '‘버팀목 전세자금 대출’ 61% 수도권에 몰려']"
      ]
     },
     "execution_count": 81,
     "metadata": {},
     "output_type": "execute_result"
    }
   ],
   "source": [
    "tit_list5"
   ]
  },
  {
   "cell_type": "code",
   "execution_count": 85,
   "id": "c3a7a67f",
   "metadata": {
    "collapsed": true
   },
   "outputs": [
    {
     "data": {
      "text/plain": [
       "['광주·전남 민간 아파트 분양가 상승세 거침없다',\n",
       " '고흥썬밸리 리조트 오션뷰 빌라 오픈…선착순 회원권 모집',\n",
       " '광주 집값 53주째 오름세…7월 상승폭 확대',\n",
       " '광주, 부동산 조정대상지역 해제 ‘무산’',\n",
       " '청년·신혼부부 매입임대주택 입주자 모집',\n",
       " '취득세 중과세 피하자…1억 미만 아파트에 수요 몰린다',\n",
       " '광주·전남 주택매매 소비심리 ‘역대 최고’',\n",
       " '광주·전남 아파트 청약 경쟁률 ‘뚝’',\n",
       " '광주 아파트값 고공행진…5월 매매가 0.21%↑',\n",
       " '다주택 중과세 임박…부동산 시장 ‘거래 절벽’',\n",
       " '규제에도 꺾일 줄 모르는 광주 집값…47주 연속 상승',\n",
       " '‘광주 부동산 조정대상 해제 요청’ 뜨거운 찬반 논쟁',\n",
       " '광주, 동구·서구 ‘부동산 조정지역’ 해제되나',\n",
       " '규제에도 계속 오르는 광주·전남 집값',\n",
       " '“세금 안 무서워” 다주택자 ‘버티기’ 들어갔다']"
      ]
     },
     "execution_count": 85,
     "metadata": {},
     "output_type": "execute_result"
    }
   ],
   "source": [
    "tit_list7"
   ]
  },
  {
   "cell_type": "code",
   "execution_count": 89,
   "id": "a63a9495",
   "metadata": {
    "collapsed": true
   },
   "outputs": [
    {
     "data": {
      "text/plain": [
       "['개별주택 가격, 광주 8.44% · 전남 6.35% 상승',\n",
       " '경기침체 속 늘어난 창업…상가 공실률도 임대료도 떨어져',\n",
       " '매매·전세 물건 많은데 떨어질 줄 모르는 ‘집값’',\n",
       " '목포 첫 10년 임대 ‘평화광장 모아엘가 비스타’',\n",
       " '광주 산정 ‘대광로제비앙’ 주택전시관 19일 개관',\n",
       " '‘힐스테이트 광천’ 모델하우스 오늘 온라인 공개',\n",
       " '[2·4 부동산 대책] 공공 주도 전국 84만호 공급',\n",
       " '‘풍암·매월 라루체 더테라스’ 분양, 높은 층고·남향 배치로 통풍과 일조권 극대화',\n",
       " '‘배산임수’ 가야산 한라비발디 프리미어 분양',\n",
       " '88세대 시그니처하우스 ‘더 리미티드’',\n",
       " '광주 집값 매매·전세 동반 상승폭 확대',\n",
       " '현대 ‘힐스테이트 첨단’ 본격 분양',\n",
       " '목포 ‘하당 제일풍경채 센트럴퍼스트’ 견본주택 개관',\n",
       " '순천 가곡동 ‘대광로제비앙 리버팰리스’ 내일 주택전시관 오픈',\n",
       " '1인·신혼부부 맞춤 ‘상무 모아미래도 레이크’ 분양']"
      ]
     },
     "execution_count": 89,
     "metadata": {},
     "output_type": "execute_result"
    }
   ],
   "source": [
    "tit_list8"
   ]
  },
  {
   "cell_type": "code",
   "execution_count": null,
   "id": "f40156be",
   "metadata": {},
   "outputs": [],
   "source": []
  }
 ],
 "metadata": {
  "kernelspec": {
   "display_name": "Python 3 (ipykernel)",
   "language": "python",
   "name": "python3"
  },
  "language_info": {
   "codemirror_mode": {
    "name": "ipython",
    "version": 3
   },
   "file_extension": ".py",
   "mimetype": "text/x-python",
   "name": "python",
   "nbconvert_exporter": "python",
   "pygments_lexer": "ipython3",
   "version": "3.10.9"
  }
 },
 "nbformat": 4,
 "nbformat_minor": 5
}
