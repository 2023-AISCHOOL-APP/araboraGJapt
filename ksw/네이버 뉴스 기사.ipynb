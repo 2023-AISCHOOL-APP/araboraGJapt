{
 "cells": [
  {
   "cell_type": "code",
   "execution_count": 1,
   "id": "bf792bca",
   "metadata": {},
   "outputs": [],
   "source": [
    "from selenium import webdriver as wb # 통제\n",
    "from selenium.webdriver.common.keys import Keys # 입력을 위한 컴퓨터용 키보드\n",
    "from selenium.webdriver.common.by import By # 선택자 선택의 기준\n",
    "from bs4 import BeautifulSoup as bs\n",
    "import time\n",
    "import os # 파일이나 폴더를 생성, 삭제해주는 라이브러리(파일시스템 라이브러리)\n",
    "# 이미지의 경로를 이미지파일로 변환시켜주는 라이브러리\n",
    "from urllib.request import urlretrieve\n",
    "import requests as req\n",
    "import pandas as pd"
   ]
  },
  {
   "cell_type": "code",
   "execution_count": 2,
   "id": "bb1d5a6e",
   "metadata": {},
   "outputs": [
    {
     "name": "stderr",
     "output_type": "stream",
     "text": [
      "Error getting version of chromedriver 115. Retrying with chromedriver 114 (attempt 1/5)\n"
     ]
    }
   ],
   "source": [
    "driver = wb.Chrome()\n",
    "driver.get('https://home.sarangbang.com/')"
   ]
  },
  {
   "cell_type": "code",
   "execution_count": 3,
   "id": "452d2dee",
   "metadata": {
    "scrolled": true
   },
   "outputs": [
    {
     "ename": "ElementClickInterceptedException",
     "evalue": "Message: element click intercepted: Element <strong class=\"tit_item\">...</strong> is not clickable at point (83, 609). Other element would receive the click: <div class=\"screen\" onclick=\"hideLayerNotice();\"></div>\n  (Session info: chrome=115.0.5790.170)\nStacktrace:\nBacktrace:\n\tGetHandleVerifier [0x006BA813+48355]\n\t(No symbol) [0x0064C4B1]\n\t(No symbol) [0x00555358]\n\t(No symbol) [0x00585062]\n\t(No symbol) [0x00583B98]\n\t(No symbol) [0x0058239B]\n\t(No symbol) [0x0058179E]\n\t(No symbol) [0x00579F5C]\n\t(No symbol) [0x0059A73C]\n\t(No symbol) [0x00579A36]\n\t(No symbol) [0x0059AA94]\n\t(No symbol) [0x005AC922]\n\t(No symbol) [0x0059A536]\n\t(No symbol) [0x005782DC]\n\t(No symbol) [0x005793DD]\n\tGetHandleVerifier [0x0091AABD+2539405]\n\tGetHandleVerifier [0x0095A78F+2800735]\n\tGetHandleVerifier [0x0095456C+2775612]\n\tGetHandleVerifier [0x007451E0+616112]\n\t(No symbol) [0x00655F8C]\n\t(No symbol) [0x00652328]\n\t(No symbol) [0x0065240B]\n\t(No symbol) [0x00644FF7]\n\tBaseThreadInitThunk [0x76AD7D59+25]\n\tRtlInitializeExceptionChain [0x77DDB79B+107]\n\tRtlClearBits [0x77DDB71F+191]\n",
     "output_type": "error",
     "traceback": [
      "\u001b[1;31m---------------------------------------------------------------------------\u001b[0m",
      "\u001b[1;31mElementClickInterceptedException\u001b[0m          Traceback (most recent call last)",
      "Cell \u001b[1;32mIn[3], line 2\u001b[0m\n\u001b[0;32m      1\u001b[0m btn_more \u001b[38;5;241m=\u001b[39m driver\u001b[38;5;241m.\u001b[39mfind_element(By\u001b[38;5;241m.\u001b[39mCLASS_NAME,\u001b[38;5;124m'\u001b[39m\u001b[38;5;124mtit_item\u001b[39m\u001b[38;5;124m'\u001b[39m)\n\u001b[1;32m----> 2\u001b[0m \u001b[43mbtn_more\u001b[49m\u001b[38;5;241;43m.\u001b[39;49m\u001b[43mclick\u001b[49m\u001b[43m(\u001b[49m\u001b[43m)\u001b[49m\n",
      "File \u001b[1;32m~\\anaconda3\\lib\\site-packages\\selenium\\webdriver\\remote\\webelement.py:94\u001b[0m, in \u001b[0;36mWebElement.click\u001b[1;34m(self)\u001b[0m\n\u001b[0;32m     92\u001b[0m \u001b[38;5;28;01mdef\u001b[39;00m \u001b[38;5;21mclick\u001b[39m(\u001b[38;5;28mself\u001b[39m) \u001b[38;5;241m-\u001b[39m\u001b[38;5;241m>\u001b[39m \u001b[38;5;28;01mNone\u001b[39;00m:\n\u001b[0;32m     93\u001b[0m     \u001b[38;5;124;03m\"\"\"Clicks the element.\"\"\"\u001b[39;00m\n\u001b[1;32m---> 94\u001b[0m     \u001b[38;5;28;43mself\u001b[39;49m\u001b[38;5;241;43m.\u001b[39;49m\u001b[43m_execute\u001b[49m\u001b[43m(\u001b[49m\u001b[43mCommand\u001b[49m\u001b[38;5;241;43m.\u001b[39;49m\u001b[43mCLICK_ELEMENT\u001b[49m\u001b[43m)\u001b[49m\n",
      "File \u001b[1;32m~\\anaconda3\\lib\\site-packages\\selenium\\webdriver\\remote\\webelement.py:395\u001b[0m, in \u001b[0;36mWebElement._execute\u001b[1;34m(self, command, params)\u001b[0m\n\u001b[0;32m    393\u001b[0m     params \u001b[38;5;241m=\u001b[39m {}\n\u001b[0;32m    394\u001b[0m params[\u001b[38;5;124m\"\u001b[39m\u001b[38;5;124mid\u001b[39m\u001b[38;5;124m\"\u001b[39m] \u001b[38;5;241m=\u001b[39m \u001b[38;5;28mself\u001b[39m\u001b[38;5;241m.\u001b[39m_id\n\u001b[1;32m--> 395\u001b[0m \u001b[38;5;28;01mreturn\u001b[39;00m \u001b[38;5;28;43mself\u001b[39;49m\u001b[38;5;241;43m.\u001b[39;49m\u001b[43m_parent\u001b[49m\u001b[38;5;241;43m.\u001b[39;49m\u001b[43mexecute\u001b[49m\u001b[43m(\u001b[49m\u001b[43mcommand\u001b[49m\u001b[43m,\u001b[49m\u001b[43m \u001b[49m\u001b[43mparams\u001b[49m\u001b[43m)\u001b[49m\n",
      "File \u001b[1;32m~\\anaconda3\\lib\\site-packages\\selenium\\webdriver\\remote\\webdriver.py:346\u001b[0m, in \u001b[0;36mWebDriver.execute\u001b[1;34m(self, driver_command, params)\u001b[0m\n\u001b[0;32m    344\u001b[0m response \u001b[38;5;241m=\u001b[39m \u001b[38;5;28mself\u001b[39m\u001b[38;5;241m.\u001b[39mcommand_executor\u001b[38;5;241m.\u001b[39mexecute(driver_command, params)\n\u001b[0;32m    345\u001b[0m \u001b[38;5;28;01mif\u001b[39;00m response:\n\u001b[1;32m--> 346\u001b[0m     \u001b[38;5;28;43mself\u001b[39;49m\u001b[38;5;241;43m.\u001b[39;49m\u001b[43merror_handler\u001b[49m\u001b[38;5;241;43m.\u001b[39;49m\u001b[43mcheck_response\u001b[49m\u001b[43m(\u001b[49m\u001b[43mresponse\u001b[49m\u001b[43m)\u001b[49m\n\u001b[0;32m    347\u001b[0m     response[\u001b[38;5;124m\"\u001b[39m\u001b[38;5;124mvalue\u001b[39m\u001b[38;5;124m\"\u001b[39m] \u001b[38;5;241m=\u001b[39m \u001b[38;5;28mself\u001b[39m\u001b[38;5;241m.\u001b[39m_unwrap_value(response\u001b[38;5;241m.\u001b[39mget(\u001b[38;5;124m\"\u001b[39m\u001b[38;5;124mvalue\u001b[39m\u001b[38;5;124m\"\u001b[39m, \u001b[38;5;28;01mNone\u001b[39;00m))\n\u001b[0;32m    348\u001b[0m     \u001b[38;5;28;01mreturn\u001b[39;00m response\n",
      "File \u001b[1;32m~\\anaconda3\\lib\\site-packages\\selenium\\webdriver\\remote\\errorhandler.py:245\u001b[0m, in \u001b[0;36mErrorHandler.check_response\u001b[1;34m(self, response)\u001b[0m\n\u001b[0;32m    243\u001b[0m         alert_text \u001b[38;5;241m=\u001b[39m value[\u001b[38;5;124m\"\u001b[39m\u001b[38;5;124malert\u001b[39m\u001b[38;5;124m\"\u001b[39m]\u001b[38;5;241m.\u001b[39mget(\u001b[38;5;124m\"\u001b[39m\u001b[38;5;124mtext\u001b[39m\u001b[38;5;124m\"\u001b[39m)\n\u001b[0;32m    244\u001b[0m     \u001b[38;5;28;01mraise\u001b[39;00m exception_class(message, screen, stacktrace, alert_text)  \u001b[38;5;66;03m# type: ignore[call-arg]  # mypy is not smart enough here\u001b[39;00m\n\u001b[1;32m--> 245\u001b[0m \u001b[38;5;28;01mraise\u001b[39;00m exception_class(message, screen, stacktrace)\n",
      "\u001b[1;31mElementClickInterceptedException\u001b[0m: Message: element click intercepted: Element <strong class=\"tit_item\">...</strong> is not clickable at point (83, 609). Other element would receive the click: <div class=\"screen\" onclick=\"hideLayerNotice();\"></div>\n  (Session info: chrome=115.0.5790.170)\nStacktrace:\nBacktrace:\n\tGetHandleVerifier [0x006BA813+48355]\n\t(No symbol) [0x0064C4B1]\n\t(No symbol) [0x00555358]\n\t(No symbol) [0x00585062]\n\t(No symbol) [0x00583B98]\n\t(No symbol) [0x0058239B]\n\t(No symbol) [0x0058179E]\n\t(No symbol) [0x00579F5C]\n\t(No symbol) [0x0059A73C]\n\t(No symbol) [0x00579A36]\n\t(No symbol) [0x0059AA94]\n\t(No symbol) [0x005AC922]\n\t(No symbol) [0x0059A536]\n\t(No symbol) [0x005782DC]\n\t(No symbol) [0x005793DD]\n\tGetHandleVerifier [0x0091AABD+2539405]\n\tGetHandleVerifier [0x0095A78F+2800735]\n\tGetHandleVerifier [0x0095456C+2775612]\n\tGetHandleVerifier [0x007451E0+616112]\n\t(No symbol) [0x00655F8C]\n\t(No symbol) [0x00652328]\n\t(No symbol) [0x0065240B]\n\t(No symbol) [0x00644FF7]\n\tBaseThreadInitThunk [0x76AD7D59+25]\n\tRtlInitializeExceptionChain [0x77DDB79B+107]\n\tRtlClearBits [0x77DDB71F+191]\n"
     ]
    }
   ],
   "source": [
    "btn_more = driver.find_element(By.CLASS_NAME,'tit_item')\n",
    "btn_more.click()"
   ]
  },
  {
   "cell_type": "code",
   "execution_count": null,
   "id": "2a57b93d",
   "metadata": {},
   "outputs": [],
   "source": [
    "while True:\n",
    "    btn_more = driver.find_element(By.CLASS_NAME,'btn_next')\n",
    "    try: # 에러가 나기 전까지 실행할 코드\n",
    "        btn_more.click()\n",
    "        time.sleep(2)\n",
    "    except: # 에러가 났을 때 실행할 코드\n",
    "        break"
   ]
  },
  {
   "cell_type": "code",
   "execution_count": null,
   "id": "2a0d2333",
   "metadata": {},
   "outputs": [],
   "source": [
    "soup = bs(driver.page_source, 'lxml')"
   ]
  },
  {
   "cell_type": "code",
   "execution_count": null,
   "id": "da0814e0",
   "metadata": {},
   "outputs": [],
   "source": [
    "tit = soup.select('.tit_item')\n",
    "tit[1].text.strip()"
   ]
  },
  {
   "cell_type": "code",
   "execution_count": null,
   "id": "d9cca1cd",
   "metadata": {},
   "outputs": [],
   "source": [
    "for i in range(len(tit)):\n",
    "    print(tit[i].text.strip())\n",
    "    print()"
   ]
  },
  {
   "cell_type": "code",
   "execution_count": null,
   "id": "74b95bac",
   "metadata": {},
   "outputs": [],
   "source": [
    "title = soup.select('.text-dark')\n",
    "for i in range(len(title)):\n",
    "    print(title[i].text.strip())\n",
    "    print()"
   ]
  },
  {
   "cell_type": "code",
   "execution_count": null,
   "id": "0b1e508b",
   "metadata": {},
   "outputs": [],
   "source": [
    "url = 'https://openapi.naver.com/v1/search/news.json'\n",
    "url"
   ]
  },
  {
   "cell_type": "code",
   "execution_count": null,
   "id": "71008bdb",
   "metadata": {},
   "outputs": [],
   "source": [
    "driver = wb.Chrome()\n",
    "driver.get('https://mnews.sarangbang.com/tag/%EA%B4%91%EC%A3%BC%EB%B6%80%EB%8F%99%EC%82%B0?pageIndex=3&thisLoc=4360889')\n",
    "\n",
    "soup = bs(driver.page_source, 'lxml')\n",
    "\n",
    "header = soup.select('.txt_g')\n",
    "\n",
    "for i in range(len(header)):\n",
    "    print(header[i].text.strip())\n",
    "    print()"
   ]
  },
  {
   "cell_type": "code",
   "execution_count": null,
   "id": "16a84ebd",
   "metadata": {},
   "outputs": [],
   "source": [
    "for i in range(1,6):\n",
    "    # 페이지 정보 요청응답\n",
    "    url = 'https://review4.cre.ma/bodyluv.kr/products/reviews?app=0&iframe=1&iframe_id=crema-product-reviews-2&page={i}&parent_url=https%3A%2F%2Fbodyluv.kr%2Fproduct%2Fdetail.html%3Fproduct_no%3D437%26cate_no%3D24%26display_group%3D1%26cafe_mkt%3Dnaver_ks%26mkt_in%3DY%26ghost_mall_id%3Dnaver%26ref%3Dnaver_open%26n_media%3D11068%26n_rank%3D1%26n_ad_group%3Dgrp-a001-02-000000034660957%26n_ad%3Dnad-a001-02-000000244519851%26n_campaign_type%3D2%26n_mall_id%3Dbodyluv%26n_mall_pid%3D437%26n_ad_group_type%3D2%26NaPm%3Dct%253Dljoytdfk%257Cci%253D0ym00028Hofy6XLttf1a%257Ctr%253Dpla%257Chk%253Dd29d82944721f1f30f4d84d534de650e321a12ee&product_code=437&secure_device_token=V2ce81e552180da9923f7eb75c92ad53a7cae61e1021828652a617680e25dcc3082f302ec1604d47bd0c670401160fcbb6&widget_env=100&widget_style='\n",
    "    res = req.get(url)\n",
    "    # bs객체화\n",
    "    soup = bs(res.text,'lxml')\n",
    "    # 리뷰데이터 수집\n",
    "    review = soup.select('div.review_list_v2__message.js-collapsed-review-content.js-translate-text')\n",
    "    review\n",
    "    # 순수한 콘텐츠만 추출\n",
    "    for i in range(len(review)):\n",
    "        print(review[i].text.strip())\n",
    "        print()"
   ]
  },
  {
   "cell_type": "code",
   "execution_count": null,
   "id": "08ad730f",
   "metadata": {},
   "outputs": [],
   "source": []
  },
  {
   "cell_type": "code",
   "execution_count": null,
   "id": "c16d44d2",
   "metadata": {},
   "outputs": [],
   "source": []
  },
  {
   "cell_type": "markdown",
   "id": "3553edad",
   "metadata": {},
   "source": [
    "### 사랑방 광주 집값 관련 뉴스"
   ]
  },
  {
   "cell_type": "code",
   "execution_count": null,
   "id": "119b0bc5",
   "metadata": {},
   "outputs": [],
   "source": [
    "titleList = []\n",
    "for i in range(5):\n",
    "    # 페이지 정보 요청응답\n",
    "    url = f'https://news.sarangbang.com/tag.html?keyword=%EA%B4%91%EC%A3%BC%EB%B6%80%EB%8F%99%EC%82%B0&pageIndex=3&thisLoc=4360889&p={i}'\n",
    "    res = req.get(url)\n",
    "    # bs객체화\n",
    "    soup = bs(res.text,'lxml')\n",
    "    # 뉴스기사 수집\n",
    "    title = soup.select('.link_txt')\n",
    "    title\n",
    "    # 순수한 콘텐츠만 추출\n",
    "    for i in range(len(title)):\n",
    "        titleList.append(title[i].text.strip())"
   ]
  },
  {
   "cell_type": "code",
   "execution_count": null,
   "id": "8d29d0f6",
   "metadata": {},
   "outputs": [],
   "source": [
    "titleList"
   ]
  },
  {
   "cell_type": "markdown",
   "id": "61c50962",
   "metadata": {},
   "source": [
    "### 광주일보 광주 집값 관련 뉴스"
   ]
  },
  {
   "cell_type": "code",
   "execution_count": null,
   "id": "00ab9e6f",
   "metadata": {},
   "outputs": [],
   "source": [
    "tit_list = []\n",
    "for i in range(30):\n",
    "    # 페이지 정보 요청응답\n",
    "    url = f'http://www.kwangju.co.kr/sections.php?section=278&total_record=296&page={i}'\n",
    "    res = req.get(url)\n",
    "    # bs객체화\n",
    "    soup = bs(res.content.decode('euc-kr','replace'),'lxml')\n",
    "    # 뉴스기사 수집\n",
    "    title = soup.select('.sublist')\n",
    "    title\n",
    "    # 순수한 콘텐츠만 추출\n",
    "    for i in range(len(title)):\n",
    "        tit_list.append(title[i].text.strip())"
   ]
  },
  {
   "cell_type": "code",
   "execution_count": null,
   "id": "394af3aa",
   "metadata": {},
   "outputs": [],
   "source": [
    "soup"
   ]
  },
  {
   "cell_type": "code",
   "execution_count": null,
   "id": "412dc2cc",
   "metadata": {},
   "outputs": [],
   "source": [
    "tit_list"
   ]
  },
  {
   "cell_type": "code",
   "execution_count": null,
   "id": "aded43ad",
   "metadata": {},
   "outputs": [],
   "source": [
    "# 넌 빠이\n",
    "# tit_list = []\n",
    "# driver = wb.Chrome()\n",
    "# driver.get('http://www.kwangju.co.kr/sections.php?section=278&total_record=296')\n",
    "# for i in range(0,9):\n",
    "    # 2. 버튼을 클릭해서 페이지 이동\n",
    "    # hint - 상품의 이미지를 클릭해서 이동\n",
    "    # button = driver.find_elements(By.CLASS_NAME,'page')\n",
    "    # button[i].click()\n",
    "    # time.sleep(1)\n",
    "\n",
    "    # 3-1. bs 객체화 진행\n",
    "    # 3-2. 상품의 이름정보 수집\n",
    "    # 3-3. 상품의 가격정보 수집\n",
    "    # 3-4. 상품의 마지막 카테고리 정보 수집\n",
    "    # soup = bs(driver.page_source, 'lxml')\n",
    "    # header = soup.select('.sublist')\n",
    "    # header[i].text\n",
    "    \n",
    "    # tit_list.append(header)\n",
    "    \n",
    "    # 4. 끝내기\n",
    "    # driver.quit()"
   ]
  },
  {
   "cell_type": "code",
   "execution_count": null,
   "id": "ac266743",
   "metadata": {},
   "outputs": [],
   "source": []
  },
  {
   "cell_type": "code",
   "execution_count": null,
   "id": "123ae515",
   "metadata": {},
   "outputs": [],
   "source": []
  },
  {
   "cell_type": "code",
   "execution_count": null,
   "id": "e717aa9f",
   "metadata": {},
   "outputs": [],
   "source": []
  },
  {
   "cell_type": "code",
   "execution_count": null,
   "id": "5703e370",
   "metadata": {},
   "outputs": [],
   "source": []
  },
  {
   "cell_type": "code",
   "execution_count": null,
   "id": "e0028fe6",
   "metadata": {},
   "outputs": [],
   "source": []
  },
  {
   "cell_type": "code",
   "execution_count": null,
   "id": "ef8434ca",
   "metadata": {},
   "outputs": [],
   "source": []
  },
  {
   "cell_type": "code",
   "execution_count": null,
   "id": "586e4c8c",
   "metadata": {},
   "outputs": [],
   "source": []
  },
  {
   "cell_type": "code",
   "execution_count": null,
   "id": "6daecada",
   "metadata": {},
   "outputs": [],
   "source": []
  },
  {
   "cell_type": "code",
   "execution_count": null,
   "id": "917904c7",
   "metadata": {},
   "outputs": [],
   "source": []
  }
 ],
 "metadata": {
  "kernelspec": {
   "display_name": "Python 3 (ipykernel)",
   "language": "python",
   "name": "python3"
  },
  "language_info": {
   "codemirror_mode": {
    "name": "ipython",
    "version": 3
   },
   "file_extension": ".py",
   "mimetype": "text/x-python",
   "name": "python",
   "nbconvert_exporter": "python",
   "pygments_lexer": "ipython3",
   "version": "3.10.9"
  }
 },
 "nbformat": 4,
 "nbformat_minor": 5
}
