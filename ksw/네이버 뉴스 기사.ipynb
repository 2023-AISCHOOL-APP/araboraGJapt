{
 "cells": [
  {
   "cell_type": "code",
   "execution_count": 14,
   "id": "bf792bca",
   "metadata": {},
   "outputs": [],
   "source": [
    "from selenium import webdriver as wb # 통제\n",
    "from selenium.webdriver.common.keys import Keys # 입력을 위한 컴퓨터용 키보드\n",
    "from selenium.webdriver.common.by import By # 선택자 선택의 기준\n",
    "from bs4 import BeautifulSoup as bs\n",
    "import time\n",
    "import os # 파일이나 폴더를 생성, 삭제해주는 라이브러리(파일시스템 라이브러리)\n",
    "# 이미지의 경로를 이미지파일로 변환시켜주는 라이브러리\n",
    "from urllib.request import urlretrieve\n",
    "import requests as req\n",
    "from bs4 import BeautifulSoup as bs"
   ]
  },
  {
   "cell_type": "code",
   "execution_count": 22,
   "id": "bb1d5a6e",
   "metadata": {},
   "outputs": [],
   "source": [
    "driver = wb.Chrome()\n",
    "driver.get('https://home.sarangbang.com/')"
   ]
  },
  {
   "cell_type": "code",
   "execution_count": 21,
   "id": "452d2dee",
   "metadata": {
    "scrolled": true
   },
   "outputs": [],
   "source": [
    "btn_more = driver.find_element(By.CLASS_NAME,'tit_item')\n",
    "btn_more.click()"
   ]
  },
  {
   "cell_type": "code",
   "execution_count": 28,
   "id": "2a57b93d",
   "metadata": {},
   "outputs": [],
   "source": [
    "while True:\n",
    "    btn_more = driver.find_element(By.CLASS_NAME,'btn_next')\n",
    "    try: # 에러가 나기 전까지 실행할 코드\n",
    "        btn_more.click()\n",
    "        time.sleep(2)\n",
    "    except: # 에러가 났을 때 실행할 코드\n",
    "        break"
   ]
  },
  {
   "cell_type": "code",
   "execution_count": 23,
   "id": "2a0d2333",
   "metadata": {},
   "outputs": [],
   "source": [
    "soup = bs(driver.page_source, 'lxml')"
   ]
  },
  {
   "cell_type": "code",
   "execution_count": 27,
   "id": "da0814e0",
   "metadata": {},
   "outputs": [
    {
     "data": {
      "text/plain": [
       "'\"고삐 풀린 분양가\"···\\'분양가 상한제\\' 단지에 청약자 몰린다'"
      ]
     },
     "execution_count": 27,
     "metadata": {},
     "output_type": "execute_result"
    }
   ],
   "source": [
    "tit = soup.select('.tit_item')\n",
    "tit[1].text.strip()"
   ]
  },
  {
   "cell_type": "code",
   "execution_count": 28,
   "id": "d9cca1cd",
   "metadata": {},
   "outputs": [
    {
     "name": "stdout",
     "output_type": "stream",
     "text": [
      "만취차량 변압기 '쾅'···열대야 속 50여가구 정전 불편\n",
      "\n",
      "\"고삐 풀린 분양가\"···'분양가 상한제' 단지에 청약자 몰린다\n",
      "\n",
      "악성 미분양 쌓여 1만가구 육박···수렁에 빠진 '지방 건설사'\n",
      "\n",
      "철근 빠진 부실아파트 15개 단지 어디···광주 선운2 등\n",
      "\n"
     ]
    }
   ],
   "source": [
    "for i in range(len(tit)):\n",
    "    print(tit[i].text.strip())\n",
    "    print()"
   ]
  },
  {
   "cell_type": "code",
   "execution_count": 30,
   "id": "74b95bac",
   "metadata": {},
   "outputs": [
    {
     "name": "stdout",
     "output_type": "stream",
     "text": [
      "\"철근 누락은 건설업계 시스템상 문제\"···정부, 민간아파트도 전수조사\n",
      "\n",
      "전국 곳곳서 부실 시공 '순살' 아파트···입주민 \"무서워 못살겠다\"\n",
      "\n",
      "시평 10위권 판도 변화···광주 붕괴 사고에 '현산' 빠지고 '호반' 진입\n",
      "\n",
      "LH 사장 \"입주 완료 5곳, 전면 재시공 갈 상태 아냐\"[일문일답]\n",
      "\n",
      "다 지어놓고 분양 안 돼…광주 미분양 15% 껑충↑\n",
      "\n",
      "꿈틀대는 대출금리···주담대 지난달 평균금리↑\n",
      "\n",
      "\"세제 지원해야\"vs\"시장에 맡겨야\"...미분양 해결책은[지방 아파트 '한숨']③\n",
      "\n",
      "삼성물산, 10년째 시평 1위···현대, 대우建 순\n",
      "\n",
      "전세대출 어디가 낮은지 '이것'으로 확인하세요\n",
      "\n",
      "\"5개월 만에 4억 올라\"···송파구 똘똘한 한 채 수요 '집중'\n",
      "\n",
      "바로가기\n",
      "\n",
      "바로가기\n",
      "\n",
      "바로가기\n",
      "\n",
      "바로가기\n",
      "\n",
      "바로가기\n",
      "\n",
      "바로가기\n",
      "\n",
      "공지사항 더보기\n",
      "\n",
      "오늘의 아파트 매매 실거래 현황\n",
      "2023.08.01 08시 국토부 실거래 기준\n",
      "\n",
      "광주아파트 실거래 추이\n",
      "\n",
      "자세히보기\n",
      "\n",
      "용두동 양산진아리채 83.25㎡\n",
      "\n",
      "봉선동 상가점포\n",
      "\n",
      "소태동 무등산골드클래스 59.98㎡\n",
      "\n",
      "우산동 현대 115.15㎡\n",
      "\n",
      "임동 중흥S클래스센텀파크 73.33㎡\n",
      "\n",
      "화정동 무등파크 74.19㎡\n",
      "\n",
      "화순읍 대광로제비앙2차 39.36㎡\n",
      "\n",
      "동면 토지/임야\n",
      "\n",
      "각화동 금호 124.42㎡\n",
      "\n",
      "수완동 상가\n",
      "\n",
      "소촌동 EG스위트밸리3차 59.33㎡\n",
      "\n",
      "이양면 단독/다가구주택\n",
      "\n",
      "나산면 토지/임야\n",
      "\n",
      "신창동 대광로제비앙 73.91㎡\n",
      "\n",
      "광천동 호반써밋광주 84.94㎡\n",
      "\n",
      "금호동 상가점포\n",
      "\n",
      "화순읍 대광로제비앙1차 59.97㎡\n",
      "\n",
      "마륵동 상무양우내안애 84.67㎡\n",
      "\n",
      "화순읍 상가점포\n",
      "\n",
      "양산동 GS자이2차 84.96㎡\n",
      "\n",
      "도천동 중흥 59.76㎡\n",
      "\n",
      "장성읍 원룸/투룸쓰리룸\n",
      "\n",
      "주월동 원룸/투룸쓰리룸\n",
      "\n",
      "일곡동 청솔4차 48.45㎡\n",
      "\n",
      "운암동 상가점포\n",
      "\n",
      "진월동 중흥파크 84.84㎡\n",
      "\n",
      "장덕동 세영리첼 84.98㎡\n",
      "\n",
      "우산동 오피스텔\n",
      "\n",
      "빛가람동 상가주택\n",
      "\n",
      "쌍촌동 상가점포\n",
      "\n",
      "남평읍 양우내안애리버시티2차 84.96㎡\n",
      "\n",
      "화순읍 대광로제비앙1차 59.97㎡\n",
      "\n",
      "내방동 내방주공 84.11㎡\n",
      "\n",
      "화순읍 산이고운 75.36㎡\n",
      "\n",
      "송하동 삼익 59.97㎡\n",
      "\n",
      "진월동 상가점포\n",
      "\n",
      "쌍촌동 상무힐스테이트 134.69㎡\n",
      "\n",
      "월곡동 영천마을주공10단지 59.92㎡\n",
      "\n",
      "쌍촌동 명지 59.97㎡\n",
      "\n",
      "월계동 상가점포\n",
      "\n",
      "화순읍 대광로제비앙2차 39.36㎡\n",
      "\n",
      "일곡동 청솔2차 48.45㎡\n",
      "\n",
      "쌍암동 힐스테이트리버파크 74.79㎡\n",
      "\n",
      "화순읍 금호타운 84.74㎡\n",
      "\n",
      "내방동 솔뫼타운 46.36㎡\n",
      "\n",
      "산수동 두암그린파크 84.99㎡\n",
      "\n",
      "송정동 원룸/투룸쓰리룸\n",
      "\n",
      "남평읍 양우내안애리버시티2차 84.96㎡\n",
      "\n",
      "송월동 상가점포\n",
      "\n",
      "신용동 광주첨단2지구사랑으로부영 84.36㎡\n",
      "\n",
      "더보기\n",
      "\n",
      "더보기\n",
      "\n",
      "더보기\n",
      "\n",
      "\n",
      "\n",
      "\n",
      "\n"
     ]
    }
   ],
   "source": [
    "title = soup.select('.text-dark')\n",
    "for i in range(len(title)):\n",
    "    print(title[i].text.strip())\n",
    "    print()"
   ]
  },
  {
   "cell_type": "code",
   "execution_count": 33,
   "id": "0b1e508b",
   "metadata": {},
   "outputs": [
    {
     "data": {
      "text/plain": [
       "'https://openapi.naver.com/v1/search/news.json'"
      ]
     },
     "execution_count": 33,
     "metadata": {},
     "output_type": "execute_result"
    }
   ],
   "source": [
    "url = 'https://openapi.naver.com/v1/search/news.json'\n",
    "url"
   ]
  },
  {
   "cell_type": "code",
   "execution_count": null,
   "id": "71008bdb",
   "metadata": {},
   "outputs": [],
   "source": []
  },
  {
   "cell_type": "code",
   "execution_count": null,
   "id": "16a84ebd",
   "metadata": {},
   "outputs": [],
   "source": []
  },
  {
   "cell_type": "code",
   "execution_count": null,
   "id": "08ad730f",
   "metadata": {},
   "outputs": [],
   "source": []
  },
  {
   "cell_type": "code",
   "execution_count": null,
   "id": "c16d44d2",
   "metadata": {},
   "outputs": [],
   "source": []
  },
  {
   "cell_type": "markdown",
   "id": "3553edad",
   "metadata": {},
   "source": [
    "### 사이트에서 10페이지까지의 타이틀을 뽑아보기"
   ]
  },
  {
   "cell_type": "code",
   "execution_count": null,
   "id": "119b0bc5",
   "metadata": {},
   "outputs": [],
   "source": [
    "for i in range(1,10):\n",
    "    # 페이지 정보 요청응답\n",
    "    url = 'https://home.sarangbang.com/'\n",
    "    res = req.get(url)\n",
    "    # bs객체화\n",
    "    soup = bs(res.text,'lxml')\n",
    "    # 뉴스기사 수집\n",
    "    title = soup.select('.tit_item')\n",
    "    title\n",
    "    # 순수한 콘텐츠만 추출\n",
    "    for i in range(len(title)):\n",
    "        print(title[i].text.strip())\n",
    "        print()"
   ]
  },
  {
   "cell_type": "code",
   "execution_count": null,
   "id": "3df53c6a",
   "metadata": {},
   "outputs": [],
   "source": []
  },
  {
   "cell_type": "code",
   "execution_count": null,
   "id": "8d29d0f6",
   "metadata": {},
   "outputs": [],
   "source": []
  },
  {
   "cell_type": "code",
   "execution_count": null,
   "id": "00ab9e6f",
   "metadata": {},
   "outputs": [],
   "source": []
  },
  {
   "cell_type": "code",
   "execution_count": null,
   "id": "f8877d25",
   "metadata": {},
   "outputs": [],
   "source": []
  },
  {
   "cell_type": "code",
   "execution_count": null,
   "id": "0376c74c",
   "metadata": {},
   "outputs": [],
   "source": []
  },
  {
   "cell_type": "code",
   "execution_count": null,
   "id": "6cbde7d8",
   "metadata": {},
   "outputs": [],
   "source": []
  },
  {
   "cell_type": "code",
   "execution_count": null,
   "id": "9f8bac59",
   "metadata": {},
   "outputs": [],
   "source": []
  },
  {
   "cell_type": "code",
   "execution_count": null,
   "id": "8f6d1003",
   "metadata": {},
   "outputs": [],
   "source": []
  },
  {
   "cell_type": "code",
   "execution_count": null,
   "id": "c60ed030",
   "metadata": {},
   "outputs": [],
   "source": []
  },
  {
   "cell_type": "code",
   "execution_count": null,
   "id": "f7eba439",
   "metadata": {},
   "outputs": [],
   "source": []
  },
  {
   "cell_type": "code",
   "execution_count": null,
   "id": "703cb899",
   "metadata": {},
   "outputs": [],
   "source": []
  },
  {
   "cell_type": "code",
   "execution_count": null,
   "id": "a5512e31",
   "metadata": {},
   "outputs": [],
   "source": []
  },
  {
   "cell_type": "code",
   "execution_count": null,
   "id": "c3a7a67f",
   "metadata": {},
   "outputs": [],
   "source": []
  },
  {
   "cell_type": "code",
   "execution_count": null,
   "id": "a63a9495",
   "metadata": {},
   "outputs": [],
   "source": []
  },
  {
   "cell_type": "code",
   "execution_count": null,
   "id": "f40156be",
   "metadata": {},
   "outputs": [],
   "source": []
  }
 ],
 "metadata": {
  "kernelspec": {
   "display_name": "Python 3 (ipykernel)",
   "language": "python",
   "name": "python3"
  },
  "language_info": {
   "codemirror_mode": {
    "name": "ipython",
    "version": 3
   },
   "file_extension": ".py",
   "mimetype": "text/x-python",
   "name": "python",
   "nbconvert_exporter": "python",
   "pygments_lexer": "ipython3",
   "version": "3.10.9"
  }
 },
 "nbformat": 4,
 "nbformat_minor": 5
}
