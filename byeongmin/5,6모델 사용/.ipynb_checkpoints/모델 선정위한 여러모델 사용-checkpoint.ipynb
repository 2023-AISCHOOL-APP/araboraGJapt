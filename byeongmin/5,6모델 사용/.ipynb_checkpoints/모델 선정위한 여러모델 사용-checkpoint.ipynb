{
 "cells": [
  {
   "cell_type": "code",
   "execution_count": 30,
   "id": "8e1c16c5",
   "metadata": {},
   "outputs": [],
   "source": [
    "import pandas as pd\n",
    "import numpy as np"
   ]
  },
  {
   "cell_type": "code",
   "execution_count": 3,
   "id": "767a613d",
   "metadata": {},
   "outputs": [],
   "source": [
    "data=pd.read_csv('../2~3.데이터 수집 및 전처리/머신러닝 전처리 데이터.CSV',encoding='EUC-KR')"
   ]
  },
  {
   "cell_type": "code",
   "execution_count": 5,
   "id": "35b12546",
   "metadata": {},
   "outputs": [],
   "source": [
    "data=data.drop(['Unnamed: 0'], axis=1)"
   ]
  },
  {
   "cell_type": "code",
   "execution_count": 6,
   "id": "bcba66e5",
   "metadata": {},
   "outputs": [
    {
     "data": {
      "text/html": [
       "<div>\n",
       "<style scoped>\n",
       "    .dataframe tbody tr th:only-of-type {\n",
       "        vertical-align: middle;\n",
       "    }\n",
       "\n",
       "    .dataframe tbody tr th {\n",
       "        vertical-align: top;\n",
       "    }\n",
       "\n",
       "    .dataframe thead th {\n",
       "        text-align: right;\n",
       "    }\n",
       "</style>\n",
       "<table border=\"1\" class=\"dataframe\">\n",
       "  <thead>\n",
       "    <tr style=\"text-align: right;\">\n",
       "      <th></th>\n",
       "      <th>시군구</th>\n",
       "      <th>단지명</th>\n",
       "      <th>전용면적(㎡)</th>\n",
       "      <th>계약년월</th>\n",
       "      <th>계약일</th>\n",
       "      <th>계약날짜</th>\n",
       "      <th>층</th>\n",
       "      <th>건축나이</th>\n",
       "      <th>거래건수</th>\n",
       "      <th>기준금리</th>\n",
       "      <th>법정동코드</th>\n",
       "      <th>지하철역수</th>\n",
       "      <th>거래금액(만원)</th>\n",
       "    </tr>\n",
       "  </thead>\n",
       "  <tbody>\n",
       "    <tr>\n",
       "      <th>0</th>\n",
       "      <td>광주광역시 광산구 도산동</td>\n",
       "      <td>대덕1</td>\n",
       "      <td>59.3100</td>\n",
       "      <td>202303</td>\n",
       "      <td>18</td>\n",
       "      <td>2023-03-18</td>\n",
       "      <td>4</td>\n",
       "      <td>33</td>\n",
       "      <td>20</td>\n",
       "      <td>3.5</td>\n",
       "      <td>2920010200</td>\n",
       "      <td>1</td>\n",
       "      <td>9800</td>\n",
       "    </tr>\n",
       "    <tr>\n",
       "      <th>1</th>\n",
       "      <td>광주광역시 광산구 도산동</td>\n",
       "      <td>대주피오레1차</td>\n",
       "      <td>84.9800</td>\n",
       "      <td>202302</td>\n",
       "      <td>7</td>\n",
       "      <td>2023-02-07</td>\n",
       "      <td>2</td>\n",
       "      <td>23</td>\n",
       "      <td>14</td>\n",
       "      <td>3.5</td>\n",
       "      <td>2920010200</td>\n",
       "      <td>1</td>\n",
       "      <td>21000</td>\n",
       "    </tr>\n",
       "    <tr>\n",
       "      <th>2</th>\n",
       "      <td>광주광역시 광산구 도산동</td>\n",
       "      <td>대주피오레1차</td>\n",
       "      <td>84.9800</td>\n",
       "      <td>202305</td>\n",
       "      <td>31</td>\n",
       "      <td>2023-05-31</td>\n",
       "      <td>5</td>\n",
       "      <td>23</td>\n",
       "      <td>16</td>\n",
       "      <td>3.5</td>\n",
       "      <td>2920010200</td>\n",
       "      <td>1</td>\n",
       "      <td>22350</td>\n",
       "    </tr>\n",
       "    <tr>\n",
       "      <th>3</th>\n",
       "      <td>광주광역시 광산구 도산동</td>\n",
       "      <td>대주피오레2차</td>\n",
       "      <td>84.7575</td>\n",
       "      <td>202305</td>\n",
       "      <td>9</td>\n",
       "      <td>2023-05-09</td>\n",
       "      <td>5</td>\n",
       "      <td>22</td>\n",
       "      <td>16</td>\n",
       "      <td>3.5</td>\n",
       "      <td>2920010200</td>\n",
       "      <td>1</td>\n",
       "      <td>22400</td>\n",
       "    </tr>\n",
       "    <tr>\n",
       "      <th>4</th>\n",
       "      <td>광주광역시 광산구 도산동</td>\n",
       "      <td>대주피오레2차</td>\n",
       "      <td>84.7575</td>\n",
       "      <td>202305</td>\n",
       "      <td>13</td>\n",
       "      <td>2023-05-13</td>\n",
       "      <td>13</td>\n",
       "      <td>22</td>\n",
       "      <td>16</td>\n",
       "      <td>3.5</td>\n",
       "      <td>2920010200</td>\n",
       "      <td>1</td>\n",
       "      <td>22000</td>\n",
       "    </tr>\n",
       "    <tr>\n",
       "      <th>...</th>\n",
       "      <td>...</td>\n",
       "      <td>...</td>\n",
       "      <td>...</td>\n",
       "      <td>...</td>\n",
       "      <td>...</td>\n",
       "      <td>...</td>\n",
       "      <td>...</td>\n",
       "      <td>...</td>\n",
       "      <td>...</td>\n",
       "      <td>...</td>\n",
       "      <td>...</td>\n",
       "      <td>...</td>\n",
       "      <td>...</td>\n",
       "    </tr>\n",
       "    <tr>\n",
       "      <th>425074</th>\n",
       "      <td>광주광역시 서구 화정동</td>\n",
       "      <td>화정우미</td>\n",
       "      <td>115.1850</td>\n",
       "      <td>200611</td>\n",
       "      <td>10</td>\n",
       "      <td>2006-11-10</td>\n",
       "      <td>17</td>\n",
       "      <td>10</td>\n",
       "      <td>131</td>\n",
       "      <td>4.5</td>\n",
       "      <td>2914011900</td>\n",
       "      <td>1</td>\n",
       "      <td>19000</td>\n",
       "    </tr>\n",
       "    <tr>\n",
       "      <th>425075</th>\n",
       "      <td>광주광역시 서구 화정동</td>\n",
       "      <td>화정우미</td>\n",
       "      <td>84.8300</td>\n",
       "      <td>200611</td>\n",
       "      <td>27</td>\n",
       "      <td>2006-11-27</td>\n",
       "      <td>6</td>\n",
       "      <td>10</td>\n",
       "      <td>131</td>\n",
       "      <td>4.5</td>\n",
       "      <td>2914011900</td>\n",
       "      <td>1</td>\n",
       "      <td>12000</td>\n",
       "    </tr>\n",
       "    <tr>\n",
       "      <th>425076</th>\n",
       "      <td>광주광역시 서구 화정동</td>\n",
       "      <td>화정우미</td>\n",
       "      <td>59.8300</td>\n",
       "      <td>200611</td>\n",
       "      <td>30</td>\n",
       "      <td>2006-11-30</td>\n",
       "      <td>2</td>\n",
       "      <td>10</td>\n",
       "      <td>131</td>\n",
       "      <td>4.5</td>\n",
       "      <td>2914011900</td>\n",
       "      <td>1</td>\n",
       "      <td>7700</td>\n",
       "    </tr>\n",
       "    <tr>\n",
       "      <th>425077</th>\n",
       "      <td>광주광역시 서구 화정동</td>\n",
       "      <td>화정우미</td>\n",
       "      <td>84.8400</td>\n",
       "      <td>200612</td>\n",
       "      <td>6</td>\n",
       "      <td>2006-12-06</td>\n",
       "      <td>16</td>\n",
       "      <td>10</td>\n",
       "      <td>124</td>\n",
       "      <td>4.5</td>\n",
       "      <td>2914011900</td>\n",
       "      <td>1</td>\n",
       "      <td>12170</td>\n",
       "    </tr>\n",
       "    <tr>\n",
       "      <th>425078</th>\n",
       "      <td>광주광역시 서구 화정동</td>\n",
       "      <td>화정우미</td>\n",
       "      <td>115.1850</td>\n",
       "      <td>200612</td>\n",
       "      <td>12</td>\n",
       "      <td>2006-12-12</td>\n",
       "      <td>14</td>\n",
       "      <td>10</td>\n",
       "      <td>124</td>\n",
       "      <td>4.5</td>\n",
       "      <td>2914011900</td>\n",
       "      <td>1</td>\n",
       "      <td>17500</td>\n",
       "    </tr>\n",
       "  </tbody>\n",
       "</table>\n",
       "<p>425079 rows × 13 columns</p>\n",
       "</div>"
      ],
      "text/plain": [
       "                  시군구      단지명   전용면적(㎡)    계약년월  계약일        계약날짜   층  건축나이  \\\n",
       "0       광주광역시 광산구 도산동      대덕1   59.3100  202303   18  2023-03-18   4    33   \n",
       "1       광주광역시 광산구 도산동  대주피오레1차   84.9800  202302    7  2023-02-07   2    23   \n",
       "2       광주광역시 광산구 도산동  대주피오레1차   84.9800  202305   31  2023-05-31   5    23   \n",
       "3       광주광역시 광산구 도산동  대주피오레2차   84.7575  202305    9  2023-05-09   5    22   \n",
       "4       광주광역시 광산구 도산동  대주피오레2차   84.7575  202305   13  2023-05-13  13    22   \n",
       "...               ...      ...       ...     ...  ...         ...  ..   ...   \n",
       "425074   광주광역시 서구 화정동     화정우미  115.1850  200611   10  2006-11-10  17    10   \n",
       "425075   광주광역시 서구 화정동     화정우미   84.8300  200611   27  2006-11-27   6    10   \n",
       "425076   광주광역시 서구 화정동     화정우미   59.8300  200611   30  2006-11-30   2    10   \n",
       "425077   광주광역시 서구 화정동     화정우미   84.8400  200612    6  2006-12-06  16    10   \n",
       "425078   광주광역시 서구 화정동     화정우미  115.1850  200612   12  2006-12-12  14    10   \n",
       "\n",
       "        거래건수  기준금리       법정동코드  지하철역수  거래금액(만원)  \n",
       "0         20   3.5  2920010200      1      9800  \n",
       "1         14   3.5  2920010200      1     21000  \n",
       "2         16   3.5  2920010200      1     22350  \n",
       "3         16   3.5  2920010200      1     22400  \n",
       "4         16   3.5  2920010200      1     22000  \n",
       "...      ...   ...         ...    ...       ...  \n",
       "425074   131   4.5  2914011900      1     19000  \n",
       "425075   131   4.5  2914011900      1     12000  \n",
       "425076   131   4.5  2914011900      1      7700  \n",
       "425077   124   4.5  2914011900      1     12170  \n",
       "425078   124   4.5  2914011900      1     17500  \n",
       "\n",
       "[425079 rows x 13 columns]"
      ]
     },
     "execution_count": 6,
     "metadata": {},
     "output_type": "execute_result"
    }
   ],
   "source": [
    "data"
   ]
  },
  {
   "cell_type": "code",
   "execution_count": 8,
   "id": "961f9ac4",
   "metadata": {
    "collapsed": true
   },
   "outputs": [
    {
     "name": "stdout",
     "output_type": "stream",
     "text": [
      "Collecting xgboost\n",
      "  Downloading xgboost-1.7.6-py3-none-win_amd64.whl (70.9 MB)\n",
      "                                              0.0/70.9 MB ? eta -:--:--\n",
      "                                              0.1/70.9 MB 2.6 MB/s eta 0:00:27\n",
      "                                              0.3/70.9 MB 4.2 MB/s eta 0:00:17\n",
      "                                              0.6/70.9 MB 4.2 MB/s eta 0:00:17\n",
      "                                              0.8/70.9 MB 4.5 MB/s eta 0:00:16\n",
      "                                              0.9/70.9 MB 4.4 MB/s eta 0:00:16\n",
      "                                              1.2/70.9 MB 4.2 MB/s eta 0:00:17\n",
      "                                              1.5/70.9 MB 4.5 MB/s eta 0:00:16\n",
      "                                              1.8/70.9 MB 4.5 MB/s eta 0:00:16\n",
      "     -                                        2.0/70.9 MB 4.5 MB/s eta 0:00:16\n",
      "     -                                        2.3/70.9 MB 4.8 MB/s eta 0:00:15\n",
      "     -                                        2.4/70.9 MB 4.7 MB/s eta 0:00:15\n",
      "     -                                        2.7/70.9 MB 4.8 MB/s eta 0:00:15\n",
      "     -                                        3.1/70.9 MB 5.1 MB/s eta 0:00:14\n",
      "     -                                        3.5/70.9 MB 5.2 MB/s eta 0:00:14\n",
      "     --                                       3.7/70.9 MB 5.2 MB/s eta 0:00:13\n",
      "     --                                       4.0/70.9 MB 5.2 MB/s eta 0:00:13\n",
      "     --                                       4.6/70.9 MB 5.6 MB/s eta 0:00:12\n",
      "     --                                       5.2/70.9 MB 5.8 MB/s eta 0:00:12\n",
      "     ---                                      5.6/70.9 MB 5.9 MB/s eta 0:00:12\n",
      "     ---                                      5.7/70.9 MB 5.9 MB/s eta 0:00:12\n",
      "     ---                                      6.1/70.9 MB 6.0 MB/s eta 0:00:11\n",
      "     ---                                      6.1/70.9 MB 6.0 MB/s eta 0:00:11\n",
      "     ---                                      6.3/70.9 MB 5.7 MB/s eta 0:00:12\n",
      "     ---                                      6.7/70.9 MB 5.7 MB/s eta 0:00:12\n",
      "     ---                                      6.9/70.9 MB 5.8 MB/s eta 0:00:12\n",
      "     ----                                     7.1/70.9 MB 5.7 MB/s eta 0:00:12\n",
      "     ----                                     7.3/70.9 MB 5.6 MB/s eta 0:00:12\n",
      "     ----                                     7.6/70.9 MB 5.6 MB/s eta 0:00:12\n",
      "     ----                                     8.1/70.9 MB 5.7 MB/s eta 0:00:12\n",
      "     ----                                     8.6/70.9 MB 5.7 MB/s eta 0:00:11\n",
      "     -----                                    9.0/70.9 MB 5.8 MB/s eta 0:00:11\n",
      "     -----                                    9.4/70.9 MB 5.9 MB/s eta 0:00:11\n",
      "     -----                                    9.8/70.9 MB 6.0 MB/s eta 0:00:11\n",
      "     -----                                    10.4/70.9 MB 6.2 MB/s eta 0:00:10\n",
      "     ------                                   10.9/70.9 MB 6.5 MB/s eta 0:00:10\n",
      "     ------                                   11.5/70.9 MB 6.9 MB/s eta 0:00:09\n",
      "     ------                                   11.9/70.9 MB 7.1 MB/s eta 0:00:09\n",
      "     ------                                   12.4/70.9 MB 7.4 MB/s eta 0:00:08\n",
      "     -------                                  12.8/70.9 MB 7.5 MB/s eta 0:00:08\n",
      "     -------                                  13.3/70.9 MB 7.4 MB/s eta 0:00:08\n",
      "     -------                                  13.7/70.9 MB 7.5 MB/s eta 0:00:08\n",
      "     -------                                  14.1/70.9 MB 7.7 MB/s eta 0:00:08\n",
      "     --------                                 14.5/70.9 MB 7.7 MB/s eta 0:00:08\n",
      "     --------                                 14.9/70.9 MB 7.8 MB/s eta 0:00:08\n",
      "     --------                                 15.6/70.9 MB 7.9 MB/s eta 0:00:08\n",
      "     --------                                 15.9/70.9 MB 7.9 MB/s eta 0:00:07\n",
      "     ---------                                16.5/70.9 MB 8.5 MB/s eta 0:00:07\n",
      "     ---------                                17.0/70.9 MB 8.6 MB/s eta 0:00:07\n",
      "     ---------                                17.4/70.9 MB 9.1 MB/s eta 0:00:06\n",
      "     ----------                               18.1/70.9 MB 9.8 MB/s eta 0:00:06\n",
      "     ----------                               18.1/70.9 MB 9.8 MB/s eta 0:00:06\n",
      "     ----------                               18.2/70.9 MB 9.0 MB/s eta 0:00:06\n",
      "     ----------                               18.8/70.9 MB 9.2 MB/s eta 0:00:06\n",
      "     ----------                               19.1/70.9 MB 9.4 MB/s eta 0:00:06\n",
      "     -----------                              19.6/70.9 MB 9.1 MB/s eta 0:00:06\n",
      "     -----------                              20.1/70.9 MB 9.1 MB/s eta 0:00:06\n",
      "     -----------                              20.7/70.9 MB 9.2 MB/s eta 0:00:06\n",
      "     -----------                              20.7/70.9 MB 9.2 MB/s eta 0:00:06\n",
      "     -----------                              20.7/70.9 MB 9.2 MB/s eta 0:00:06\n",
      "     -----------                              20.9/70.9 MB 8.2 MB/s eta 0:00:07\n",
      "     ------------                             21.5/70.9 MB 8.3 MB/s eta 0:00:06\n",
      "     ------------                             21.9/70.9 MB 8.3 MB/s eta 0:00:06\n",
      "     ------------                             22.3/70.9 MB 8.2 MB/s eta 0:00:06\n",
      "     ------------                             23.0/70.9 MB 8.6 MB/s eta 0:00:06\n",
      "     -------------                            23.7/70.9 MB 8.6 MB/s eta 0:00:06\n",
      "     -------------                            23.9/70.9 MB 8.3 MB/s eta 0:00:06\n",
      "     -------------                            23.9/70.9 MB 8.3 MB/s eta 0:00:06\n",
      "     -------------                            24.5/70.9 MB 8.2 MB/s eta 0:00:06\n",
      "     -------------                            24.7/70.9 MB 8.1 MB/s eta 0:00:06\n",
      "     --------------                           25.2/70.9 MB 8.1 MB/s eta 0:00:06\n",
      "     --------------                           25.7/70.9 MB 8.0 MB/s eta 0:00:06\n",
      "     --------------                           26.3/70.9 MB 8.1 MB/s eta 0:00:06\n",
      "     --------------                           26.5/70.9 MB 8.1 MB/s eta 0:00:06\n",
      "     ---------------                          26.8/70.9 MB 7.9 MB/s eta 0:00:06\n",
      "     ---------------                          27.5/70.9 MB 8.0 MB/s eta 0:00:06\n",
      "     ---------------                          28.2/70.9 MB 8.0 MB/s eta 0:00:06\n",
      "     ----------------                         28.9/70.9 MB 8.6 MB/s eta 0:00:05\n",
      "     ----------------                         29.3/70.9 MB 8.5 MB/s eta 0:00:05\n",
      "     ----------------                         29.9/70.9 MB 9.0 MB/s eta 0:00:05\n",
      "     -----------------                        30.6/70.9 MB 9.0 MB/s eta 0:00:05\n",
      "     -----------------                       31.2/70.9 MB 10.2 MB/s eta 0:00:04\n",
      "     -----------------                       31.9/70.9 MB 10.4 MB/s eta 0:00:04\n",
      "     -----------------                       32.5/70.9 MB 10.6 MB/s eta 0:00:04\n",
      "     ------------------                      33.0/70.9 MB 10.2 MB/s eta 0:00:04\n",
      "     ------------------                      33.5/70.9 MB 10.1 MB/s eta 0:00:04\n",
      "     ------------------                      33.9/70.9 MB 10.9 MB/s eta 0:00:04\n",
      "     ------------------                      34.2/70.9 MB 11.1 MB/s eta 0:00:04\n",
      "     -------------------                     34.7/70.9 MB 10.9 MB/s eta 0:00:04\n",
      "     -------------------                     35.4/70.9 MB 10.9 MB/s eta 0:00:04\n",
      "     -------------------                     36.0/70.9 MB 11.1 MB/s eta 0:00:04\n",
      "     --------------------                    36.4/70.9 MB 10.7 MB/s eta 0:00:04\n",
      "     --------------------                    37.0/70.9 MB 11.3 MB/s eta 0:00:04\n",
      "     --------------------                    37.3/70.9 MB 11.3 MB/s eta 0:00:03\n",
      "     --------------------                    37.6/70.9 MB 10.7 MB/s eta 0:00:04\n",
      "     --------------------                    38.0/70.9 MB 10.7 MB/s eta 0:00:04\n",
      "     ---------------------                   38.5/70.9 MB 10.4 MB/s eta 0:00:04\n",
      "     ---------------------                   38.9/70.9 MB 10.6 MB/s eta 0:00:04\n",
      "     ---------------------                   39.3/70.9 MB 10.6 MB/s eta 0:00:03\n",
      "     ---------------------                   39.6/70.9 MB 10.2 MB/s eta 0:00:04\n",
      "     ----------------------                   40.1/70.9 MB 9.9 MB/s eta 0:00:04\n",
      "     ----------------------                   40.7/70.9 MB 9.8 MB/s eta 0:00:04\n",
      "     -----------------------                  41.2/70.9 MB 9.8 MB/s eta 0:00:04\n",
      "     -----------------------                  41.7/70.9 MB 9.6 MB/s eta 0:00:04\n",
      "     -----------------------                  41.9/70.9 MB 9.4 MB/s eta 0:00:04\n",
      "     -----------------------                  42.2/70.9 MB 9.2 MB/s eta 0:00:04\n",
      "     -----------------------                  42.4/70.9 MB 9.0 MB/s eta 0:00:04\n",
      "     -----------------------                  42.4/70.9 MB 9.0 MB/s eta 0:00:04\n",
      "     ------------------------                 42.6/70.9 MB 8.3 MB/s eta 0:00:04\n",
      "     ------------------------                 42.6/70.9 MB 8.3 MB/s eta 0:00:04\n",
      "     ------------------------                 43.0/70.9 MB 8.0 MB/s eta 0:00:04\n",
      "     ------------------------                 43.2/70.9 MB 7.9 MB/s eta 0:00:04\n",
      "     ------------------------                 43.8/70.9 MB 7.9 MB/s eta 0:00:04\n",
      "     ------------------------                 44.0/70.9 MB 7.6 MB/s eta 0:00:04\n",
      "     -------------------------                44.9/70.9 MB 8.0 MB/s eta 0:00:04\n",
      "     -------------------------                45.5/70.9 MB 7.9 MB/s eta 0:00:04\n",
      "     --------------------------               46.2/70.9 MB 8.1 MB/s eta 0:00:04\n",
      "     --------------------------               46.7/70.9 MB 8.1 MB/s eta 0:00:04\n",
      "     --------------------------               47.6/70.9 MB 8.5 MB/s eta 0:00:03\n",
      "     ---------------------------              48.1/70.9 MB 8.6 MB/s eta 0:00:03\n",
      "     ---------------------------              48.5/70.9 MB 8.6 MB/s eta 0:00:03\n",
      "     ---------------------------              48.6/70.9 MB 8.7 MB/s eta 0:00:03\n",
      "     ---------------------------              49.4/70.9 MB 8.5 MB/s eta 0:00:03\n",
      "     ---------------------------              49.5/70.9 MB 8.5 MB/s eta 0:00:03\n",
      "     ----------------------------             49.8/70.9 MB 8.1 MB/s eta 0:00:03\n",
      "     ----------------------------             49.9/70.9 MB 7.9 MB/s eta 0:00:03\n",
      "     ----------------------------             50.8/70.9 MB 8.2 MB/s eta 0:00:03\n",
      "     ----------------------------             51.3/70.9 MB 8.1 MB/s eta 0:00:03\n",
      "     -----------------------------            52.0/70.9 MB 8.2 MB/s eta 0:00:03\n",
      "     -----------------------------            52.4/70.9 MB 8.4 MB/s eta 0:00:03\n",
      "     -----------------------------            52.9/70.9 MB 9.9 MB/s eta 0:00:02\n",
      "     -----------------------------           53.5/70.9 MB 10.2 MB/s eta 0:00:02\n",
      "     -----------------------------           54.1/70.9 MB 10.1 MB/s eta 0:00:02\n",
      "     ------------------------------          55.2/70.9 MB 10.9 MB/s eta 0:00:02\n",
      "     ------------------------------          55.9/70.9 MB 11.1 MB/s eta 0:00:02\n",
      "     ------------------------------          56.2/70.9 MB 10.9 MB/s eta 0:00:02\n",
      "     -------------------------------         56.9/70.9 MB 10.7 MB/s eta 0:00:02\n",
      "     -------------------------------         57.3/70.9 MB 10.4 MB/s eta 0:00:02\n",
      "     -------------------------------         58.0/70.9 MB 10.6 MB/s eta 0:00:02\n",
      "     --------------------------------        58.4/70.9 MB 10.6 MB/s eta 0:00:02\n",
      "     --------------------------------        59.2/70.9 MB 10.9 MB/s eta 0:00:02\n",
      "     --------------------------------        59.4/70.9 MB 11.1 MB/s eta 0:00:02\n",
      "     --------------------------------        59.4/70.9 MB 11.1 MB/s eta 0:00:02\n",
      "     ---------------------------------       60.1/70.9 MB 11.9 MB/s eta 0:00:01\n",
      "     ---------------------------------       60.9/70.9 MB 11.7 MB/s eta 0:00:01\n",
      "     ----------------------------------      61.9/70.9 MB 12.1 MB/s eta 0:00:01\n",
      "     ----------------------------------      62.6/70.9 MB 12.4 MB/s eta 0:00:01\n",
      "     ----------------------------------      63.4/70.9 MB 12.6 MB/s eta 0:00:01\n",
      "     -----------------------------------     64.0/70.9 MB 12.6 MB/s eta 0:00:01\n",
      "     -----------------------------------     64.7/70.9 MB 12.6 MB/s eta 0:00:01\n",
      "     -----------------------------------     65.2/70.9 MB 12.3 MB/s eta 0:00:01\n",
      "     ------------------------------------    65.8/70.9 MB 12.4 MB/s eta 0:00:01\n",
      "     ------------------------------------    66.3/70.9 MB 11.9 MB/s eta 0:00:01\n",
      "     ------------------------------------    67.0/70.9 MB 12.6 MB/s eta 0:00:01\n",
      "     -------------------------------------   67.7/70.9 MB 12.8 MB/s eta 0:00:01\n",
      "     -------------------------------------   68.6/70.9 MB 13.1 MB/s eta 0:00:01\n",
      "     --------------------------------------  69.4/70.9 MB 12.8 MB/s eta 0:00:01\n",
      "     --------------------------------------  70.0/70.9 MB 14.2 MB/s eta 0:00:01\n",
      "     --------------------------------------  70.4/70.9 MB 13.9 MB/s eta 0:00:01\n",
      "     --------------------------------------  70.9/70.9 MB 13.9 MB/s eta 0:00:01\n",
      "     --------------------------------------  70.9/70.9 MB 13.9 MB/s eta 0:00:01\n",
      "     --------------------------------------  70.9/70.9 MB 13.9 MB/s eta 0:00:01\n",
      "     --------------------------------------- 70.9/70.9 MB 11.1 MB/s eta 0:00:00\n",
      "Requirement already satisfied: numpy in c:\\users\\gjaischool1\\anaconda3\\envs\\machine\\lib\\site-packages (from xgboost) (1.24.4)\n",
      "Requirement already satisfied: scipy in c:\\users\\gjaischool1\\anaconda3\\envs\\machine\\lib\\site-packages (from xgboost) (1.10.1)\n",
      "Installing collected packages: xgboost\n",
      "Successfully installed xgboost-1.7.6\n",
      "Note: you may need to restart the kernel to use updated packages.\n"
     ]
    }
   ],
   "source": [
    "pip install xgboost"
   ]
  },
  {
   "cell_type": "code",
   "execution_count": 10,
   "id": "e40000a3",
   "metadata": {
    "collapsed": true
   },
   "outputs": [
    {
     "name": "stdout",
     "output_type": "stream",
     "text": [
      "Collecting lightgbm\n",
      "  Downloading lightgbm-4.0.0-py3-none-win_amd64.whl (1.3 MB)\n",
      "                                              0.0/1.3 MB ? eta -:--:--\n",
      "     ----------                               0.3/1.3 MB 7.0 MB/s eta 0:00:01\n",
      "     -----------------------------            1.0/1.3 MB 8.6 MB/s eta 0:00:01\n",
      "     ---------------------------------------  1.3/1.3 MB 9.2 MB/s eta 0:00:01\n",
      "     ---------------------------------------- 1.3/1.3 MB 7.6 MB/s eta 0:00:00\n",
      "Requirement already satisfied: numpy in c:\\users\\gjaischool1\\anaconda3\\envs\\machine\\lib\\site-packages (from lightgbm) (1.24.4)\n",
      "Requirement already satisfied: scipy in c:\\users\\gjaischool1\\anaconda3\\envs\\machine\\lib\\site-packages (from lightgbm) (1.10.1)\n",
      "Installing collected packages: lightgbm\n",
      "Successfully installed lightgbm-4.0.0\n",
      "Note: you may need to restart the kernel to use updated packages.\n"
     ]
    }
   ],
   "source": [
    "pip install lightgbm"
   ]
  },
  {
   "cell_type": "code",
   "execution_count": 19,
   "id": "dd78ecf1",
   "metadata": {
    "scrolled": true
   },
   "outputs": [
    {
     "name": "stdout",
     "output_type": "stream",
     "text": [
      "Collecting tqdm\n",
      "  Downloading tqdm-4.65.0-py3-none-any.whl (77 kB)\n",
      "                                              0.0/77.1 kB ? eta -:--:--\n",
      "     ---------------------------------------- 77.1/77.1 kB 2.2 MB/s eta 0:00:00\n",
      "Requirement already satisfied: colorama in c:\\users\\gjaischool1\\anaconda3\\envs\\machine\\lib\\site-packages (from tqdm) (0.4.6)\n",
      "Installing collected packages: tqdm\n",
      "Successfully installed tqdm-4.65.0\n",
      "Note: you may need to restart the kernel to use updated packages.\n"
     ]
    }
   ],
   "source": [
    "pip install tqdm"
   ]
  },
  {
   "cell_type": "code",
   "execution_count": 20,
   "id": "2e82f6d1",
   "metadata": {},
   "outputs": [],
   "source": [
    "from sklearn.linear_model import LinearRegression, ElasticNet, Lasso, Ridge\n",
    "from sklearn.tree import DecisionTreeRegressor\n",
    "from sklearn.ensemble import RandomForestRegressor\n",
    "from sklearn.preprocessing import  LabelEncoder\n",
    "from sklearn.model_selection import TimeSeriesSplit\n",
    "import xgboost as xgb\n",
    "import lightgbm as lgb\n",
    "\n",
    "from sklearn.metrics import mean_squared_error,r2_score\n",
    "from sklearn.model_selection import train_test_split\n",
    "\n",
    "from tqdm import tqdm\n",
    "import re"
   ]
  },
  {
   "cell_type": "code",
   "execution_count": 13,
   "id": "c2e5733e",
   "metadata": {},
   "outputs": [
    {
     "data": {
      "text/html": [
       "<div>\n",
       "<style scoped>\n",
       "    .dataframe tbody tr th:only-of-type {\n",
       "        vertical-align: middle;\n",
       "    }\n",
       "\n",
       "    .dataframe tbody tr th {\n",
       "        vertical-align: top;\n",
       "    }\n",
       "\n",
       "    .dataframe thead th {\n",
       "        text-align: right;\n",
       "    }\n",
       "</style>\n",
       "<table border=\"1\" class=\"dataframe\">\n",
       "  <thead>\n",
       "    <tr style=\"text-align: right;\">\n",
       "      <th></th>\n",
       "      <th>시군구</th>\n",
       "      <th>단지명</th>\n",
       "      <th>전용면적(㎡)</th>\n",
       "      <th>계약년월</th>\n",
       "      <th>계약일</th>\n",
       "      <th>계약날짜</th>\n",
       "      <th>층</th>\n",
       "      <th>건축나이</th>\n",
       "      <th>거래건수</th>\n",
       "      <th>기준금리</th>\n",
       "      <th>법정동코드</th>\n",
       "      <th>지하철역수</th>\n",
       "      <th>거래금액(만원)</th>\n",
       "    </tr>\n",
       "  </thead>\n",
       "  <tbody>\n",
       "    <tr>\n",
       "      <th>0</th>\n",
       "      <td>광주광역시 광산구 도산동</td>\n",
       "      <td>대덕1</td>\n",
       "      <td>59.31</td>\n",
       "      <td>202303</td>\n",
       "      <td>18</td>\n",
       "      <td>2023-03-18</td>\n",
       "      <td>4</td>\n",
       "      <td>33</td>\n",
       "      <td>20</td>\n",
       "      <td>3.5</td>\n",
       "      <td>2920010200</td>\n",
       "      <td>1</td>\n",
       "      <td>9800</td>\n",
       "    </tr>\n",
       "    <tr>\n",
       "      <th>1</th>\n",
       "      <td>광주광역시 광산구 도산동</td>\n",
       "      <td>대주피오레1차</td>\n",
       "      <td>84.98</td>\n",
       "      <td>202302</td>\n",
       "      <td>7</td>\n",
       "      <td>2023-02-07</td>\n",
       "      <td>2</td>\n",
       "      <td>23</td>\n",
       "      <td>14</td>\n",
       "      <td>3.5</td>\n",
       "      <td>2920010200</td>\n",
       "      <td>1</td>\n",
       "      <td>21000</td>\n",
       "    </tr>\n",
       "  </tbody>\n",
       "</table>\n",
       "</div>"
      ],
      "text/plain": [
       "             시군구      단지명  전용면적(㎡)    계약년월  계약일        계약날짜  층  건축나이  거래건수  \\\n",
       "0  광주광역시 광산구 도산동      대덕1    59.31  202303   18  2023-03-18  4    33    20   \n",
       "1  광주광역시 광산구 도산동  대주피오레1차    84.98  202302    7  2023-02-07  2    23    14   \n",
       "\n",
       "   기준금리       법정동코드  지하철역수  거래금액(만원)  \n",
       "0   3.5  2920010200      1      9800  \n",
       "1   3.5  2920010200      1     21000  "
      ]
     },
     "execution_count": 13,
     "metadata": {},
     "output_type": "execute_result"
    }
   ],
   "source": [
    "data.head(2)"
   ]
  },
  {
   "cell_type": "code",
   "execution_count": 14,
   "id": "2b1a7f96",
   "metadata": {},
   "outputs": [],
   "source": [
    "X = data[['전용면적(㎡)', '계약년월','층', '건축나이','거래건수','기준금리','법정동코드','지하철역수']]\n",
    "y = data['거래금액(만원)']\n",
    "X_train, X_test, y_train, y_test = train_test_split(X, y, test_size=0.2, random_state=42)"
   ]
  },
  {
   "cell_type": "code",
   "execution_count": 32,
   "id": "4f266118",
   "metadata": {},
   "outputs": [],
   "source": [
    "lrmodel = LinearRegression(n_jobs=-1)\n",
    "ridge = Ridge(alpha=0.8, random_state=1)\n",
    "lasso = Lasso(alpha = 0.01, random_state=1)\n",
    "enet = ElasticNet(alpha=0.03, l1_ratio=0.01, random_state=1)\n",
    "d_tree = DecisionTreeRegressor(max_depth=6, min_samples_split=10, min_samples_leaf=15, random_state=1)\n",
    "rf = RandomForestRegressor(n_estimators=500,  max_depth=9, min_samples_split=50,\n",
    "                           min_samples_leaf=5, random_state=1, n_jobs=-1)\n",
    "model_xgb = xgb.XGBRegressor(n_estimators=500, max_depth=9, min_child_weight=5, gamma=0.1, n_jobs=-1)\n",
    "model_lgb = lgb.LGBMRegressor(n_estimators=500, max_depth=9, min_child_weight=5, n_jobs=-1)"
   ]
  },
  {
   "cell_type": "code",
   "execution_count": 28,
   "id": "0ceec623",
   "metadata": {},
   "outputs": [],
   "source": [
    "def RMSE(y, y_pred):\n",
    "    rmse = mean_squared_error(y, y_pred) ** 0.5\n",
    "    return rmse\n",
    "\n",
    "def rmse_cv(model):\n",
    "    # cv별로 학습하는 함수\n",
    "    tscv = TimeSeriesSplit(n_splits=10)\n",
    "    rmse_list = []\n",
    "    model_name = model.__class__.__name__\n",
    "    for _, (train_index, test_index) in tqdm(enumerate(tscv.split(X), start=1), desc=f'{model_name} Cross Validations...', total=10):\n",
    "        X_train, X_test = X.iloc[train_index], X.iloc[test_index]\n",
    "        y_train, y_test = y.iloc[train_index], y.iloc[test_index]\n",
    "        clf = model.fit(X_train, y_train)\n",
    "        pred = clf.predict(X_test)\n",
    "        rmse = RMSE(y_test, pred) \n",
    "        rmse_list.append(rmse)\n",
    "    return model_name, rmse_list\n",
    "\n",
    "def print_rmse_score(model):\n",
    "    # cv별 프린팅, 평균 저장\n",
    "    model_name, score = rmse_cv(model)\n",
    "    for i, r in enumerate(score, start=1):\n",
    "    print(f'\\n{model_name} mean RMSE: {np.mean(score):.4f}')\n",
    "    print('='*40)\n",
    "    return model_name, np.mean(score)"
   ]
  },
  {
   "cell_type": "code",
   "execution_count": 33,
   "id": "4b2ac095",
   "metadata": {},
   "outputs": [
    {
     "name": "stderr",
     "output_type": "stream",
     "text": [
      "LinearRegression Cross Validations...: 100%|███████████████████████████████████████████| 10/10 [00:00<00:00, 21.54it/s]\n"
     ]
    },
    {
     "name": "stdout",
     "output_type": "stream",
     "text": [
      "1 FOLDS: LinearRegression RMSLE: 10084.0162\n",
      "2 FOLDS: LinearRegression RMSLE: 9080.6999\n",
      "3 FOLDS: LinearRegression RMSLE: 6591.1190\n",
      "4 FOLDS: LinearRegression RMSLE: 5906.4291\n",
      "5 FOLDS: LinearRegression RMSLE: 5854.3037\n",
      "6 FOLDS: LinearRegression RMSLE: 5383.9206\n",
      "7 FOLDS: LinearRegression RMSLE: 5841.3210\n",
      "8 FOLDS: LinearRegression RMSLE: 8988.2098\n",
      "9 FOLDS: LinearRegression RMSLE: 4756.1851\n",
      "10 FOLDS: LinearRegression RMSLE: 4739.9987\n",
      "\n",
      "LinearRegression mean RMSLE: 6722.6203\n",
      "========================================\n"
     ]
    },
    {
     "name": "stderr",
     "output_type": "stream",
     "text": [
      "Ridge Cross Validations...: 100%|██████████████████████████████████████████████████████| 10/10 [00:00<00:00, 34.75it/s]\n"
     ]
    },
    {
     "name": "stdout",
     "output_type": "stream",
     "text": [
      "1 FOLDS: Ridge RMSLE: 10084.0328\n",
      "2 FOLDS: Ridge RMSLE: 9080.6732\n",
      "3 FOLDS: Ridge RMSLE: 6591.1187\n",
      "4 FOLDS: Ridge RMSLE: 5906.4287\n",
      "5 FOLDS: Ridge RMSLE: 5854.3037\n",
      "6 FOLDS: Ridge RMSLE: 5383.9202\n",
      "7 FOLDS: Ridge RMSLE: 5841.3209\n",
      "8 FOLDS: Ridge RMSLE: 8988.2092\n",
      "9 FOLDS: Ridge RMSLE: 4756.1841\n",
      "10 FOLDS: Ridge RMSLE: 4739.9989\n",
      "\n",
      "Ridge mean RMSLE: 6722.6190\n",
      "========================================\n"
     ]
    },
    {
     "name": "stderr",
     "output_type": "stream",
     "text": [
      "Lasso Cross Validations...: 100%|██████████████████████████████████████████████████████| 10/10 [00:01<00:00,  7.98it/s]\n"
     ]
    },
    {
     "name": "stdout",
     "output_type": "stream",
     "text": [
      "1 FOLDS: Lasso RMSLE: 10084.0290\n",
      "2 FOLDS: Lasso RMSLE: 9080.6740\n",
      "3 FOLDS: Lasso RMSLE: 6591.1173\n",
      "4 FOLDS: Lasso RMSLE: 5906.4269\n",
      "5 FOLDS: Lasso RMSLE: 5854.3062\n",
      "6 FOLDS: Lasso RMSLE: 5383.9171\n",
      "7 FOLDS: Lasso RMSLE: 5841.3196\n",
      "8 FOLDS: Lasso RMSLE: 8988.2086\n",
      "9 FOLDS: Lasso RMSLE: 4756.1633\n",
      "10 FOLDS: Lasso RMSLE: 4740.0043\n",
      "\n",
      "Lasso mean RMSLE: 6722.6166\n",
      "========================================\n"
     ]
    },
    {
     "name": "stderr",
     "output_type": "stream",
     "text": [
      "ElasticNet Cross Validations...: 100%|█████████████████████████████████████████████████| 10/10 [00:01<00:00,  7.54it/s]\n"
     ]
    },
    {
     "name": "stdout",
     "output_type": "stream",
     "text": [
      "1 FOLDS: ElasticNet RMSLE: 10104.7362\n",
      "2 FOLDS: ElasticNet RMSLE: 9012.2401\n",
      "3 FOLDS: ElasticNet RMSLE: 6589.8870\n",
      "4 FOLDS: ElasticNet RMSLE: 5904.7804\n",
      "5 FOLDS: ElasticNet RMSLE: 5854.0280\n",
      "6 FOLDS: ElasticNet RMSLE: 5380.4981\n",
      "7 FOLDS: ElasticNet RMSLE: 5840.0569\n",
      "8 FOLDS: ElasticNet RMSLE: 8982.2980\n",
      "9 FOLDS: ElasticNet RMSLE: 4743.3709\n",
      "10 FOLDS: ElasticNet RMSLE: 4743.1477\n",
      "\n",
      "ElasticNet mean RMSLE: 6715.5043\n",
      "========================================\n"
     ]
    },
    {
     "name": "stderr",
     "output_type": "stream",
     "text": [
      "DecisionTreeRegressor Cross Validations...: 100%|██████████████████████████████████████| 10/10 [00:02<00:00,  3.66it/s]\n"
     ]
    },
    {
     "name": "stdout",
     "output_type": "stream",
     "text": [
      "1 FOLDS: DecisionTreeRegressor RMSLE: 9315.0286\n",
      "2 FOLDS: DecisionTreeRegressor RMSLE: 8612.9221\n",
      "3 FOLDS: DecisionTreeRegressor RMSLE: 8362.4303\n",
      "4 FOLDS: DecisionTreeRegressor RMSLE: 6397.9780\n",
      "5 FOLDS: DecisionTreeRegressor RMSLE: 6022.4421\n",
      "6 FOLDS: DecisionTreeRegressor RMSLE: 4510.4194\n",
      "7 FOLDS: DecisionTreeRegressor RMSLE: 5075.5874\n",
      "8 FOLDS: DecisionTreeRegressor RMSLE: 4567.5077\n",
      "9 FOLDS: DecisionTreeRegressor RMSLE: 3139.5912\n",
      "10 FOLDS: DecisionTreeRegressor RMSLE: 2657.5473\n",
      "\n",
      "DecisionTreeRegressor mean RMSLE: 5866.1454\n",
      "========================================\n"
     ]
    },
    {
     "name": "stderr",
     "output_type": "stream",
     "text": [
      "RandomForestRegressor Cross Validations...: 100%|██████████████████████████████████████| 10/10 [04:05<00:00, 24.54s/it]\n"
     ]
    },
    {
     "name": "stdout",
     "output_type": "stream",
     "text": [
      "1 FOLDS: RandomForestRegressor RMSLE: 7831.9232\n",
      "2 FOLDS: RandomForestRegressor RMSLE: 6396.9442\n",
      "3 FOLDS: RandomForestRegressor RMSLE: 6002.5295\n",
      "4 FOLDS: RandomForestRegressor RMSLE: 4686.5474\n",
      "5 FOLDS: RandomForestRegressor RMSLE: 4371.3549\n",
      "6 FOLDS: RandomForestRegressor RMSLE: 3446.3432\n",
      "7 FOLDS: RandomForestRegressor RMSLE: 4045.0290\n",
      "8 FOLDS: RandomForestRegressor RMSLE: 3834.4840\n",
      "9 FOLDS: RandomForestRegressor RMSLE: 2480.7485\n",
      "10 FOLDS: RandomForestRegressor RMSLE: 2388.4075\n",
      "\n",
      "RandomForestRegressor mean RMSLE: 4548.4311\n",
      "========================================\n"
     ]
    },
    {
     "name": "stderr",
     "output_type": "stream",
     "text": [
      "XGBRegressor Cross Validations...: 100%|███████████████████████████████████████████████| 10/10 [03:37<00:00, 21.71s/it]\n"
     ]
    },
    {
     "name": "stdout",
     "output_type": "stream",
     "text": [
      "1 FOLDS: XGBRegressor RMSLE: 6583.2773\n",
      "2 FOLDS: XGBRegressor RMSLE: 4920.1653\n",
      "3 FOLDS: XGBRegressor RMSLE: 3953.7875\n",
      "4 FOLDS: XGBRegressor RMSLE: 3423.9790\n",
      "5 FOLDS: XGBRegressor RMSLE: 2345.8472\n",
      "6 FOLDS: XGBRegressor RMSLE: 2480.2886\n",
      "7 FOLDS: XGBRegressor RMSLE: 3303.1696\n",
      "8 FOLDS: XGBRegressor RMSLE: 2695.5377\n",
      "9 FOLDS: XGBRegressor RMSLE: 1611.3509\n",
      "10 FOLDS: XGBRegressor RMSLE: 1614.4498\n",
      "\n",
      "XGBRegressor mean RMSLE: 3293.1853\n",
      "========================================\n"
     ]
    },
    {
     "name": "stderr",
     "output_type": "stream",
     "text": [
      "\r",
      "LGBMRegressor Cross Validations...:   0%|                                                       | 0/10 [00:00<?, ?it/s]"
     ]
    },
    {
     "name": "stdout",
     "output_type": "stream",
     "text": [
      "[LightGBM] [Warning] Accuracy may be bad since you didn't explicitly set num_leaves OR 2^max_depth > num_leaves. (num_leaves=31).\n",
      "[LightGBM] [Warning] Accuracy may be bad since you didn't explicitly set num_leaves OR 2^max_depth > num_leaves. (num_leaves=31).\n",
      "[LightGBM] [Warning] Auto-choosing col-wise multi-threading, the overhead of testing was 0.001392 seconds.\n",
      "You can set `force_col_wise=true` to remove the overhead.\n",
      "[LightGBM] [Info] Total Bins 572\n",
      "[LightGBM] [Info] Number of data points in the train set: 38649, number of used features: 8\n",
      "[LightGBM] [Info] Start training from score 26236.340293\n"
     ]
    },
    {
     "name": "stderr",
     "output_type": "stream",
     "text": [
      "\r",
      "LGBMRegressor Cross Validations...:  10%|████▋                                          | 1/10 [00:00<00:06,  1.43it/s]"
     ]
    },
    {
     "name": "stdout",
     "output_type": "stream",
     "text": [
      "[LightGBM] [Warning] Accuracy may be bad since you didn't explicitly set num_leaves OR 2^max_depth > num_leaves. (num_leaves=31).\n",
      "[LightGBM] [Warning] Accuracy may be bad since you didn't explicitly set num_leaves OR 2^max_depth > num_leaves. (num_leaves=31).\n",
      "[LightGBM] [Warning] Accuracy may be bad since you didn't explicitly set num_leaves OR 2^max_depth > num_leaves. (num_leaves=31).\n",
      "[LightGBM] [Warning] Auto-choosing row-wise multi-threading, the overhead of testing was 0.000688 seconds.\n",
      "You can set `force_row_wise=true` to remove the overhead.\n",
      "And if memory is not enough, you can set `force_col_wise=true`.\n",
      "[LightGBM] [Info] Total Bins 639\n",
      "[LightGBM] [Info] Number of data points in the train set: 77292, number of used features: 8\n",
      "[LightGBM] [Info] Start training from score 26152.606453\n"
     ]
    },
    {
     "name": "stderr",
     "output_type": "stream",
     "text": [
      "\r",
      "LGBMRegressor Cross Validations...:  20%|█████████▍                                     | 2/10 [00:01<00:06,  1.20it/s]"
     ]
    },
    {
     "name": "stdout",
     "output_type": "stream",
     "text": [
      "[LightGBM] [Warning] Accuracy may be bad since you didn't explicitly set num_leaves OR 2^max_depth > num_leaves. (num_leaves=31).\n",
      "[LightGBM] [Warning] Accuracy may be bad since you didn't explicitly set num_leaves OR 2^max_depth > num_leaves. (num_leaves=31).\n",
      "[LightGBM] [Warning] Accuracy may be bad since you didn't explicitly set num_leaves OR 2^max_depth > num_leaves. (num_leaves=31).\n",
      "[LightGBM] [Warning] Auto-choosing row-wise multi-threading, the overhead of testing was 0.000888 seconds.\n",
      "You can set `force_row_wise=true` to remove the overhead.\n",
      "And if memory is not enough, you can set `force_col_wise=true`.\n",
      "[LightGBM] [Info] Total Bins 657\n",
      "[LightGBM] [Info] Number of data points in the train set: 115935, number of used features: 8\n",
      "[LightGBM] [Info] Start training from score 24629.378074\n"
     ]
    },
    {
     "name": "stderr",
     "output_type": "stream",
     "text": [
      "\r",
      "LGBMRegressor Cross Validations...:  30%|██████████████                                 | 3/10 [00:02<00:06,  1.04it/s]"
     ]
    },
    {
     "name": "stdout",
     "output_type": "stream",
     "text": [
      "[LightGBM] [Warning] Accuracy may be bad since you didn't explicitly set num_leaves OR 2^max_depth > num_leaves. (num_leaves=31).\n",
      "[LightGBM] [Warning] Accuracy may be bad since you didn't explicitly set num_leaves OR 2^max_depth > num_leaves. (num_leaves=31).\n",
      "[LightGBM] [Warning] Accuracy may be bad since you didn't explicitly set num_leaves OR 2^max_depth > num_leaves. (num_leaves=31).\n",
      "[LightGBM] [Warning] Auto-choosing row-wise multi-threading, the overhead of testing was 0.001097 seconds.\n",
      "You can set `force_row_wise=true` to remove the overhead.\n",
      "And if memory is not enough, you can set `force_col_wise=true`.\n",
      "[LightGBM] [Info] Total Bins 685\n",
      "[LightGBM] [Info] Number of data points in the train set: 154578, number of used features: 8\n",
      "[LightGBM] [Info] Start training from score 23566.597899\n"
     ]
    },
    {
     "name": "stderr",
     "output_type": "stream",
     "text": [
      "\r",
      "LGBMRegressor Cross Validations...:  40%|██████████████████▊                            | 4/10 [00:04<00:06,  1.10s/it]"
     ]
    },
    {
     "name": "stdout",
     "output_type": "stream",
     "text": [
      "[LightGBM] [Warning] Accuracy may be bad since you didn't explicitly set num_leaves OR 2^max_depth > num_leaves. (num_leaves=31).\n",
      "[LightGBM] [Warning] Accuracy may be bad since you didn't explicitly set num_leaves OR 2^max_depth > num_leaves. (num_leaves=31).\n",
      "[LightGBM] [Warning] Accuracy may be bad since you didn't explicitly set num_leaves OR 2^max_depth > num_leaves. (num_leaves=31).\n",
      "[LightGBM] [Warning] Auto-choosing row-wise multi-threading, the overhead of testing was 0.001919 seconds.\n",
      "You can set `force_row_wise=true` to remove the overhead.\n",
      "And if memory is not enough, you can set `force_col_wise=true`.\n",
      "[LightGBM] [Info] Total Bins 717\n",
      "[LightGBM] [Info] Number of data points in the train set: 193221, number of used features: 8\n",
      "[LightGBM] [Info] Start training from score 22362.432696\n"
     ]
    },
    {
     "name": "stderr",
     "output_type": "stream",
     "text": [
      "\r",
      "LGBMRegressor Cross Validations...:  50%|███████████████████████▌                       | 5/10 [00:05<00:06,  1.22s/it]"
     ]
    },
    {
     "name": "stdout",
     "output_type": "stream",
     "text": [
      "[LightGBM] [Warning] Accuracy may be bad since you didn't explicitly set num_leaves OR 2^max_depth > num_leaves. (num_leaves=31).\n",
      "[LightGBM] [Warning] Accuracy may be bad since you didn't explicitly set num_leaves OR 2^max_depth > num_leaves. (num_leaves=31).\n",
      "[LightGBM] [Warning] Accuracy may be bad since you didn't explicitly set num_leaves OR 2^max_depth > num_leaves. (num_leaves=31).\n",
      "[LightGBM] [Warning] Auto-choosing col-wise multi-threading, the overhead of testing was 0.006932 seconds.\n",
      "You can set `force_col_wise=true` to remove the overhead.\n",
      "[LightGBM] [Info] Total Bins 736\n",
      "[LightGBM] [Info] Number of data points in the train set: 231864, number of used features: 8\n",
      "[LightGBM] [Info] Start training from score 21205.027689\n"
     ]
    },
    {
     "name": "stderr",
     "output_type": "stream",
     "text": [
      "\r",
      "LGBMRegressor Cross Validations...:  60%|████████████████████████████▏                  | 6/10 [00:07<00:05,  1.45s/it]"
     ]
    },
    {
     "name": "stdout",
     "output_type": "stream",
     "text": [
      "[LightGBM] [Warning] Accuracy may be bad since you didn't explicitly set num_leaves OR 2^max_depth > num_leaves. (num_leaves=31).\n",
      "[LightGBM] [Warning] Accuracy may be bad since you didn't explicitly set num_leaves OR 2^max_depth > num_leaves. (num_leaves=31).\n",
      "[LightGBM] [Warning] Accuracy may be bad since you didn't explicitly set num_leaves OR 2^max_depth > num_leaves. (num_leaves=31).\n",
      "[LightGBM] [Warning] Auto-choosing row-wise multi-threading, the overhead of testing was 0.001778 seconds.\n",
      "You can set `force_row_wise=true` to remove the overhead.\n",
      "And if memory is not enough, you can set `force_col_wise=true`.\n",
      "[LightGBM] [Info] Total Bins 766\n",
      "[LightGBM] [Info] Number of data points in the train set: 270507, number of used features: 8\n",
      "[LightGBM] [Info] Start training from score 20255.548045\n"
     ]
    },
    {
     "name": "stderr",
     "output_type": "stream",
     "text": [
      "\r",
      "LGBMRegressor Cross Validations...:  70%|████████████████████████████████▉              | 7/10 [00:09<00:04,  1.58s/it]"
     ]
    },
    {
     "name": "stdout",
     "output_type": "stream",
     "text": [
      "[LightGBM] [Warning] Accuracy may be bad since you didn't explicitly set num_leaves OR 2^max_depth > num_leaves. (num_leaves=31).\n",
      "[LightGBM] [Warning] Accuracy may be bad since you didn't explicitly set num_leaves OR 2^max_depth > num_leaves. (num_leaves=31).\n",
      "[LightGBM] [Warning] Accuracy may be bad since you didn't explicitly set num_leaves OR 2^max_depth > num_leaves. (num_leaves=31).\n",
      "[LightGBM] [Warning] Auto-choosing row-wise multi-threading, the overhead of testing was 0.001950 seconds.\n",
      "You can set `force_row_wise=true` to remove the overhead.\n",
      "And if memory is not enough, you can set `force_col_wise=true`.\n",
      "[LightGBM] [Info] Total Bins 789\n",
      "[LightGBM] [Info] Number of data points in the train set: 309150, number of used features: 8\n",
      "[LightGBM] [Info] Start training from score 19362.939107\n"
     ]
    },
    {
     "name": "stderr",
     "output_type": "stream",
     "text": [
      "\r",
      "LGBMRegressor Cross Validations...:  80%|█████████████████████████████████████▌         | 8/10 [00:11<00:03,  1.70s/it]"
     ]
    },
    {
     "name": "stdout",
     "output_type": "stream",
     "text": [
      "[LightGBM] [Warning] Accuracy may be bad since you didn't explicitly set num_leaves OR 2^max_depth > num_leaves. (num_leaves=31).\n",
      "[LightGBM] [Warning] Accuracy may be bad since you didn't explicitly set num_leaves OR 2^max_depth > num_leaves. (num_leaves=31).\n",
      "[LightGBM] [Warning] Accuracy may be bad since you didn't explicitly set num_leaves OR 2^max_depth > num_leaves. (num_leaves=31).\n",
      "[LightGBM] [Warning] Auto-choosing row-wise multi-threading, the overhead of testing was 0.002391 seconds.\n",
      "You can set `force_row_wise=true` to remove the overhead.\n",
      "And if memory is not enough, you can set `force_col_wise=true`.\n",
      "[LightGBM] [Info] Total Bins 840\n",
      "[LightGBM] [Info] Number of data points in the train set: 347793, number of used features: 8\n",
      "[LightGBM] [Info] Start training from score 18529.221065\n"
     ]
    },
    {
     "name": "stderr",
     "output_type": "stream",
     "text": [
      "\r",
      "LGBMRegressor Cross Validations...:  90%|██████████████████████████████████████████▎    | 9/10 [00:13<00:01,  1.84s/it]"
     ]
    },
    {
     "name": "stdout",
     "output_type": "stream",
     "text": [
      "[LightGBM] [Warning] Accuracy may be bad since you didn't explicitly set num_leaves OR 2^max_depth > num_leaves. (num_leaves=31).\n",
      "[LightGBM] [Warning] Accuracy may be bad since you didn't explicitly set num_leaves OR 2^max_depth > num_leaves. (num_leaves=31).\n",
      "[LightGBM] [Warning] Accuracy may be bad since you didn't explicitly set num_leaves OR 2^max_depth > num_leaves. (num_leaves=31).\n",
      "[LightGBM] [Warning] Auto-choosing row-wise multi-threading, the overhead of testing was 0.002563 seconds.\n",
      "You can set `force_row_wise=true` to remove the overhead.\n",
      "And if memory is not enough, you can set `force_col_wise=true`.\n",
      "[LightGBM] [Info] Total Bins 876\n",
      "[LightGBM] [Info] Number of data points in the train set: 386436, number of used features: 8\n",
      "[LightGBM] [Info] Start training from score 17601.731094\n"
     ]
    },
    {
     "name": "stderr",
     "output_type": "stream",
     "text": [
      "LGBMRegressor Cross Validations...: 100%|██████████████████████████████████████████████| 10/10 [00:15<00:00,  1.57s/it]"
     ]
    },
    {
     "name": "stdout",
     "output_type": "stream",
     "text": [
      "[LightGBM] [Warning] Accuracy may be bad since you didn't explicitly set num_leaves OR 2^max_depth > num_leaves. (num_leaves=31).\n",
      "1 FOLDS: LGBMRegressor RMSLE: 6138.6828\n",
      "2 FOLDS: LGBMRegressor RMSLE: 4710.4239\n",
      "3 FOLDS: LGBMRegressor RMSLE: 4068.0352\n",
      "4 FOLDS: LGBMRegressor RMSLE: 3124.9472\n",
      "5 FOLDS: LGBMRegressor RMSLE: 2360.6858\n",
      "6 FOLDS: LGBMRegressor RMSLE: 2388.1207\n",
      "7 FOLDS: LGBMRegressor RMSLE: 3103.2261\n",
      "8 FOLDS: LGBMRegressor RMSLE: 2919.2274\n",
      "9 FOLDS: LGBMRegressor RMSLE: 1539.2745\n",
      "10 FOLDS: LGBMRegressor RMSLE: 1528.6945\n",
      "\n",
      "LGBMRegressor mean RMSLE: 3188.1318\n",
      "========================================\n"
     ]
    },
    {
     "name": "stderr",
     "output_type": "stream",
     "text": [
      "\n"
     ]
    }
   ],
   "source": [
    "models = []\n",
    "scores = []\n",
    "for model in [lrmodel, ridge, lasso, enet, d_tree, rf, model_xgb, model_lgb]:\n",
    "    model_name, mean_score = print_rmse_score(model)\n",
    "    models.append(model_name)\n",
    "    scores.append(mean_score)"
   ]
  },
  {
   "cell_type": "code",
   "execution_count": 34,
   "id": "5aba97e8",
   "metadata": {},
   "outputs": [
    {
     "data": {
      "text/html": [
       "<div>\n",
       "<style scoped>\n",
       "    .dataframe tbody tr th:only-of-type {\n",
       "        vertical-align: middle;\n",
       "    }\n",
       "\n",
       "    .dataframe tbody tr th {\n",
       "        vertical-align: top;\n",
       "    }\n",
       "\n",
       "    .dataframe thead th {\n",
       "        text-align: right;\n",
       "    }\n",
       "</style>\n",
       "<table border=\"1\" class=\"dataframe\">\n",
       "  <thead>\n",
       "    <tr style=\"text-align: right;\">\n",
       "      <th></th>\n",
       "      <th>Model</th>\n",
       "      <th>Score</th>\n",
       "    </tr>\n",
       "  </thead>\n",
       "  <tbody>\n",
       "    <tr>\n",
       "      <th>0</th>\n",
       "      <td>LinearRegression</td>\n",
       "      <td>6722.620306</td>\n",
       "    </tr>\n",
       "    <tr>\n",
       "      <th>1</th>\n",
       "      <td>Ridge</td>\n",
       "      <td>6722.619036</td>\n",
       "    </tr>\n",
       "    <tr>\n",
       "      <th>2</th>\n",
       "      <td>Lasso</td>\n",
       "      <td>6722.616620</td>\n",
       "    </tr>\n",
       "    <tr>\n",
       "      <th>3</th>\n",
       "      <td>ElasticNet</td>\n",
       "      <td>6715.504320</td>\n",
       "    </tr>\n",
       "    <tr>\n",
       "      <th>4</th>\n",
       "      <td>DecisionTreeRegressor</td>\n",
       "      <td>5866.145420</td>\n",
       "    </tr>\n",
       "    <tr>\n",
       "      <th>5</th>\n",
       "      <td>RandomForestRegressor</td>\n",
       "      <td>4548.431143</td>\n",
       "    </tr>\n",
       "    <tr>\n",
       "      <th>6</th>\n",
       "      <td>XGBRegressor</td>\n",
       "      <td>3293.185304</td>\n",
       "    </tr>\n",
       "    <tr>\n",
       "      <th>7</th>\n",
       "      <td>LGBMRegressor</td>\n",
       "      <td>3188.131805</td>\n",
       "    </tr>\n",
       "  </tbody>\n",
       "</table>\n",
       "</div>"
      ],
      "text/plain": [
       "                   Model        Score\n",
       "0       LinearRegression  6722.620306\n",
       "1                  Ridge  6722.619036\n",
       "2                  Lasso  6722.616620\n",
       "3             ElasticNet  6715.504320\n",
       "4  DecisionTreeRegressor  5866.145420\n",
       "5  RandomForestRegressor  4548.431143\n",
       "6           XGBRegressor  3293.185304\n",
       "7          LGBMRegressor  3188.131805"
      ]
     },
     "execution_count": 34,
     "metadata": {},
     "output_type": "execute_result"
    }
   ],
   "source": [
    "result_df = pd.DataFrame({'Model': models, 'Score': scores}).reset_index(drop=True)\n",
    "result_df"
   ]
  },
  {
   "cell_type": "code",
   "execution_count": null,
   "id": "19de5048",
   "metadata": {},
   "outputs": [],
   "source": []
  },
  {
   "cell_type": "code",
   "execution_count": null,
   "id": "4e90ae24",
   "metadata": {},
   "outputs": [],
   "source": []
  }
 ],
 "metadata": {
  "kernelspec": {
   "display_name": "Python 3 (ipykernel)",
   "language": "python",
   "name": "python3"
  },
  "language_info": {
   "codemirror_mode": {
    "name": "ipython",
    "version": 3
   },
   "file_extension": ".py",
   "mimetype": "text/x-python",
   "name": "python",
   "nbconvert_exporter": "python",
   "pygments_lexer": "ipython3",
   "version": "3.8.0"
  }
 },
 "nbformat": 4,
 "nbformat_minor": 5
}
