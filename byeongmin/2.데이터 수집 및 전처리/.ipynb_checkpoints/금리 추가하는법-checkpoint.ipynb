{
 "cells": [
  {
   "cell_type": "code",
   "execution_count": null,
   "id": "ff334571",
   "metadata": {},
   "outputs": [],
   "source": [
    "import pandas as pd\n",
    "\n",
    "data= pd.read_csv(\"06~23 광주아파트(매매).csv\", encoding=\"EUC-KR\")\n",
    "df_ir = pd.read_csv('한국은행 기준금리 및 여수신금리_2006~2023.csv')\n",
    "df_ir['변환'].replace('/', '', regex=True, inplace=True)\n",
    "df_ir['변환'] = df_ir['변환'].astype('int')\n",
    "df_ir.set_index('변환', inplace=True)\n",
    "\n",
    "data['기준금리'] = data['계약년월'].apply(lambda x: df_ir.loc[x, :][0])"
   ]
  }
 ],
 "metadata": {
  "kernelspec": {
   "display_name": "Python 3 (ipykernel)",
   "language": "python",
   "name": "python3"
  },
  "language_info": {
   "codemirror_mode": {
    "name": "ipython",
    "version": 3
   },
   "file_extension": ".py",
   "mimetype": "text/x-python",
   "name": "python",
   "nbconvert_exporter": "python",
   "pygments_lexer": "ipython3",
   "version": "3.8.0"
  }
 },
 "nbformat": 4,
 "nbformat_minor": 5
}
