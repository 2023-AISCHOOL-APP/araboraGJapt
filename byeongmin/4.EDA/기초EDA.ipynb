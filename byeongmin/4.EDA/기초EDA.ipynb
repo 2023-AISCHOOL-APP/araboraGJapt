{
 "cells": [
  {
   "cell_type": "code",
   "execution_count": 4,
   "id": "54712824",
   "metadata": {},
   "outputs": [
    {
     "name": "stdout",
     "output_type": "stream",
     "text": [
      "Collecting seaborn\n",
      "  Downloading seaborn-0.12.2-py3-none-any.whl (293 kB)\n",
      "                                              0.0/293.3 kB ? eta -:--:--\n",
      "     -------------------------              194.6/293.3 kB 4.0 MB/s eta 0:00:01\n",
      "     -------------------------------------- 293.3/293.3 kB 4.6 MB/s eta 0:00:00\n",
      "Requirement already satisfied: numpy!=1.24.0,>=1.17 in c:\\users\\gjaischool1\\anaconda3\\envs\\machine\\lib\\site-packages (from seaborn) (1.24.4)\n",
      "Requirement already satisfied: pandas>=0.25 in c:\\users\\gjaischool1\\anaconda3\\envs\\machine\\lib\\site-packages (from seaborn) (2.0.3)\n",
      "Requirement already satisfied: matplotlib!=3.6.1,>=3.1 in c:\\users\\gjaischool1\\anaconda3\\envs\\machine\\lib\\site-packages (from seaborn) (3.7.2)\n",
      "Requirement already satisfied: contourpy>=1.0.1 in c:\\users\\gjaischool1\\anaconda3\\envs\\machine\\lib\\site-packages (from matplotlib!=3.6.1,>=3.1->seaborn) (1.1.0)\n",
      "Requirement already satisfied: cycler>=0.10 in c:\\users\\gjaischool1\\anaconda3\\envs\\machine\\lib\\site-packages (from matplotlib!=3.6.1,>=3.1->seaborn) (0.11.0)\n",
      "Requirement already satisfied: fonttools>=4.22.0 in c:\\users\\gjaischool1\\anaconda3\\envs\\machine\\lib\\site-packages (from matplotlib!=3.6.1,>=3.1->seaborn) (4.40.0)\n",
      "Requirement already satisfied: kiwisolver>=1.0.1 in c:\\users\\gjaischool1\\anaconda3\\envs\\machine\\lib\\site-packages (from matplotlib!=3.6.1,>=3.1->seaborn) (1.4.4)\n",
      "Requirement already satisfied: packaging>=20.0 in c:\\users\\gjaischool1\\anaconda3\\envs\\machine\\lib\\site-packages (from matplotlib!=3.6.1,>=3.1->seaborn) (23.0)\n",
      "Requirement already satisfied: pillow>=6.2.0 in c:\\users\\gjaischool1\\anaconda3\\envs\\machine\\lib\\site-packages (from matplotlib!=3.6.1,>=3.1->seaborn) (10.0.0)\n",
      "Requirement already satisfied: pyparsing<3.1,>=2.3.1 in c:\\users\\gjaischool1\\anaconda3\\envs\\machine\\lib\\site-packages (from matplotlib!=3.6.1,>=3.1->seaborn) (3.0.9)\n",
      "Requirement already satisfied: python-dateutil>=2.7 in c:\\users\\gjaischool1\\anaconda3\\envs\\machine\\lib\\site-packages (from matplotlib!=3.6.1,>=3.1->seaborn) (2.8.2)\n",
      "Requirement already satisfied: importlib-resources>=3.2.0 in c:\\users\\gjaischool1\\anaconda3\\envs\\machine\\lib\\site-packages (from matplotlib!=3.6.1,>=3.1->seaborn) (5.2.0)\n",
      "Requirement already satisfied: pytz>=2020.1 in c:\\users\\gjaischool1\\anaconda3\\envs\\machine\\lib\\site-packages (from pandas>=0.25->seaborn) (2023.3)\n",
      "Requirement already satisfied: tzdata>=2022.1 in c:\\users\\gjaischool1\\anaconda3\\envs\\machine\\lib\\site-packages (from pandas>=0.25->seaborn) (2023.3)\n",
      "Requirement already satisfied: zipp>=3.1.0 in c:\\users\\gjaischool1\\anaconda3\\envs\\machine\\lib\\site-packages (from importlib-resources>=3.2.0->matplotlib!=3.6.1,>=3.1->seaborn) (3.11.0)\n",
      "Requirement already satisfied: six>=1.5 in c:\\users\\gjaischool1\\anaconda3\\envs\\machine\\lib\\site-packages (from python-dateutil>=2.7->matplotlib!=3.6.1,>=3.1->seaborn) (1.16.0)\n",
      "Installing collected packages: seaborn\n",
      "Successfully installed seaborn-0.12.2\n",
      "Note: you may need to restart the kernel to use updated packages.\n"
     ]
    }
   ],
   "source": [
    "pip install seaborn"
   ]
  },
  {
   "cell_type": "code",
   "execution_count": 1,
   "id": "42e2519a",
   "metadata": {},
   "outputs": [],
   "source": [
    "import seaborn as sns\n",
    "import matplotlib.pyplot as plt\n",
    "import pandas as pd\n",
    "import numpy as np\n",
    "import matplotlib.font_manager as fm"
   ]
  },
  {
   "cell_type": "code",
   "execution_count": 2,
   "id": "b1a4c1ee",
   "metadata": {},
   "outputs": [],
   "source": [
    "font_path = r'C:\\Windows\\Fonts\\gulim.ttf'\n",
    "plt.rc('font', family='Gulim')"
   ]
  },
  {
   "cell_type": "code",
   "execution_count": 3,
   "id": "6a0ed8f7",
   "metadata": {},
   "outputs": [],
   "source": [
    "data=pd.read_csv('머신러닝 전처리 데이터.csv',encoding = \"EUC-KR\")"
   ]
  },
  {
   "cell_type": "code",
   "execution_count": 36,
   "id": "04548485",
   "metadata": {},
   "outputs": [
    {
     "data": {
      "text/html": [
       "<div>\n",
       "<style scoped>\n",
       "    .dataframe tbody tr th:only-of-type {\n",
       "        vertical-align: middle;\n",
       "    }\n",
       "\n",
       "    .dataframe tbody tr th {\n",
       "        vertical-align: top;\n",
       "    }\n",
       "\n",
       "    .dataframe thead th {\n",
       "        text-align: right;\n",
       "    }\n",
       "</style>\n",
       "<table border=\"1\" class=\"dataframe\">\n",
       "  <thead>\n",
       "    <tr style=\"text-align: right;\">\n",
       "      <th></th>\n",
       "      <th>시군구</th>\n",
       "      <th>단지명</th>\n",
       "      <th>전용면적(㎡)</th>\n",
       "      <th>계약년월</th>\n",
       "      <th>계약일</th>\n",
       "      <th>계약날짜</th>\n",
       "      <th>층</th>\n",
       "      <th>건축나이</th>\n",
       "      <th>거래건수</th>\n",
       "      <th>기준금리</th>\n",
       "      <th>법정동코드</th>\n",
       "      <th>지하철역수</th>\n",
       "      <th>거래금액(만원)</th>\n",
       "    </tr>\n",
       "  </thead>\n",
       "  <tbody>\n",
       "    <tr>\n",
       "      <th>0</th>\n",
       "      <td>광주광역시 광산구 도산동</td>\n",
       "      <td>대덕1</td>\n",
       "      <td>59.3100</td>\n",
       "      <td>202303</td>\n",
       "      <td>18</td>\n",
       "      <td>2023-03-18</td>\n",
       "      <td>4</td>\n",
       "      <td>33</td>\n",
       "      <td>20</td>\n",
       "      <td>3.5</td>\n",
       "      <td>2920010200</td>\n",
       "      <td>1</td>\n",
       "      <td>9800</td>\n",
       "    </tr>\n",
       "    <tr>\n",
       "      <th>1</th>\n",
       "      <td>광주광역시 광산구 도산동</td>\n",
       "      <td>대주피오레1차</td>\n",
       "      <td>84.9800</td>\n",
       "      <td>202302</td>\n",
       "      <td>7</td>\n",
       "      <td>2023-02-07</td>\n",
       "      <td>2</td>\n",
       "      <td>23</td>\n",
       "      <td>14</td>\n",
       "      <td>3.5</td>\n",
       "      <td>2920010200</td>\n",
       "      <td>1</td>\n",
       "      <td>21000</td>\n",
       "    </tr>\n",
       "    <tr>\n",
       "      <th>2</th>\n",
       "      <td>광주광역시 광산구 도산동</td>\n",
       "      <td>대주피오레1차</td>\n",
       "      <td>84.9800</td>\n",
       "      <td>202305</td>\n",
       "      <td>31</td>\n",
       "      <td>2023-05-31</td>\n",
       "      <td>5</td>\n",
       "      <td>23</td>\n",
       "      <td>16</td>\n",
       "      <td>3.5</td>\n",
       "      <td>2920010200</td>\n",
       "      <td>1</td>\n",
       "      <td>22350</td>\n",
       "    </tr>\n",
       "    <tr>\n",
       "      <th>3</th>\n",
       "      <td>광주광역시 광산구 도산동</td>\n",
       "      <td>대주피오레2차</td>\n",
       "      <td>84.7575</td>\n",
       "      <td>202305</td>\n",
       "      <td>9</td>\n",
       "      <td>2023-05-09</td>\n",
       "      <td>5</td>\n",
       "      <td>22</td>\n",
       "      <td>16</td>\n",
       "      <td>3.5</td>\n",
       "      <td>2920010200</td>\n",
       "      <td>1</td>\n",
       "      <td>22400</td>\n",
       "    </tr>\n",
       "    <tr>\n",
       "      <th>4</th>\n",
       "      <td>광주광역시 광산구 도산동</td>\n",
       "      <td>대주피오레2차</td>\n",
       "      <td>84.7575</td>\n",
       "      <td>202305</td>\n",
       "      <td>13</td>\n",
       "      <td>2023-05-13</td>\n",
       "      <td>13</td>\n",
       "      <td>22</td>\n",
       "      <td>16</td>\n",
       "      <td>3.5</td>\n",
       "      <td>2920010200</td>\n",
       "      <td>1</td>\n",
       "      <td>22000</td>\n",
       "    </tr>\n",
       "    <tr>\n",
       "      <th>...</th>\n",
       "      <td>...</td>\n",
       "      <td>...</td>\n",
       "      <td>...</td>\n",
       "      <td>...</td>\n",
       "      <td>...</td>\n",
       "      <td>...</td>\n",
       "      <td>...</td>\n",
       "      <td>...</td>\n",
       "      <td>...</td>\n",
       "      <td>...</td>\n",
       "      <td>...</td>\n",
       "      <td>...</td>\n",
       "      <td>...</td>\n",
       "    </tr>\n",
       "    <tr>\n",
       "      <th>425074</th>\n",
       "      <td>광주광역시 서구 화정동</td>\n",
       "      <td>화정우미</td>\n",
       "      <td>115.1850</td>\n",
       "      <td>200611</td>\n",
       "      <td>10</td>\n",
       "      <td>2006-11-10</td>\n",
       "      <td>17</td>\n",
       "      <td>10</td>\n",
       "      <td>131</td>\n",
       "      <td>4.5</td>\n",
       "      <td>2914011900</td>\n",
       "      <td>1</td>\n",
       "      <td>19000</td>\n",
       "    </tr>\n",
       "    <tr>\n",
       "      <th>425075</th>\n",
       "      <td>광주광역시 서구 화정동</td>\n",
       "      <td>화정우미</td>\n",
       "      <td>84.8300</td>\n",
       "      <td>200611</td>\n",
       "      <td>27</td>\n",
       "      <td>2006-11-27</td>\n",
       "      <td>6</td>\n",
       "      <td>10</td>\n",
       "      <td>131</td>\n",
       "      <td>4.5</td>\n",
       "      <td>2914011900</td>\n",
       "      <td>1</td>\n",
       "      <td>12000</td>\n",
       "    </tr>\n",
       "    <tr>\n",
       "      <th>425076</th>\n",
       "      <td>광주광역시 서구 화정동</td>\n",
       "      <td>화정우미</td>\n",
       "      <td>59.8300</td>\n",
       "      <td>200611</td>\n",
       "      <td>30</td>\n",
       "      <td>2006-11-30</td>\n",
       "      <td>2</td>\n",
       "      <td>10</td>\n",
       "      <td>131</td>\n",
       "      <td>4.5</td>\n",
       "      <td>2914011900</td>\n",
       "      <td>1</td>\n",
       "      <td>7700</td>\n",
       "    </tr>\n",
       "    <tr>\n",
       "      <th>425077</th>\n",
       "      <td>광주광역시 서구 화정동</td>\n",
       "      <td>화정우미</td>\n",
       "      <td>84.8400</td>\n",
       "      <td>200612</td>\n",
       "      <td>6</td>\n",
       "      <td>2006-12-06</td>\n",
       "      <td>16</td>\n",
       "      <td>10</td>\n",
       "      <td>124</td>\n",
       "      <td>4.5</td>\n",
       "      <td>2914011900</td>\n",
       "      <td>1</td>\n",
       "      <td>12170</td>\n",
       "    </tr>\n",
       "    <tr>\n",
       "      <th>425078</th>\n",
       "      <td>광주광역시 서구 화정동</td>\n",
       "      <td>화정우미</td>\n",
       "      <td>115.1850</td>\n",
       "      <td>200612</td>\n",
       "      <td>12</td>\n",
       "      <td>2006-12-12</td>\n",
       "      <td>14</td>\n",
       "      <td>10</td>\n",
       "      <td>124</td>\n",
       "      <td>4.5</td>\n",
       "      <td>2914011900</td>\n",
       "      <td>1</td>\n",
       "      <td>17500</td>\n",
       "    </tr>\n",
       "  </tbody>\n",
       "</table>\n",
       "<p>425079 rows × 13 columns</p>\n",
       "</div>"
      ],
      "text/plain": [
       "                  시군구      단지명   전용면적(㎡)    계약년월  계약일        계약날짜   층  건축나이  \\\n",
       "0       광주광역시 광산구 도산동      대덕1   59.3100  202303   18  2023-03-18   4    33   \n",
       "1       광주광역시 광산구 도산동  대주피오레1차   84.9800  202302    7  2023-02-07   2    23   \n",
       "2       광주광역시 광산구 도산동  대주피오레1차   84.9800  202305   31  2023-05-31   5    23   \n",
       "3       광주광역시 광산구 도산동  대주피오레2차   84.7575  202305    9  2023-05-09   5    22   \n",
       "4       광주광역시 광산구 도산동  대주피오레2차   84.7575  202305   13  2023-05-13  13    22   \n",
       "...               ...      ...       ...     ...  ...         ...  ..   ...   \n",
       "425074   광주광역시 서구 화정동     화정우미  115.1850  200611   10  2006-11-10  17    10   \n",
       "425075   광주광역시 서구 화정동     화정우미   84.8300  200611   27  2006-11-27   6    10   \n",
       "425076   광주광역시 서구 화정동     화정우미   59.8300  200611   30  2006-11-30   2    10   \n",
       "425077   광주광역시 서구 화정동     화정우미   84.8400  200612    6  2006-12-06  16    10   \n",
       "425078   광주광역시 서구 화정동     화정우미  115.1850  200612   12  2006-12-12  14    10   \n",
       "\n",
       "        거래건수  기준금리       법정동코드  지하철역수  거래금액(만원)  \n",
       "0         20   3.5  2920010200      1      9800  \n",
       "1         14   3.5  2920010200      1     21000  \n",
       "2         16   3.5  2920010200      1     22350  \n",
       "3         16   3.5  2920010200      1     22400  \n",
       "4         16   3.5  2920010200      1     22000  \n",
       "...      ...   ...         ...    ...       ...  \n",
       "425074   131   4.5  2914011900      1     19000  \n",
       "425075   131   4.5  2914011900      1     12000  \n",
       "425076   131   4.5  2914011900      1      7700  \n",
       "425077   124   4.5  2914011900      1     12170  \n",
       "425078   124   4.5  2914011900      1     17500  \n",
       "\n",
       "[425079 rows x 13 columns]"
      ]
     },
     "execution_count": 36,
     "metadata": {},
     "output_type": "execute_result"
    }
   ],
   "source": [
    "data"
   ]
  },
  {
   "cell_type": "code",
   "execution_count": 7,
   "id": "7e2234d4",
   "metadata": {},
   "outputs": [
    {
     "data": {
      "text/html": [
       "<div>\n",
       "<style scoped>\n",
       "    .dataframe tbody tr th:only-of-type {\n",
       "        vertical-align: middle;\n",
       "    }\n",
       "\n",
       "    .dataframe tbody tr th {\n",
       "        vertical-align: top;\n",
       "    }\n",
       "\n",
       "    .dataframe thead th {\n",
       "        text-align: right;\n",
       "    }\n",
       "</style>\n",
       "<table border=\"1\" class=\"dataframe\">\n",
       "  <thead>\n",
       "    <tr style=\"text-align: right;\">\n",
       "      <th></th>\n",
       "      <th>전용면적(㎡)</th>\n",
       "      <th>계약년월</th>\n",
       "      <th>계약일</th>\n",
       "      <th>층</th>\n",
       "      <th>건축나이</th>\n",
       "      <th>거래건수</th>\n",
       "      <th>기준금리</th>\n",
       "      <th>법정동코드</th>\n",
       "      <th>지하철역수</th>\n",
       "      <th>거래금액(만원)</th>\n",
       "    </tr>\n",
       "  </thead>\n",
       "  <tbody>\n",
       "    <tr>\n",
       "      <th>count</th>\n",
       "      <td>425079.000000</td>\n",
       "      <td>425079.000000</td>\n",
       "      <td>425079.000000</td>\n",
       "      <td>425079.000000</td>\n",
       "      <td>425079.000000</td>\n",
       "      <td>425079.000000</td>\n",
       "      <td>425079.000000</td>\n",
       "      <td>4.250790e+05</td>\n",
       "      <td>425079.000000</td>\n",
       "      <td>425079.000000</td>\n",
       "    </tr>\n",
       "    <tr>\n",
       "      <th>mean</th>\n",
       "      <td>75.142060</td>\n",
       "      <td>201378.896318</td>\n",
       "      <td>15.830989</td>\n",
       "      <td>8.537959</td>\n",
       "      <td>14.215242</td>\n",
       "      <td>92.496602</td>\n",
       "      <td>2.363725</td>\n",
       "      <td>2.916884e+09</td>\n",
       "      <td>0.169841</td>\n",
       "      <td>16811.097775</td>\n",
       "    </tr>\n",
       "    <tr>\n",
       "      <th>std</th>\n",
       "      <td>24.593031</td>\n",
       "      <td>496.938478</td>\n",
       "      <td>8.752798</td>\n",
       "      <td>5.429801</td>\n",
       "      <td>8.775787</td>\n",
       "      <td>178.648894</td>\n",
       "      <td>1.301010</td>\n",
       "      <td>2.529851e+06</td>\n",
       "      <td>0.493604</td>\n",
       "      <td>12483.377248</td>\n",
       "    </tr>\n",
       "    <tr>\n",
       "      <th>min</th>\n",
       "      <td>14.120800</td>\n",
       "      <td>200601.000000</td>\n",
       "      <td>1.000000</td>\n",
       "      <td>-1.000000</td>\n",
       "      <td>-2.000000</td>\n",
       "      <td>1.000000</td>\n",
       "      <td>0.500000</td>\n",
       "      <td>2.911010e+09</td>\n",
       "      <td>0.000000</td>\n",
       "      <td>1200.000000</td>\n",
       "    </tr>\n",
       "    <tr>\n",
       "      <th>25%</th>\n",
       "      <td>59.790000</td>\n",
       "      <td>200911.000000</td>\n",
       "      <td>8.000000</td>\n",
       "      <td>4.000000</td>\n",
       "      <td>7.000000</td>\n",
       "      <td>30.000000</td>\n",
       "      <td>1.500000</td>\n",
       "      <td>2.914013e+09</td>\n",
       "      <td>0.000000</td>\n",
       "      <td>8700.000000</td>\n",
       "    </tr>\n",
       "    <tr>\n",
       "      <th>50%</th>\n",
       "      <td>78.020000</td>\n",
       "      <td>201402.000000</td>\n",
       "      <td>16.000000</td>\n",
       "      <td>8.000000</td>\n",
       "      <td>14.000000</td>\n",
       "      <td>56.000000</td>\n",
       "      <td>2.000000</td>\n",
       "      <td>2.917011e+09</td>\n",
       "      <td>0.000000</td>\n",
       "      <td>13300.000000</td>\n",
       "    </tr>\n",
       "    <tr>\n",
       "      <th>75%</th>\n",
       "      <td>84.941900</td>\n",
       "      <td>201807.000000</td>\n",
       "      <td>23.000000</td>\n",
       "      <td>12.000000</td>\n",
       "      <td>21.000000</td>\n",
       "      <td>87.000000</td>\n",
       "      <td>3.250000</td>\n",
       "      <td>2.920011e+09</td>\n",
       "      <td>0.000000</td>\n",
       "      <td>20800.000000</td>\n",
       "    </tr>\n",
       "    <tr>\n",
       "      <th>max</th>\n",
       "      <td>283.110000</td>\n",
       "      <td>202306.000000</td>\n",
       "      <td>31.000000</td>\n",
       "      <td>47.000000</td>\n",
       "      <td>46.000000</td>\n",
       "      <td>2057.000000</td>\n",
       "      <td>5.250000</td>\n",
       "      <td>2.920013e+09</td>\n",
       "      <td>2.000000</td>\n",
       "      <td>213000.000000</td>\n",
       "    </tr>\n",
       "  </tbody>\n",
       "</table>\n",
       "</div>"
      ],
      "text/plain": [
       "             전용면적(㎡)           계약년월            계약일              층  \\\n",
       "count  425079.000000  425079.000000  425079.000000  425079.000000   \n",
       "mean       75.142060  201378.896318      15.830989       8.537959   \n",
       "std        24.593031     496.938478       8.752798       5.429801   \n",
       "min        14.120800  200601.000000       1.000000      -1.000000   \n",
       "25%        59.790000  200911.000000       8.000000       4.000000   \n",
       "50%        78.020000  201402.000000      16.000000       8.000000   \n",
       "75%        84.941900  201807.000000      23.000000      12.000000   \n",
       "max       283.110000  202306.000000      31.000000      47.000000   \n",
       "\n",
       "                건축나이           거래건수           기준금리         법정동코드  \\\n",
       "count  425079.000000  425079.000000  425079.000000  4.250790e+05   \n",
       "mean       14.215242      92.496602       2.363725  2.916884e+09   \n",
       "std         8.775787     178.648894       1.301010  2.529851e+06   \n",
       "min        -2.000000       1.000000       0.500000  2.911010e+09   \n",
       "25%         7.000000      30.000000       1.500000  2.914013e+09   \n",
       "50%        14.000000      56.000000       2.000000  2.917011e+09   \n",
       "75%        21.000000      87.000000       3.250000  2.920011e+09   \n",
       "max        46.000000    2057.000000       5.250000  2.920013e+09   \n",
       "\n",
       "               지하철역수       거래금액(만원)  \n",
       "count  425079.000000  425079.000000  \n",
       "mean        0.169841   16811.097775  \n",
       "std         0.493604   12483.377248  \n",
       "min         0.000000    1200.000000  \n",
       "25%         0.000000    8700.000000  \n",
       "50%         0.000000   13300.000000  \n",
       "75%         0.000000   20800.000000  \n",
       "max         2.000000  213000.000000  "
      ]
     },
     "execution_count": 7,
     "metadata": {},
     "output_type": "execute_result"
    }
   ],
   "source": [
    "data.describe()"
   ]
  },
  {
   "cell_type": "markdown",
   "id": "ff33e027",
   "metadata": {},
   "source": [
    "## 1. 상관관계 분석"
   ]
  },
  {
   "cell_type": "code",
   "execution_count": 4,
   "id": "2055a7d6",
   "metadata": {},
   "outputs": [],
   "source": [
    "cont_col=[\"전용면적(㎡)\",'계약년월','층','건축나이','거래건수','기준금리','법정동코드','지하철역수','거래금액(만원)']"
   ]
  },
  {
   "cell_type": "code",
   "execution_count": 5,
   "id": "1a5fc675",
   "metadata": {},
   "outputs": [
    {
     "data": {
      "text/html": [
       "<div>\n",
       "<style scoped>\n",
       "    .dataframe tbody tr th:only-of-type {\n",
       "        vertical-align: middle;\n",
       "    }\n",
       "\n",
       "    .dataframe tbody tr th {\n",
       "        vertical-align: top;\n",
       "    }\n",
       "\n",
       "    .dataframe thead th {\n",
       "        text-align: right;\n",
       "    }\n",
       "</style>\n",
       "<table border=\"1\" class=\"dataframe\">\n",
       "  <thead>\n",
       "    <tr style=\"text-align: right;\">\n",
       "      <th></th>\n",
       "      <th>전용면적(㎡)</th>\n",
       "      <th>계약년월</th>\n",
       "      <th>층</th>\n",
       "      <th>건축나이</th>\n",
       "      <th>거래건수</th>\n",
       "      <th>기준금리</th>\n",
       "      <th>법정동코드</th>\n",
       "      <th>지하철역수</th>\n",
       "      <th>거래금액(만원)</th>\n",
       "    </tr>\n",
       "  </thead>\n",
       "  <tbody>\n",
       "    <tr>\n",
       "      <th>전용면적(㎡)</th>\n",
       "      <td>1.000000</td>\n",
       "      <td>-0.025258</td>\n",
       "      <td>0.057064</td>\n",
       "      <td>-0.257228</td>\n",
       "      <td>-0.003591</td>\n",
       "      <td>-0.012712</td>\n",
       "      <td>-0.098585</td>\n",
       "      <td>0.006404</td>\n",
       "      <td>0.603965</td>\n",
       "    </tr>\n",
       "    <tr>\n",
       "      <th>계약년월</th>\n",
       "      <td>-0.025258</td>\n",
       "      <td>1.000000</td>\n",
       "      <td>0.049202</td>\n",
       "      <td>0.412341</td>\n",
       "      <td>-0.254658</td>\n",
       "      <td>-0.778777</td>\n",
       "      <td>-0.042408</td>\n",
       "      <td>0.008168</td>\n",
       "      <td>0.467506</td>\n",
       "    </tr>\n",
       "    <tr>\n",
       "      <th>층</th>\n",
       "      <td>0.057064</td>\n",
       "      <td>0.049202</td>\n",
       "      <td>1.000000</td>\n",
       "      <td>-0.158252</td>\n",
       "      <td>0.010151</td>\n",
       "      <td>-0.036453</td>\n",
       "      <td>-0.016451</td>\n",
       "      <td>-0.040906</td>\n",
       "      <td>0.155825</td>\n",
       "    </tr>\n",
       "    <tr>\n",
       "      <th>건축나이</th>\n",
       "      <td>-0.257228</td>\n",
       "      <td>0.412341</td>\n",
       "      <td>-0.158252</td>\n",
       "      <td>1.000000</td>\n",
       "      <td>-0.191420</td>\n",
       "      <td>-0.306744</td>\n",
       "      <td>-0.130242</td>\n",
       "      <td>0.070469</td>\n",
       "      <td>-0.247848</td>\n",
       "    </tr>\n",
       "    <tr>\n",
       "      <th>거래건수</th>\n",
       "      <td>-0.003591</td>\n",
       "      <td>-0.254658</td>\n",
       "      <td>0.010151</td>\n",
       "      <td>-0.191420</td>\n",
       "      <td>1.000000</td>\n",
       "      <td>0.152610</td>\n",
       "      <td>0.141541</td>\n",
       "      <td>-0.067000</td>\n",
       "      <td>-0.118703</td>\n",
       "    </tr>\n",
       "    <tr>\n",
       "      <th>기준금리</th>\n",
       "      <td>-0.012712</td>\n",
       "      <td>-0.778777</td>\n",
       "      <td>-0.036453</td>\n",
       "      <td>-0.306744</td>\n",
       "      <td>0.152610</td>\n",
       "      <td>1.000000</td>\n",
       "      <td>0.006464</td>\n",
       "      <td>0.005351</td>\n",
       "      <td>-0.370907</td>\n",
       "    </tr>\n",
       "    <tr>\n",
       "      <th>법정동코드</th>\n",
       "      <td>-0.098585</td>\n",
       "      <td>-0.042408</td>\n",
       "      <td>-0.016451</td>\n",
       "      <td>-0.130242</td>\n",
       "      <td>0.141541</td>\n",
       "      <td>0.006464</td>\n",
       "      <td>1.000000</td>\n",
       "      <td>-0.250017</td>\n",
       "      <td>-0.103370</td>\n",
       "    </tr>\n",
       "    <tr>\n",
       "      <th>지하철역수</th>\n",
       "      <td>0.006404</td>\n",
       "      <td>0.008168</td>\n",
       "      <td>-0.040906</td>\n",
       "      <td>0.070469</td>\n",
       "      <td>-0.067000</td>\n",
       "      <td>0.005351</td>\n",
       "      <td>-0.250017</td>\n",
       "      <td>1.000000</td>\n",
       "      <td>0.011752</td>\n",
       "    </tr>\n",
       "    <tr>\n",
       "      <th>거래금액(만원)</th>\n",
       "      <td>0.603965</td>\n",
       "      <td>0.467506</td>\n",
       "      <td>0.155825</td>\n",
       "      <td>-0.247848</td>\n",
       "      <td>-0.118703</td>\n",
       "      <td>-0.370907</td>\n",
       "      <td>-0.103370</td>\n",
       "      <td>0.011752</td>\n",
       "      <td>1.000000</td>\n",
       "    </tr>\n",
       "  </tbody>\n",
       "</table>\n",
       "</div>"
      ],
      "text/plain": [
       "           전용면적(㎡)      계약년월         층      건축나이      거래건수      기준금리  \\\n",
       "전용면적(㎡)   1.000000 -0.025258  0.057064 -0.257228 -0.003591 -0.012712   \n",
       "계약년월     -0.025258  1.000000  0.049202  0.412341 -0.254658 -0.778777   \n",
       "층         0.057064  0.049202  1.000000 -0.158252  0.010151 -0.036453   \n",
       "건축나이     -0.257228  0.412341 -0.158252  1.000000 -0.191420 -0.306744   \n",
       "거래건수     -0.003591 -0.254658  0.010151 -0.191420  1.000000  0.152610   \n",
       "기준금리     -0.012712 -0.778777 -0.036453 -0.306744  0.152610  1.000000   \n",
       "법정동코드    -0.098585 -0.042408 -0.016451 -0.130242  0.141541  0.006464   \n",
       "지하철역수     0.006404  0.008168 -0.040906  0.070469 -0.067000  0.005351   \n",
       "거래금액(만원)  0.603965  0.467506  0.155825 -0.247848 -0.118703 -0.370907   \n",
       "\n",
       "             법정동코드     지하철역수  거래금액(만원)  \n",
       "전용면적(㎡)  -0.098585  0.006404  0.603965  \n",
       "계약년월     -0.042408  0.008168  0.467506  \n",
       "층        -0.016451 -0.040906  0.155825  \n",
       "건축나이     -0.130242  0.070469 -0.247848  \n",
       "거래건수      0.141541 -0.067000 -0.118703  \n",
       "기준금리      0.006464  0.005351 -0.370907  \n",
       "법정동코드     1.000000 -0.250017 -0.103370  \n",
       "지하철역수    -0.250017  1.000000  0.011752  \n",
       "거래금액(만원) -0.103370  0.011752  1.000000  "
      ]
     },
     "execution_count": 5,
     "metadata": {},
     "output_type": "execute_result"
    }
   ],
   "source": [
    "data[cont_col].corr()"
   ]
  },
  {
   "cell_type": "code",
   "execution_count": 6,
   "id": "99f709c8",
   "metadata": {},
   "outputs": [
    {
     "data": {
      "text/plain": [
       "거래금액(만원)    1.000000\n",
       "전용면적(㎡)     0.603965\n",
       "계약년월        0.467506\n",
       "기준금리       -0.370907\n",
       "건축나이       -0.247848\n",
       "층           0.155825\n",
       "거래건수       -0.118703\n",
       "법정동코드      -0.103370\n",
       "지하철역수       0.011752\n",
       "Name: 거래금액(만원), dtype: float64"
      ]
     },
     "execution_count": 6,
     "metadata": {},
     "output_type": "execute_result"
    }
   ],
   "source": [
    "data[cont_col].corr()['거래금액(만원)'].sort_values(key=lambda x: abs(x), ascending=False)"
   ]
  },
  {
   "cell_type": "code",
   "execution_count": 7,
   "id": "5a783c6c",
   "metadata": {},
   "outputs": [
    {
     "data": {
      "text/plain": [
       "<Axes: >"
      ]
     },
     "execution_count": 7,
     "metadata": {},
     "output_type": "execute_result"
    },
    {
     "data": {
      "image/png": "[encoded data removed]",
      "text/plain": [
       "<Figure size 2000x700 with 2 Axes>"
      ]
     },
     "metadata": {},
     "output_type": "display_data"
    }
   ],
   "source": [
    "plt.figure(figsize=(20,7))\n",
    "sns.heatmap(data[cont_col].corr(), annot=True, fmt=\".2f\", cmap=\"Blues\")"
   ]
  },
  {
   "cell_type": "markdown",
   "id": "660d873b",
   "metadata": {},
   "source": [
    "## 2.통계적 유의성"
   ]
  },
  {
   "cell_type": "code",
   "execution_count": 17,
   "id": "c97180d8",
   "metadata": {},
   "outputs": [],
   "source": [
    "import statsmodels.api as sm\n",
    "from sklearn.model_selection import train_test_split"
   ]
  },
  {
   "cell_type": "code",
   "execution_count": 18,
   "id": "d69b8741",
   "metadata": {},
   "outputs": [],
   "source": [
    "X_train, X_test, y_train, y_test = train_test_split( data.drop(['거래금액(만원)','단지명','계약날짜','계약일'], axis=1), data['거래금액(만원)'], test_size=0.2, random_state=42)"
   ]
  },
  {
   "cell_type": "code",
   "execution_count": 19,
   "id": "5cf887ee",
   "metadata": {},
   "outputs": [
    {
     "name": "stdout",
     "output_type": "stream",
     "text": [
      "                            OLS Regression Results                            \n",
      "==============================================================================\n",
      "Dep. Variable:               거래금액(만원)   R-squared:                       0.713\n",
      "Model:                            OLS   Adj. R-squared:                  0.713\n",
      "Method:                 Least Squares   F-statistic:                 1.057e+05\n",
      "Date:                Tue, 08 Aug 2023   Prob (F-statistic):               0.00\n",
      "Time:                        14:35:17   Log-Likelihood:            -3.4783e+06\n",
      "No. Observations:              340063   AIC:                         6.957e+06\n",
      "Df Residuals:                  340054   BIC:                         6.957e+06\n",
      "Df Model:                           8                                         \n",
      "Covariance Type:            nonrobust                                         \n",
      "==============================================================================\n",
      "                 coef    std err          t      P>|t|      [0.025      0.975]\n",
      "------------------------------------------------------------------------------\n",
      "const      -2.311e+06   1.61e+04   -143.724      0.000   -2.34e+06   -2.28e+06\n",
      "전용면적(㎡)      260.7747      0.490    531.734      0.000     259.813     261.736\n",
      "계약년월          16.4185      0.039    417.315      0.000      16.341      16.496\n",
      "층             78.9763      2.163     36.518      0.000      74.738      83.215\n",
      "건축나이        -546.7591      1.547   -353.457      0.000    -549.791    -543.727\n",
      "거래건수          -1.2710      0.067    -18.837      0.000      -1.403      -1.139\n",
      "기준금리         290.8673     14.136     20.577      0.000     263.161     318.573\n",
      "법정동코드         -0.0003    4.8e-06    -70.778      0.000      -0.000      -0.000\n",
      "지하철역수        326.8421     24.103     13.560      0.000     279.602     374.083\n",
      "==============================================================================\n",
      "Omnibus:                   284775.801   Durbin-Watson:                   2.003\n",
      "Prob(Omnibus):                  0.000   Jarque-Bera (JB):         17617002.680\n",
      "Skew:                           3.668   Prob(JB):                         0.00\n",
      "Kurtosis:                      37.489   Cond. No.                     4.08e+12\n",
      "==============================================================================\n",
      "\n",
      "Notes:\n",
      "[1] Standard Errors assume that the covariance matrix of the errors is correctly specified.\n",
      "[2] The condition number is large, 4.08e+12. This might indicate that there are\n",
      "strong multicollinearity or other numerical problems.\n"
     ]
    }
   ],
   "source": [
    "X_train_const = sm.add_constant(X_train)\n",
    "\n",
    "model = sm.OLS(y_train, X_train_const).fit()\n",
    "print(model.summary())"
   ]
  },
  {
   "cell_type": "markdown",
   "id": "4a98a4dd",
   "metadata": {},
   "source": [
    "P>|t|가 0.001이하가아닌 계약일은 차후 모델링에 제외함."
   ]
  },
  {
   "cell_type": "markdown",
   "id": "ad3f680d",
   "metadata": {},
   "source": [
    "# 선형분석"
   ]
  },
  {
   "cell_type": "code",
   "execution_count": null,
   "id": "87d9ffa0",
   "metadata": {},
   "outputs": [],
   "source": []
  },
  {
   "cell_type": "code",
   "execution_count": 20,
   "id": "8b9ae446",
   "metadata": {},
   "outputs": [],
   "source": [
    "from sklearn.linear_model import LinearRegression"
   ]
  },
  {
   "cell_type": "code",
   "execution_count": 21,
   "id": "2a83f42b",
   "metadata": {},
   "outputs": [],
   "source": [
    "lrmodel= LinearRegression()"
   ]
  },
  {
   "cell_type": "code",
   "execution_count": 22,
   "id": "4cd0863b",
   "metadata": {},
   "outputs": [
    {
     "data": {
      "text/html": [
       "<style>#sk-container-id-1 {color: black;}#sk-container-id-1 pre{padding: 0;}#sk-container-id-1 div.sk-toggleable {background-color: white;}#sk-container-id-1 label.sk-toggleable__label {cursor: pointer;display: block;width: 100%;margin-bottom: 0;padding: 0.3em;box-sizing: border-box;text-align: center;}#sk-container-id-1 label.sk-toggleable__label-arrow:before {content: \"▸\";float: left;margin-right: 0.25em;color: #696969;}#sk-container-id-1 label.sk-toggleable__label-arrow:hover:before {color: black;}#sk-container-id-1 div.sk-estimator:hover label.sk-toggleable__label-arrow:before {color: black;}#sk-container-id-1 div.sk-toggleable__content {max-height: 0;max-width: 0;overflow: hidden;text-align: left;background-color: #f0f8ff;}#sk-container-id-1 div.sk-toggleable__content pre {margin: 0.2em;color: black;border-radius: 0.25em;background-color: #f0f8ff;}#sk-container-id-1 input.sk-toggleable__control:checked~div.sk-toggleable__content {max-height: 200px;max-width: 100%;overflow: auto;}#sk-container-id-1 input.sk-toggleable__control:checked~label.sk-toggleable__label-arrow:before {content: \"▾\";}#sk-container-id-1 div.sk-estimator input.sk-toggleable__control:checked~label.sk-toggleable__label {background-color: #d4ebff;}#sk-container-id-1 div.sk-label input.sk-toggleable__control:checked~label.sk-toggleable__label {background-color: #d4ebff;}#sk-container-id-1 input.sk-hidden--visually {border: 0;clip: rect(1px 1px 1px 1px);clip: rect(1px, 1px, 1px, 1px);height: 1px;margin: -1px;overflow: hidden;padding: 0;position: absolute;width: 1px;}#sk-container-id-1 div.sk-estimator {font-family: monospace;background-color: #f0f8ff;border: 1px dotted black;border-radius: 0.25em;box-sizing: border-box;margin-bottom: 0.5em;}#sk-container-id-1 div.sk-estimator:hover {background-color: #d4ebff;}#sk-container-id-1 div.sk-parallel-item::after {content: \"\";width: 100%;border-bottom: 1px solid gray;flex-grow: 1;}#sk-container-id-1 div.sk-label:hover label.sk-toggleable__label {background-color: #d4ebff;}#sk-container-id-1 div.sk-serial::before {content: \"\";position: absolute;border-left: 1px solid gray;box-sizing: border-box;top: 0;bottom: 0;left: 50%;z-index: 0;}#sk-container-id-1 div.sk-serial {display: flex;flex-direction: column;align-items: center;background-color: white;padding-right: 0.2em;padding-left: 0.2em;position: relative;}#sk-container-id-1 div.sk-item {position: relative;z-index: 1;}#sk-container-id-1 div.sk-parallel {display: flex;align-items: stretch;justify-content: center;background-color: white;position: relative;}#sk-container-id-1 div.sk-item::before, #sk-container-id-1 div.sk-parallel-item::before {content: \"\";position: absolute;border-left: 1px solid gray;box-sizing: border-box;top: 0;bottom: 0;left: 50%;z-index: -1;}#sk-container-id-1 div.sk-parallel-item {display: flex;flex-direction: column;z-index: 1;position: relative;background-color: white;}#sk-container-id-1 div.sk-parallel-item:first-child::after {align-self: flex-end;width: 50%;}#sk-container-id-1 div.sk-parallel-item:last-child::after {align-self: flex-start;width: 50%;}#sk-container-id-1 div.sk-parallel-item:only-child::after {width: 0;}#sk-container-id-1 div.sk-dashed-wrapped {border: 1px dashed gray;margin: 0 0.4em 0.5em 0.4em;box-sizing: border-box;padding-bottom: 0.4em;background-color: white;}#sk-container-id-1 div.sk-label label {font-family: monospace;font-weight: bold;display: inline-block;line-height: 1.2em;}#sk-container-id-1 div.sk-label-container {text-align: center;}#sk-container-id-1 div.sk-container {/* jupyter's `normalize.less` sets `[hidden] { display: none; }` but bootstrap.min.css set `[hidden] { display: none !important; }` so we also need the `!important` here to be able to override the default hidden behavior on the sphinx rendered scikit-learn.org. See: https://github.com/scikit-learn/scikit-learn/issues/21755 */display: inline-block !important;position: relative;}#sk-container-id-1 div.sk-text-repr-fallback {display: none;}</style><div id=\"sk-container-id-1\" class=\"sk-top-container\"><div class=\"sk-text-repr-fallback\"><pre>LinearRegression()</pre><b>In a Jupyter environment, please rerun this cell to show the HTML representation or trust the notebook. <br />On GitHub, the HTML representation is unable to render, please try loading this page with nbviewer.org.</b></div><div class=\"sk-container\" hidden><div class=\"sk-item\"><div class=\"sk-estimator sk-toggleable\"><input class=\"sk-toggleable__control sk-hidden--visually\" id=\"sk-estimator-id-1\" type=\"checkbox\" checked><label for=\"sk-estimator-id-1\" class=\"sk-toggleable__label sk-toggleable__label-arrow\">LinearRegression</label><div class=\"sk-toggleable__content\"><pre>LinearRegression()</pre></div></div></div></div></div>"
      ],
      "text/plain": [
       "LinearRegression()"
      ]
     },
     "execution_count": 22,
     "metadata": {},
     "output_type": "execute_result"
    }
   ],
   "source": [
    "lrmodel.fit(X_train,y_train)"
   ]
  },
  {
   "cell_type": "code",
   "execution_count": 25,
   "id": "54975e43",
   "metadata": {
    "scrolled": true
   },
   "outputs": [
    {
     "name": "stdout",
     "output_type": "stream",
     "text": [
      "Mean Squared Error: 43519839.461260915\n",
      "Route Mean Squared Error: 6596.956833363465\n",
      "R-squared: 0.7169011377434982\n"
     ]
    }
   ],
   "source": [
    "from sklearn.metrics import mean_squared_error, r2_score\n",
    "mse = mean_squared_error(y_test,lrmodel.predict(X_test))\n",
    "rmse = np.sqrt(mse)\n",
    "r2 = r2_score(y_test, lrmodel.predict(X_test))\n",
    "print(\"Mean Squared Error:\", mse)\n",
    "print('Route Mean Squared Error:',rmse)\n",
    "print(\"R-squared:\", r2)# mse는 변화가 거의 없으나 r2값의 향상이 매우높게됨(0.45->0.71)"
   ]
  },
  {
   "cell_type": "code",
   "execution_count": 48,
   "id": "e489e2b5",
   "metadata": {},
   "outputs": [
    {
     "data": {
      "text/html": [
       "<div>\n",
       "<style scoped>\n",
       "    .dataframe tbody tr th:only-of-type {\n",
       "        vertical-align: middle;\n",
       "    }\n",
       "\n",
       "    .dataframe tbody tr th {\n",
       "        vertical-align: top;\n",
       "    }\n",
       "\n",
       "    .dataframe thead th {\n",
       "        text-align: right;\n",
       "    }\n",
       "</style>\n",
       "<table border=\"1\" class=\"dataframe\">\n",
       "  <thead>\n",
       "    <tr style=\"text-align: right;\">\n",
       "      <th></th>\n",
       "      <th>전용면적(㎡)</th>\n",
       "      <th>계약년월</th>\n",
       "      <th>층</th>\n",
       "      <th>건축나이</th>\n",
       "      <th>거래건수</th>\n",
       "      <th>기준금리</th>\n",
       "      <th>법정동코드</th>\n",
       "      <th>지하철역수</th>\n",
       "    </tr>\n",
       "  </thead>\n",
       "  <tbody>\n",
       "    <tr>\n",
       "      <th>46644</th>\n",
       "      <td>71.5672</td>\n",
       "      <td>202011</td>\n",
       "      <td>10</td>\n",
       "      <td>6</td>\n",
       "      <td>41</td>\n",
       "      <td>0.5</td>\n",
       "      <td>2920010700</td>\n",
       "      <td>0</td>\n",
       "    </tr>\n",
       "    <tr>\n",
       "      <th>329695</th>\n",
       "      <td>59.7600</td>\n",
       "      <td>200910</td>\n",
       "      <td>15</td>\n",
       "      <td>16</td>\n",
       "      <td>95</td>\n",
       "      <td>2.0</td>\n",
       "      <td>2915511500</td>\n",
       "      <td>0</td>\n",
       "    </tr>\n",
       "  </tbody>\n",
       "</table>\n",
       "</div>"
      ],
      "text/plain": [
       "        전용면적(㎡)    계약년월   층  건축나이  거래건수  기준금리       법정동코드  지하철역수\n",
       "46644   71.5672  202011  10     6    41   0.5  2920010700      0\n",
       "329695  59.7600  200910  15    16    95   2.0  2915511500      0"
      ]
     },
     "execution_count": 48,
     "metadata": {},
     "output_type": "execute_result"
    }
   ],
   "source": [
    "X_train.head(2)"
   ]
  },
  {
   "cell_type": "code",
   "execution_count": 45,
   "id": "b1ad3242",
   "metadata": {},
   "outputs": [
    {
     "name": "stdout",
     "output_type": "stream",
     "text": [
      "광주광역시 남구 봉선동\n"
     ]
    }
   ],
   "source": [
    "dong= input()\n",
    "dong_code=data['법정동코드'][data['시군구']== dong].unique()[0]\n",
    "X_predict=[[84,201611,10,7,50,1.25,dong_code,0]]"
   ]
  },
  {
   "cell_type": "code",
   "execution_count": 46,
   "id": "39529c0c",
   "metadata": {},
   "outputs": [
    {
     "data": {
      "text/plain": [
       "[[84, 201611, 10, 7, 50, 1.25, 2915511500, 0]]"
      ]
     },
     "execution_count": 46,
     "metadata": {},
     "output_type": "execute_result"
    }
   ],
   "source": [
    "X_predict"
   ]
  },
  {
   "cell_type": "code",
   "execution_count": 47,
   "id": "1d2c54f5",
   "metadata": {},
   "outputs": [
    {
     "name": "stdout",
     "output_type": "stream",
     "text": [
      "[27136.24382585]\n"
     ]
    },
    {
     "name": "stderr",
     "output_type": "stream",
     "text": [
      "C:\\Users\\gjaischool1\\anaconda3\\envs\\machine\\lib\\site-packages\\sklearn\\base.py:464: UserWarning: X does not have valid feature names, but LinearRegression was fitted with feature names\n",
      "  warnings.warn(\n"
     ]
    }
   ],
   "source": [
    "print(lrmodel.predict(X_predict))"
   ]
  },
  {
   "cell_type": "code",
   "execution_count": 49,
   "id": "bc2df1ea",
   "metadata": {},
   "outputs": [],
   "source": [
    "import pickle\n",
    "with open('lineartest.pkl', 'wb') as model_file:\n",
    "    pickle.dump(lrmodel, model_file)"
   ]
  },
  {
   "cell_type": "code",
   "execution_count": 54,
   "id": "eb08d9d0",
   "metadata": {},
   "outputs": [
    {
     "name": "stdout",
     "output_type": "stream",
     "text": [
      "광주광역시 남구 봉선동\n"
     ]
    },
    {
     "name": "stderr",
     "output_type": "stream",
     "text": [
      "C:\\Users\\gjaischool1\\anaconda3\\envs\\machine\\lib\\site-packages\\sklearn\\base.py:464: UserWarning: X does not have valid feature names, but LinearRegression was fitted with feature names\n",
      "  warnings.warn(\n"
     ]
    }
   ],
   "source": [
    "with open('lineartest.pkl', 'rb') as model_file:\n",
    "    loaded_model = pickle.load(model_file)\n",
    "\n",
    "# 불러온 모델 사용\n",
    "dong= input()\n",
    "dong_code=data['법정동코드'][data['시군구']== dong].unique()[0]\n",
    "X_predict=[[84,202311,10,7,50,1.25,dong_code,0]]\n",
    "predictions = loaded_model.predict(X_predict)"
   ]
  },
  {
   "cell_type": "code",
   "execution_count": 55,
   "id": "ee892ddb",
   "metadata": {},
   "outputs": [
    {
     "data": {
      "text/plain": [
       "array([38629.18924124])"
      ]
     },
     "execution_count": 55,
     "metadata": {},
     "output_type": "execute_result"
    }
   ],
   "source": [
    "predictions"
   ]
  }
 ],
 "metadata": {
  "kernelspec": {
   "display_name": "Python 3 (ipykernel)",
   "language": "python",
   "name": "python3"
  },
  "language_info": {
   "codemirror_mode": {
    "name": "ipython",
    "version": 3
   },
   "file_extension": ".py",
   "mimetype": "text/x-python",
   "name": "python",
   "nbconvert_exporter": "python",
   "pygments_lexer": "ipython3",
   "version": "3.8.0"
  }
 },
 "nbformat": 4,
 "nbformat_minor": 5
}
